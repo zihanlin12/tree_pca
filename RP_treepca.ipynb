{
 "cells": [
  {
   "cell_type": "code",
   "execution_count": 1,
   "metadata": {
    "collapsed": true
   },
   "outputs": [],
   "source": [
    "import numpy as np\n",
    "data = np.load('C:\\\\Users\\\\zihan\\\\Desktop\\\\Files\\\\Research\\\\bryankelly_without_missing.npz')\n",
    "processed_data = data['processed_data']\n",
    "T, N, M = processed_data.shape\n",
    "returns = processed_data[:, :, 1]\n",
    "# The dimension of returns: T*N\n",
    "chara_data = processed_data[:, :, [8, 17, 33, 37]]"
   ]
  },
  {
   "cell_type": "code",
   "execution_count": 3,
   "metadata": {},
   "outputs": [
    {
     "name": "stdout",
     "output_type": "stream",
     "text": [
      "Have gone through 0\n"
     ]
    },
    {
     "name": "stdout",
     "output_type": "stream",
     "text": [
      "Have gone through 20\n"
     ]
    },
    {
     "name": "stdout",
     "output_type": "stream",
     "text": [
      "Have gone through 40\n"
     ]
    },
    {
     "name": "stdout",
     "output_type": "stream",
     "text": [
      "Have gone through 60\n"
     ]
    },
    {
     "name": "stdout",
     "output_type": "stream",
     "text": [
      "Have gone through 80\n"
     ]
    },
    {
     "name": "stdout",
     "output_type": "stream",
     "text": [
      "Have gone through 100\n"
     ]
    },
    {
     "name": "stdout",
     "output_type": "stream",
     "text": [
      "Have gone through 120\n"
     ]
    },
    {
     "name": "stdout",
     "output_type": "stream",
     "text": [
      "Have gone through 140\n"
     ]
    },
    {
     "name": "stdout",
     "output_type": "stream",
     "text": [
      "Have gone through 160\n"
     ]
    },
    {
     "name": "stdout",
     "output_type": "stream",
     "text": [
      "Have gone through 180\n"
     ]
    },
    {
     "name": "stdout",
     "output_type": "stream",
     "text": [
      "Have gone through 200\n"
     ]
    },
    {
     "name": "stdout",
     "output_type": "stream",
     "text": [
      "Have gone through 220\n"
     ]
    },
    {
     "name": "stdout",
     "output_type": "stream",
     "text": [
      "Have gone through 240\n"
     ]
    },
    {
     "name": "stdout",
     "output_type": "stream",
     "text": [
      "Have gone through 260\n"
     ]
    },
    {
     "name": "stdout",
     "output_type": "stream",
     "text": [
      "Have gone through 280\n"
     ]
    },
    {
     "name": "stdout",
     "output_type": "stream",
     "text": [
      "Have gone through 300\n"
     ]
    },
    {
     "name": "stdout",
     "output_type": "stream",
     "text": [
      "Have gone through 320\n"
     ]
    },
    {
     "name": "stdout",
     "output_type": "stream",
     "text": [
      "Have gone through 340\n"
     ]
    }
   ],
   "source": [
    "def get_tree(depth, res, value_array, L, d, chara_data, parent):\n",
    "    if depth == d:\n",
    "        final_array = np.ones([N, 1])\n",
    "        for k in range(L):\n",
    "            temp = value_array[:, k].reshape([N, 1])\n",
    "            final_array = final_array * temp\n",
    "        print(np.sum(final_array))\n",
    "        if np.sum(final_array) < 10 ** (-3):\n",
    "            print(final_array)\n",
    "        final_array = 1.0 * final_array / np.sum(final_array)\n",
    "\n",
    "        # if np.sum(final_array)<10**(-3):\n",
    "        #     print (value_array)\n",
    "        res.append([final_array])\n",
    "    else:\n",
    "        for i in range(L):\n",
    "            for j in range(2):\n",
    "                if len(parent) != 0:\n",
    "                    index = np.ones((N), dtype=bool)\n",
    "                    for k in parent:\n",
    "                        index = (index) & ((value_array[:, k] != 0))\n",
    "                    data_median = np.median(chara_data[i, index])\n",
    "                else:\n",
    "                    index = (value_array[:, i] != 0)\n",
    "                    data_median = np.median(chara_data[i, index])\n",
    "                temp_array = value_array.copy()\n",
    "                parent.append(i)\n",
    "                if j == 0:\n",
    "                    temp_array[(index) & (chara_data[i, :] <= data_median), i] = 0\n",
    "                    get_tree(depth + 1, res, temp_array, L, d, chara_data, parent)\n",
    "                elif j == 1:\n",
    "                    temp_array[(index) & (chara_data[i, :] >= data_median), i] = 0\n",
    "                    get_tree(depth + 1, res, temp_array, L, d, chara_data, parent)\n",
    "                parent.pop()\n",
    "portfolio = np.zeros((T - 1, (2*4)**4))\n",
    "for i in range(T-1):\n",
    "    if i%20==0:\n",
    "            print ('Have gone through %d' %(i))\n",
    "    res = []\n",
    "# The first parameter is number of characteristics, and the second is the depth of the tree.\n",
    "    get_tree(0, res, np.ones([N, 4]), 4, 4, chara_data[i,:].T)\n",
    "    # output = np.array(res[0][0])\n",
    "    # output = np.reshape(output, [N, 1])\n",
    "    # for j in range(1, len(res)):\n",
    "    #     output = np.append(output, np.array(res[j][0]), axis=1)\n",
    "    # portfolio[i, :] = returns[i + 1, :].dot(output)\n",
    "    for j in range(len(res)):\n",
    "        portfolio[i][j]= returns[i+1,:].dot(res[j])"
   ]
  },
  {
   "cell_type": "code",
   "execution_count": 8,
   "metadata": {},
   "outputs": [
    {
     "name": "stdout",
     "output_type": "stream",
     "text": [
      "&0.30&0.30&0.34&0.45&0.45&0.48&0.50&0.51&0.52&0.52&0.52&0.54&0.55&0.56&0.58&0.58&0.59&0.62&0.62\n"
     ]
    }
   ],
   "source": [
    "gamma= 100\n",
    "# portfolio_demean = portfolio - np.mean(portfolio, axis=0)\n",
    "# Dimension of portfolio: T*M\n",
    "covmat = portfolio.T.dot(portfolio) \n",
    "portfolio_mean= np.sum(portfolio, axis= 0, keepdims=True)\n",
    "covmat= covmat+ portfolio_mean.T.dot(portfolio_mean)/(T-1)*gamma\n",
    "variance, loading = np.linalg.eig(covmat)\n",
    "output= []\n",
    "for K in range(1, 20):\n",
    "    loading_chosen = loading[:, :K]\n",
    "    Factor = portfolio.dot(loading_chosen)\n",
    "    mu = np.mean(Factor, axis=0)\n",
    "    covmat_factor = np.cov(Factor.T)\n",
    "    if K==1:\n",
    "        output.append (abs(mu)*covmat_factor**(-1/2))\n",
    "    else:\n",
    "        output.append(np.sqrt(np.dot(np.dot(mu, np.linalg.inv(covmat_factor)), mu.T)))\n",
    "twodecimals = [\"&%.2f\" % np.real(v) for v in output]\n",
    "print (''.join(twodecimals))"
   ]
  },
  {
   "cell_type": "code",
   "execution_count": null,
   "metadata": {},
   "outputs": [],
   "source": []
  }
 ],
 "metadata": {
  "kernelspec": {
   "display_name": "Python 2",
   "language": "python",
   "name": "python2"
  },
  "language_info": {
   "codemirror_mode": {
    "name": "ipython",
    "version": 2
   },
   "file_extension": ".py",
   "mimetype": "text/x-python",
   "name": "python",
   "nbconvert_exporter": "python",
   "pygments_lexer": "ipython2",
   "version": "2.7.6"
  }
 },
 "nbformat": 4,
 "nbformat_minor": 0
}
