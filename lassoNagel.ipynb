{
 "cells": [
  {
   "cell_type": "code",
   "execution_count": 2,
   "metadata": {
    "collapsed": true
   },
   "outputs": [],
   "source": [
    "import numpy as np\n",
    "data = np.load('C:\\\\Users\\\\zihan\\\\Desktop\\\\Files\\\\Research\\\\bryankelly_without_missing.npz')\n",
    "processed_data = data['processed_data']\n",
    "T, N, M = processed_data.shape\n",
    "returns = processed_data[:, :, 1]\n",
    "# The dimension of returns: T*N\n",
    "chara_data = processed_data[:, :, [8, 17, 33, 37]]"
   ]
  },
  {
   "cell_type": "code",
   "execution_count": 3,
   "metadata": {
    "collapsed": true
   },
   "outputs": [
    {
     "name": "stdout",
     "output_type": "stream",
     "text": [
      "Have gone through 0\n"
     ]
    },
    {
     "name": "stdout",
     "output_type": "stream",
     "text": [
      "Have gone through 20\n"
     ]
    },
    {
     "name": "stdout",
     "output_type": "stream",
     "text": [
      "Have gone through 40\n"
     ]
    },
    {
     "name": "stdout",
     "output_type": "stream",
     "text": [
      "Have gone through 60\n"
     ]
    },
    {
     "name": "stdout",
     "output_type": "stream",
     "text": [
      "Have gone through 80\n"
     ]
    },
    {
     "name": "stdout",
     "output_type": "stream",
     "text": [
      "Have gone through 100\n"
     ]
    },
    {
     "name": "stdout",
     "output_type": "stream",
     "text": [
      "Have gone through 120\n"
     ]
    },
    {
     "name": "stdout",
     "output_type": "stream",
     "text": [
      "Have gone through 140\n"
     ]
    },
    {
     "name": "stdout",
     "output_type": "stream",
     "text": [
      "Have gone through 160\n"
     ]
    },
    {
     "name": "stdout",
     "output_type": "stream",
     "text": [
      "Have gone through 180\n"
     ]
    },
    {
     "name": "stdout",
     "output_type": "stream",
     "text": [
      "Have gone through 200\n"
     ]
    },
    {
     "name": "stdout",
     "output_type": "stream",
     "text": [
      "Have gone through 220\n"
     ]
    },
    {
     "name": "stdout",
     "output_type": "stream",
     "text": [
      "Have gone through 240\n"
     ]
    },
    {
     "name": "stdout",
     "output_type": "stream",
     "text": [
      "Have gone through 260\n"
     ]
    },
    {
     "name": "stdout",
     "output_type": "stream",
     "text": [
      "Have gone through 280\n"
     ]
    },
    {
     "name": "stdout",
     "output_type": "stream",
     "text": [
      "Have gone through 300\n"
     ]
    },
    {
     "name": "stdout",
     "output_type": "stream",
     "text": [
      "Have gone through 320\n"
     ]
    },
    {
     "name": "stdout",
     "output_type": "stream",
     "text": [
      "Have gone through 340\n"
     ]
    }
   ],
   "source": [
    "def get_tree(depth, res, nodetag, value_array, L, d, chara_data, oldlist):\n",
    "    if depth == d:\n",
    "        final_array = np.ones([N, 1])\n",
    "        for k in range(L):\n",
    "            temp = value_array[:, k].reshape([N, 1])\n",
    "            final_array = final_array * temp\n",
    "        res.append([final_array])\n",
    "        nodetag.append(oldlist)\n",
    "    else:\n",
    "        for i in range(L):\n",
    "            for j in range(2):\n",
    "                index = value_array[:, i] != 0\n",
    "                data_median = np.median(chara_data[i, index])\n",
    "                temp_array = value_array.copy()\n",
    "                newlist= list(oldlist)\n",
    "                newlist+=[(i,j)]\n",
    "                if j == 0:\n",
    "                    temp_array[(index) & (chara_data[i, :] <= data_median), i] = 0\n",
    "                    get_tree(depth + 1, res,nodetag, temp_array, L, d, chara_data, newlist)\n",
    "                elif j == 1:\n",
    "                    temp_array[(index) & (chara_data[i, :] >= data_median), i] = 0\n",
    "                    get_tree(depth + 1, res, nodetag, temp_array, L, d, chara_data, newlist)\n",
    "portfolio = np.zeros((T - 1, (2*4)**4))\n",
    "for i in range(T-1):\n",
    "    if i%20==0:\n",
    "            print ('Have gone through %d' %(i))\n",
    "    res = []\n",
    "    nodetag= []\n",
    "# The first parameter is number of characteristics, and the second is the depth of the tree.\n",
    "    get_tree(0, res, nodetag, np.ones([N, 4]), 4, 4, chara_data[i,:].T, [])\n",
    "    # output = np.array(res[0][0])\n",
    "    # output = np.reshape(output, [N, 1])\n",
    "    # for j in range(1, len(res)):\n",
    "    #     output = np.append(output, np.array(res[j][0]), axis=1)\n",
    "    # portfolio[i, :] = returns[i + 1, :].dot(output)\n",
    "    for j in range(len(res)):\n",
    "        portfolio[i][j]= returns[i+1,:].dot(res[j])"
   ]
  },
  {
   "cell_type": "code",
   "execution_count": 38,
   "metadata": {
    "collapsed": true
   },
   "outputs": [
    {
     "name": "stdout",
     "output_type": "stream",
     "text": [
      "."
     ]
    },
    {
     "name": "stderr",
     "output_type": "stream",
     "text": [
      "C:\\ProgramData\\Anaconda3\\lib\\site-packages\\sklearn\\linear_model\\least_angle.py:313: ConvergenceWarning: Regressors in active set degenerate. Dropping a regressor, after 2 iterations, i.e. alpha=1.459e-02, with an active set of 2 regressors, and the smallest cholesky pivot element being 2.220e-16. Reduce max_iter or increase eps parameters.\n  ConvergenceWarning)\nC:\\ProgramData\\Anaconda3\\lib\\site-packages\\sklearn\\linear_model\\least_angle.py:339: ConvergenceWarning: Early stopping the lars path, as the residues are small and the current value of alpha is no longer well controlled. 5 iterations, alpha=8.637e-03, previous alpha=7.294e-03, with an active set of 6 regressors.\n  ConvergenceWarning)\n"
     ]
    },
    {
     "data": {
      "image/png": "[encoded data removed]",
      "text/plain": [
       "<matplotlib.figure.Figure at 0x253d07a7f98>"
      ]
     },
     "metadata": {},
     "output_type": "display_data"
    }
   ],
   "source": [
    "Sigma= np.cov(portfolio.T)\n",
    "mu= np.mean(portfolio, axis= 0)\n",
    "from sklearn import linear_model\n",
    "import matplotlib.pyplot as plt\n",
    "import numpy as np\n",
    "alphas, _, coefs= linear_model.lars_path(Sigma, mu, method= 'lasso', alpha_min= 10**(-4),verbose=True)\n",
    "xx= np.sum(np.abs(coefs.T), axis= 1)\n",
    "xx/= xx[-1]\n",
    "plt.plot(xx, coefs.T)\n",
    "plt.show()\n",
    "plt.savefig('C:\\\\Users\\\\zihan\\\\Desktop\\\\Files\\\\Research\\\\books.png')"
   ]
  },
  {
   "cell_type": "code",
   "execution_count": 31,
   "metadata": {},
   "outputs": [
    {
     "name": "stdout",
     "output_type": "stream",
     "text": [
      "[ 0.         -0.          0.          0.         -0.          0.          0.\n -0.          0.         -0.          0.          0.         -0.         -0.\n  0.         -0.         -0.          0.         -0.         -0.         -0.\n -0.          0.          0.          0.         -0.          0.06900036\n  0.         -0.          0.          0.          0.          0.         -0.\n  0.          0.          0.          0.          0.         -0.         -0.\n -0.         -0.         -0.         -0.         -0.         -0.          0.\n  0.         -0.          0.          0.         -0.          0.         -0.\n  0.          0.          0.          0.          0.         -0.          0.\n  0.         -0.         -0.         -0.         -0.         -0.         -0.\n -0.         -0.         -0.         -0.         -0.         -0.         -0.\n -0.         -0.         -0.         -0.         -0.          0.         -0.\n -0.         -0.         -0.         -0.         -0.         -0.         -0.\n -0.         -0.         -0.         -0.         -0.         -0.         -0.\n -0.         -0.        ]\n-0.0170846618656\n"
     ]
    }
   ],
   "source": [
    "print (clf.coef_[1:100])\n",
    "print (clf.intercept_)"
   ]
  },
  {
   "cell_type": "code",
   "execution_count": null,
   "metadata": {},
   "outputs": [],
   "source": []
  }
 ],
 "metadata": {
  "kernelspec": {
   "display_name": "Python 2",
   "language": "python",
   "name": "python2"
  },
  "language_info": {
   "codemirror_mode": {
    "name": "ipython",
    "version": 2
   },
   "file_extension": ".py",
   "mimetype": "text/x-python",
   "name": "python",
   "nbconvert_exporter": "python",
   "pygments_lexer": "ipython2",
   "version": "2.7.6"
  }
 },
 "nbformat": 4,
 "nbformat_minor": 0
}
