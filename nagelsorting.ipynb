{
 "cells": [
  {
   "cell_type": "code",
   "execution_count": 132,
   "metadata": {
    "collapsed": true
   },
   "outputs": [
    {
     "name": "stdout",
     "output_type": "stream",
     "text": [
      "(360, 304, 42)\n"
     ]
    }
   ],
   "source": [
    "import numpy as np\n",
    "data = np.load('C:\\\\Users\\\\zihan\\\\Desktop\\\\Files\\\\Research\\\\bryankelly_without_missing.npz')\n",
    "processed_data = data['processed_data']\n",
    "print(processed_data.shape)\n",
    "T, N, M = processed_data.shape\n",
    "returns = processed_data[:, :, 1]\n",
    "# The dimension of returns: T*N\n",
    "chara_data = processed_data[:, :, 2:]\n",
    "for i in range(T):\n",
    "    for j in range(chara_data.shape[2]):\n",
    "        chara_data[i, :, j] = np.argsort(chara_data[i, :, j])\n",
    "        chara_data[i, :, j] = (chara_data[i, :, j] + 1) / (N + 1)\n",
    "        chara_data[i,:,j]= (chara_data[i,:,j]- np.mean(chara_data[i,:,j]))/np.sum(np.abs(chara_data[i,:,j]- np.mean(chara_data[i,:,j])))\n",
    "\n",
    "# The dimension of characteristics: "
   ]
  },
  {
   "cell_type": "code",
   "execution_count": 133,
   "metadata": {},
   "outputs": [
    {
     "name": "stdout",
     "output_type": "stream",
     "text": [
      "&0.06&0.06&0.09&0.09&0.09&0.10&0.10&0.10&0.13&0.13\n"
     ]
    }
   ],
   "source": [
    "# Get the interaction characteristics\n",
    "def getinteraction(vector):\n",
    "    output= np.zeros((int(len(vector)*(len(vector)+1)/2+2*len(vector))))\n",
    "    whichmatter= []\n",
    "    count= 0\n",
    "    for i in range(len(vector)):\n",
    "        for j in range(i, len(vector)):\n",
    "            output[count]= vector[i]*vector[j]\n",
    "            count+=1 \n",
    "            whichmatter+= [(i,j)]\n",
    "    for i in range(len(vector)):\n",
    "        output[count]= vector[i]\n",
    "        whichmatter+= [(i)]\n",
    "        count+= 1\n",
    "        output[count]= vector[i]**3\n",
    "        whichmatter+= [(i,i,i)]\n",
    "        count+= 1\n",
    "    return output, whichmatter\n"
   ]
  },
  {
   "cell_type": "code",
   "execution_count": 134,
   "metadata": {},
   "outputs": [
    {
     "name": "stdout",
     "output_type": "stream",
     "text": [
      "&0.06&0.06&0.09&0.09&0.09&0.10&0.10&0.10&0.13&0.13\n"
     ]
    }
   ],
   "source": [
    "def getMatrix(inputmatrix):\n",
    "    output= np.zeros((inputmatrix.shape[0],int(inputmatrix.shape[1]*(inputmatrix.shape[1]+1)/2+2*inputmatrix.shape[1])))\n",
    "    bound= int(inputmatrix.shape[1]*(inputmatrix.shape[1]+1)/2)\n",
    "    for i in range(inputmatrix.shape[0]):\n",
    "        output[i,:],_= getinteraction(inputmatrix[i,:])\n",
    "    # output[:,:bound]= output[:,:bound]- np.mean(output[:,:bound], axis= 0, keepdims= True)\n",
    "    # output[:,:bound]= output[:,:bound]/np.sum(np.abs(output[:,:bound]), axis= 0, keepdims= True)\n",
    "    # output= output- np.mean(output, axis= 0, keepdims= True)\n",
    "    # output= output/np.sum(np.abs(output), axis= 0, keepdims= True)\n",
    "    return output"
   ]
  },
  {
   "cell_type": "code",
   "execution_count": 135,
   "metadata": {},
   "outputs": [
    {
     "name": "stdout",
     "output_type": "stream",
     "text": [
      "&0.06&0.06&0.09&0.09&0.09&0.10&0.10&0.10&0.13&0.13\n"
     ]
    }
   ],
   "source": [
    "portfolio= np.zeros((T-1, int(chara_data.shape[2]*(chara_data.shape[2]+1)/2+2*chara_data.shape[2])))\n",
    "for i in range(T-1):\n",
    "    portfolio[i,:]= np.dot(returns[i+1,:], getMatrix(chara_data[i,:]))\n",
    "# portfolio= np.zeros((T-1, chara_data.shape[2]))\n",
    "# for i in range(T-1):\n",
    "#     portfolio[i,:]= np.dot(returns[i+1,:], (chara_data[i,:]))"
   ]
  },
  {
   "cell_type": "code",
   "execution_count": 136,
   "metadata": {},
   "outputs": [
    {
     "name": "stdout",
     "output_type": "stream",
     "text": [
      "&0.06&0.06&0.09&0.09&0.09&0.10&0.10&0.10&0.13&0.13\n"
     ]
    }
   ],
   "source": [
    "portfolio_demean = portfolio - np.mean(portfolio, axis=0)\n",
    "# Dimension of portfolio: T*M\n",
    "covmat = portfolio_demean.T.dot(portfolio_demean) / (T - 2)\n",
    "variance, loading = np.linalg.eig(covmat)\n",
    "output= []\n",
    "loading_chosen = loading[:, :11]\n",
    "Factor = portfolio.dot(loading_chosen)\n",
    "for i in range(1, 11):\n",
    "    mu = np.mean(Factor[:,:i], axis=0)\n",
    "    covmat_factor = np.cov(Factor[:,:i].T)\n",
    "    if i==1: \n",
    "        output.append (abs(mu)*covmat_factor**(-1/2))\n",
    "    else:\n",
    "        output.append(np.sqrt(np.dot(np.dot(mu, np.linalg.inv(covmat_factor)), mu.T)))\n",
    "twodecimals = [\"&%.2f\" % np.real(v) for v in output]\n",
    "print (''.join(twodecimals))\n"
   ]
  },
  {
   "cell_type": "code",
   "execution_count": 33,
   "metadata": {},
   "outputs": [
    {
     "name": "stdout",
     "output_type": "stream",
     "text": [
      "(360, 900)\n"
     ]
    }
   ],
   "source": [
    "print (portfolio.shape)"
   ]
  },
  {
   "cell_type": "code",
   "execution_count": 42,
   "metadata": {},
   "outputs": [
    {
     "name": "stdout",
     "output_type": "stream",
     "text": [
      "900\n"
     ]
    }
   ],
   "source": [
    "output,_= getinteraction(chara_data[0,0,:])\n",
    "print (np.count_nonzero(output))"
   ]
  },
  {
   "cell_type": "code",
   "execution_count": 131,
   "metadata": {},
   "outputs": [],
   "source": [
    "A=1.0*np.reshape(np.arange(6),(3,2))\n",
    "output= getMatrix(A)\n",
    "for i in range(3):\n",
    "    A[i,:]= (A[i,:]- np.mean(A[i,:]))/np.sum(np.abs(A[i,:]- np.mean(A[i,:])))"
   ]
  },
  {
   "cell_type": "code",
   "execution_count": 130,
   "metadata": {},
   "outputs": [
    {
     "name": "stdout",
     "output_type": "stream",
     "text": [
      "[[   0.    0.    1.    0.    0.    1.    1.]\n [   4.    6.    9.    2.    8.    3.   27.]\n [  16.   20.   25.    4.   64.    5.  125.]]\n[[-0.5  0.5]\n [-0.5  0.5]\n [-0.5  0.5]]\n"
     ]
    }
   ],
   "source": [
    "print (output)\n",
    "print (A)"
   ]
  },
  {
   "cell_type": "code",
   "execution_count": 68,
   "metadata": {},
   "outputs": [
    {
     "name": "stdout",
     "output_type": "stream",
     "text": [
      "[ -6.55730609e-03   2.35889889e-03   2.31561634e-03   2.27233380e-03\n   2.22905125e-03   2.18576870e-03   2.14248615e-03   2.09920360e-03\n   2.05592105e-03   2.01263850e-03   1.96935596e-03   1.92607341e-03\n   1.88279086e-03   1.83950831e-03   1.79622576e-03   1.75294321e-03\n   2.40218144e-03   1.70966066e-03   2.44546399e-03   2.53202909e-03\n   3.18126731e-03   3.13798476e-03   3.09470222e-03   3.05141967e-03\n   3.00813712e-03   2.96485457e-03   2.92157202e-03   2.87828947e-03\n   2.83500693e-03   2.79172438e-03   2.74844183e-03   2.70515928e-03\n   2.66187673e-03   2.61859418e-03   2.57531163e-03   2.48874654e-03\n   3.22454986e-03   1.66637812e-03   1.57981302e-03   7.14162050e-04\n   6.70879501e-04   6.27596953e-04   5.84314404e-04   5.41031856e-04\n   4.97749307e-04   4.54466759e-04   4.11184211e-04   3.67901662e-04\n   3.24619114e-04   2.81336565e-04   2.38054017e-04   1.94771468e-04\n   1.51488920e-04   1.08206371e-04   7.57444598e-04   1.62309557e-03\n   8.00727147e-04   8.87292244e-04   1.53653047e-03   1.49324792e-03\n   1.44996537e-03   1.40668283e-03   1.36340028e-03   1.32011773e-03\n   1.27683518e-03   1.23355263e-03   1.19027008e-03   1.14698753e-03\n   1.10370499e-03   1.06042244e-03   1.01713989e-03   9.73857341e-04\n   9.30574792e-04   8.44009695e-04   6.49238227e-05   3.26783241e-03\n   3.35439751e-03   5.64837258e-03   5.60509003e-03   5.56180748e-03\n   5.51852493e-03   5.47524238e-03   5.43195983e-03   5.38867729e-03\n   5.34539474e-03   5.30211219e-03   5.25882964e-03   5.21554709e-03\n   5.17226454e-03   5.12898199e-03   5.08569945e-03   5.04241690e-03\n   5.69165512e-03   4.99913435e-03   5.73493767e-03   5.82150277e-03\n   6.47074100e-03   6.42745845e-03   6.38417590e-03   6.34089335e-03\n   6.29761080e-03   6.25432825e-03   6.21104571e-03   6.16776316e-03\n   6.12448061e-03   6.08119806e-03   6.03791551e-03   5.99463296e-03\n   5.95135042e-03   5.90806787e-03   5.86478532e-03   5.77822022e-03\n   3.31111496e-03   4.95585180e-03   4.86928670e-03   4.00363573e-03\n   3.96035319e-03   3.91707064e-03   3.87378809e-03   3.83050554e-03\n   3.78722299e-03   3.74394044e-03   3.70065789e-03   3.65737535e-03\n   3.61409280e-03   3.57081025e-03   3.52752770e-03   3.48424515e-03\n   3.44096260e-03   3.39768006e-03   4.04691828e-03   4.91256925e-03\n   4.09020083e-03   4.17676593e-03   4.82600416e-03   4.78272161e-03\n   4.73943906e-03   4.69615651e-03   4.65287396e-03   4.60959141e-03\n   4.56630886e-03   4.52302632e-03   4.47974377e-03   4.43646122e-03\n   4.39317867e-03   4.34989612e-03   4.30661357e-03   4.26333102e-03\n   4.22004848e-03   4.13348338e-03   2.16412742e-05  -2.16412742e-05\n  -6.49238227e-05  -4.26333102e-03  -4.30661357e-03  -4.34989612e-03\n  -4.39317867e-03  -4.43646122e-03  -4.47974377e-03  -4.52302632e-03\n  -4.56630886e-03  -4.60959141e-03  -4.65287396e-03  -4.69615651e-03\n  -4.73943906e-03  -4.78272161e-03  -4.82600416e-03  -4.86928670e-03\n  -4.22004848e-03  -4.91256925e-03  -4.17676593e-03  -4.09020083e-03\n  -3.44096260e-03  -3.48424515e-03  -3.52752770e-03  -3.57081025e-03\n  -3.61409280e-03  -3.65737535e-03  -3.70065789e-03  -3.74394044e-03\n  -3.78722299e-03  -3.83050554e-03  -3.87378809e-03  -3.91707064e-03\n  -3.96035319e-03  -4.00363573e-03  -4.04691828e-03  -4.13348338e-03\n  -3.39768006e-03  -4.95585180e-03  -5.04241690e-03  -5.90806787e-03\n  -5.95135042e-03  -5.99463296e-03  -6.03791551e-03  -6.08119806e-03\n  -6.12448061e-03  -6.16776316e-03  -6.21104571e-03  -6.25432825e-03\n  -6.29761080e-03  -6.34089335e-03  -6.38417590e-03  -6.42745845e-03\n  -6.47074100e-03  -6.51402355e-03  -5.86478532e-03  -4.99913435e-03\n  -5.82150277e-03  -5.73493767e-03  -5.08569945e-03  -5.12898199e-03\n  -5.17226454e-03  -5.21554709e-03  -5.25882964e-03  -5.30211219e-03\n  -5.34539474e-03  -5.38867729e-03  -5.43195983e-03  -5.47524238e-03\n  -5.51852493e-03  -5.56180748e-03  -5.60509003e-03  -5.64837258e-03\n  -5.69165512e-03  -5.77822022e-03  -3.35439751e-03  -3.31111496e-03\n  -3.26783241e-03  -9.30574792e-04  -9.73857341e-04  -1.01713989e-03\n  -1.06042244e-03  -1.10370499e-03  -1.14698753e-03  -1.19027008e-03\n  -1.23355263e-03  -1.27683518e-03  -1.32011773e-03  -1.36340028e-03\n  -1.40668283e-03  -1.44996537e-03  -1.49324792e-03  -1.53653047e-03\n  -8.87292244e-04  -1.57981302e-03  -8.44009695e-04  -7.57444598e-04\n  -1.08206371e-04  -1.51488920e-04  -1.94771468e-04  -2.38054017e-04\n  -2.81336565e-04  -3.24619114e-04  -3.67901662e-04  -4.11184211e-04\n  -4.54466759e-04  -4.97749307e-04  -5.41031856e-04  -5.84314404e-04\n  -6.27596953e-04  -6.70879501e-04  -7.14162050e-04  -8.00727147e-04\n  -1.62309557e-03  -1.66637812e-03  -1.70966066e-03  -2.61859418e-03\n  -2.66187673e-03  -2.70515928e-03  -2.74844183e-03  -2.79172438e-03\n  -2.83500693e-03  -2.87828947e-03  -2.92157202e-03  -2.96485457e-03\n  -3.00813712e-03  -3.05141967e-03  -3.09470222e-03  -3.13798476e-03\n  -3.18126731e-03  -3.22454986e-03  -2.57531163e-03  -2.53202909e-03\n  -2.48874654e-03  -2.44546399e-03  -1.75294321e-03  -1.79622576e-03\n  -1.83950831e-03  -1.88279086e-03  -1.92607341e-03  -1.96935596e-03\n  -2.01263850e-03   6.51402355e-03  -2.05592105e-03  -2.14248615e-03\n  -2.18576870e-03  -2.22905125e-03  -2.27233380e-03  -2.31561634e-03\n  -2.35889889e-03  -2.40218144e-03  -2.09920360e-03   6.55730609e-03]\n"
     ]
    }
   ],
   "source": [
    "output, _= getinteraction(A[1,:])"
   ]
  },
  {
   "cell_type": "code",
   "execution_count": null,
   "metadata": {},
   "outputs": [],
   "source": []
  }
 ],
 "metadata": {
  "kernelspec": {
   "display_name": "Python 2",
   "language": "python",
   "name": "python2"
  },
  "language_info": {
   "codemirror_mode": {
    "name": "ipython",
    "version": 2
   },
   "file_extension": ".py",
   "mimetype": "text/x-python",
   "name": "python",
   "nbconvert_exporter": "python",
   "pygments_lexer": "ipython2",
   "version": "2.7.6"
  }
 },
 "nbformat": 4,
 "nbformat_minor": 0
}
