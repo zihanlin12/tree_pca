{
 "cells": [
  {
   "cell_type": "code",
   "execution_count": 5,
   "metadata": {
    "collapsed": true
   },
   "outputs": [],
   "source": [
    "import numpy as np\n",
    "import scipy.linalg as la\n",
    "data = np.load('C:\\\\Users\\\\zihan\\\\Desktop\\\\Files\\\\Research\\\\bryankelly_without_missing.npz')\n",
    "processed_data = data['processed_data']\n",
    "T, N, M = processed_data.shape\n",
    "chara_data_all = processed_data[:, :, 2:]\n",
    "# print (processed_data[:,:,2])"
   ]
  },
  {
   "cell_type": "code",
   "execution_count": 8,
   "metadata": {},
   "outputs": [
    {
     "name": "stdout",
     "output_type": "stream",
     "text": [
      "152 61 46 10\n"
     ]
    }
   ],
   "source": [
    "chara_data_t= chara_data[0,:]\n",
    "median0= np.median(chara_data_t[:,0])\n",
    "index0= chara_data_t[:,0]<= median0\n",
    "median1= np.median(chara_data_t[:,1])\n",
    "index1= index0 & (chara_data_t[:,1]<= median1)\n",
    "median2= np.median(chara_data_t[:,2])\n",
    "index2= index1 & (chara_data_t[:,2]<= median2)\n",
    "median3= np.median(chara_data_t[:,3])\n",
    "index3= index2 & (chara_data_t[:,3]<= median3)\n",
    "print (sum(index0), sum(index1), sum(index2), sum(index3))"
   ]
  },
  {
   "cell_type": "code",
   "execution_count": 28,
   "metadata": {},
   "outputs": [
    {
     "name": "stdout",
     "output_type": "stream",
     "text": [
      "We are here at 0\n"
     ]
    }
   ],
   "source": [
    "import itertools\n",
    "allcombination= list(itertools.combinations(range(chara_data_all.shape[2]), 38))\n",
    "maximum= 0\n",
    "returns= processed_data[:,:,1]\n",
    "count= 0\n",
    "record= []\n",
    "for combination in allcombination:\n",
    "    if count%10000==0:\n",
    "        print ('We are here at %d'%(count))\n",
    "    count+= 1\n",
    "    chara_data = processed_data[:, :, combination]\n",
    "    # print (chara_data.shape)\n",
    "    for i in range(T):\n",
    "        for j in range(chara_data.shape[2]):\n",
    "            chara_data[i, :, j] = np.argsort(chara_data[i, :, j])\n",
    "            chara_data[i, :, j] = (chara_data[i, :, j] + 1) / (N + 1)\n",
    "# The dimension of characteristics: \n",
    "    portfolio = np.zeros((T - 1, chara_data.shape[2]))\n",
    "    for i in range(T - 1):\n",
    "        portfolio[i, :] = returns[i + 1, :].dot(chara_data[i, :, :])\n",
    "    portfolio_demean = portfolio - np.mean(portfolio, axis=0)\n",
    "# Dimension of portfolio: T*M\n",
    "    covmat = portfolio_demean.T.dot(portfolio_demean) / (T - 2)\n",
    "    variance, loading = np.linalg.eig(covmat)\n",
    "    K= 3\n",
    "    Factor = np.zeros((int(T / 2), K))\n",
    "    start= int(T/2)-1\n",
    "    for t in range(int(T / 2)):\n",
    "        # if t%20==0:\n",
    "            # print ('Have gone through iteration %d'%(t))\n",
    "        portfolio_t = portfolio[:(t+start), :]\n",
    "        portfolio_demean_t = portfolio_t - np.mean(portfolio_t, axis=0)\n",
    "        covmat_t = portfolio_demean_t.T.dot(portfolio_demean_t) / (t+start - 1)\n",
    "        variance_t, loading_t = la.eigh(covmat_t,eigvals= (0,K-1))\n",
    "        Factor[t, :] = portfolio[t + start, :].dot(loading_t[:, :K])\n",
    "    mu = np.mean(Factor[:, :K], axis=0)\n",
    "    covmat_factor = np.cov(Factor[:, :K].T)\n",
    "    output=(np.sqrt(np.dot(np.dot(mu, np.linalg.inv(covmat_factor)), mu.T)))\n",
    "    if output>maximum:\n",
    "        maximum= max(maximum, output)\n",
    "        record= combination"
   ]
  },
  {
   "cell_type": "code",
   "execution_count": 29,
   "metadata": {
    "collapsed": true
   },
   "outputs": [
    {
     "name": "stdout",
     "output_type": "stream",
     "text": [
      "0.290621793234\n(2, 3, 4, 5, 6, 7, 8, 9, 10, 11, 12, 13, 14, 15, 16, 17, 18, 19, 20, 21, 22, 23, 24, 25, 26, 27, 28, 29, 30, 31, 32, 33, 34, 35, 36, 37, 38, 39)\n"
     ]
    }
   ],
   "source": [
    "print (maximum)\n",
    "print (combination)\n",
    "# print (chara_data_all[:,:,2])"
   ]
  },
  {
   "cell_type": "code",
   "execution_count": null,
   "metadata": {},
   "outputs": [],
   "source": []
  }
 ],
 "metadata": {
  "kernelspec": {
   "display_name": "Python 2",
   "language": "python",
   "name": "python2"
  },
  "language_info": {
   "codemirror_mode": {
    "name": "ipython",
    "version": 2
   },
   "file_extension": ".py",
   "mimetype": "text/x-python",
   "name": "python",
   "nbconvert_exporter": "python",
   "pygments_lexer": "ipython2",
   "version": "2.7.6"
  }
 },
 "nbformat": 4,
 "nbformat_minor": 0
}
