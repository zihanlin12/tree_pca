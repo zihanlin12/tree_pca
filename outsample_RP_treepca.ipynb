{
 "cells": [
  {
   "cell_type": "code",
   "execution_count": 5,
   "metadata": {},
   "outputs": [
    {
     "name": "stdout",
     "output_type": "stream",
     "text": [
      "Have gone through 0\n",
      "Have gone through 20\n",
      "Have gone through 40\n",
      "Have gone through 60\n",
      "Have gone through 80\n",
      "Have gone through 100\n",
      "Have gone through 120\n",
      "Have gone through 140\n",
      "Have gone through 160\n",
      "Have gone through 180\n",
      "Have gone through 200\n",
      "Have gone through 220\n",
      "Have gone through 240\n",
      "Have gone through 260\n",
      "Have gone through 280\n",
      "Have gone through 300\n",
      "Have gone through 320\n",
      "Have gone through 340\n"
     ]
    }
   ],
   "source": [
    "import numpy as np\n",
    "data = np.load('C:\\\\Users\\\\zihanlin\\\\Desktop\\\\File\\\\Research\\\\npz_data\\\\bryankelly_without_missing.npz')\n",
    "processed_data = data['processed_data']\n",
    "T, N, M = processed_data.shape\n",
    "returns = processed_data[:, :, 1]\n",
    "fama_french_data= np.load('C:\\\\Users\\\\zihanlin\\\\Desktop\\\\File\\\\Research\\\\npz_data\\\\riskfreerate.npz')\n",
    "fama_french_data= fama_french_data['fama_french_data']\n",
    "r_f= fama_french_data[:,4]\n",
    "r_f= r_f/100\n",
    "date= fama_french_data[:,0]\n",
    "date_start= np.asscalar(np.argwhere(date==198406))\n",
    "date_end= np.asscalar(np.argwhere(date==201405))\n",
    "returns= returns- (r_f[date_start:date_end+1:,np.newaxis])\n",
    "# The dimension of returns: T*N\n",
    "chara_data = processed_data[:, :, 5:9]\n",
    "# chara_data = processed_data[:, :, [8, 17, 20, 33, 37]]\n",
    "# chara_data= processed_data[:,:,[8,17, 18 ,20,33, 37]]\n",
    "# chara_data= processed_data[:,:,[8,17,33,37]]\n",
    "T, N= returns.shape\n",
    "def get_tree(depth, res, nodetag,  value_array, L, d, chara_data, oldlist, parent):\n",
    "    if depth == d:\n",
    "        final_array = np.ones([N, 1])\n",
    "        for k in range(L):\n",
    "            temp = value_array[:, k].reshape([N, 1])\n",
    "            final_array = final_array * temp\n",
    "        # print(np.sum(final_array))\n",
    "        if np.sum(final_array) < 10 ** (-3):\n",
    "            print('An error over here')\n",
    "        final_array = 1.0 * final_array / np.sum(final_array)\n",
    "        # It alrady gets updated.\n",
    "        # if np.sum(final_array)<10**(-3):\n",
    "        #     print (value_array)\n",
    "        res.append([final_array]) \n",
    "        nodetag.append(oldlist)\n",
    "    else:\n",
    "        for i in range(L):\n",
    "            for j in range(2):\n",
    "                if len(parent) != 0:\n",
    "                    index = np.ones((N), dtype=bool)\n",
    "                    for k in parent:\n",
    "                        index = (index) & ((value_array[:, k] != 0))\n",
    "                    data_median = np.median(chara_data[i, index])\n",
    "                else:\n",
    "                    index = (value_array[:, i] != 0)\n",
    "                    data_median = np.median(chara_data[i, index])\n",
    "                temp_array = value_array.copy()\n",
    "                newlist= list(oldlist)\n",
    "                newlist+=[(i,j)]\n",
    "                parent.append(i)\n",
    "                if j == 0:\n",
    "                    temp_array[(index) & (chara_data[i, :] <= data_median), i] = 0\n",
    "                    get_tree(depth + 1, res, nodetag, temp_array, L, d, chara_data, newlist, parent)\n",
    "                elif j == 1:\n",
    "                    temp_array[(index) & (chara_data[i, :] >= data_median), i] = 0\n",
    "                    get_tree(depth + 1, res, nodetag, temp_array, L, d, chara_data, newlist, parent)\n",
    "                parent.pop()\n",
    "L= chara_data.shape[2]\n",
    "d= 4\n",
    "portfolio = np.zeros((T - 1, (2*L)**d))\n",
    "for i in range(T-1):\n",
    "# for i in range(0,1):\n",
    "    if i%20==0:\n",
    "            print ('Have gone through %d' %(i))\n",
    "    # print ('Have gone through %d' %(i))\n",
    "    res = []\n",
    "    nodetag= []\n",
    "# The first parameter is number of characteristics, and the second is the depth of the tree.\n",
    "    get_tree(0, res, nodetag, np.ones([N, L]), L, d, chara_data[i,:].T, [], [])\n",
    "    # output = np.array(res[0][0])\n",
    "    # output = np.reshape(output, [N, 1])\n",
    "    # for j in range(1, len(res)):\n",
    "    #     output = np.append(output, np.array(res[j][0]), axis=1)\n",
    "    # portfolio[i, :] = returns[i + 1, :].dot(output)\n",
    "    for j in range(len(res)):\n",
    "        portfolio[i][j]= returns[i+1,:].dot(res[j])\n"
   ]
  },
  {
   "cell_type": "code",
   "execution_count": 23,
   "metadata": {
    "collapsed": true
   },
   "outputs": [],
   "source": [
    "D= 10\n",
    "portfolio2= np.zeros((T-1, L*D))\n",
    "for i in range(T-1):\n",
    "    for j in range(L):\n",
    "        chara_data_t= chara_data[i,:,j]\n",
    "        index= np.argsort(chara_data_t)\n",
    "        # print (index)\n",
    "        length= int(len(index)/D)\n",
    "        # print (length)\n",
    "        for k in range(D):\n",
    "            index_k= index[int(length*k):int(length*(k+1))]\n",
    "            portfolio2[i, j*D+k]= np.mean(returns[i+1,index_k ])\n",
    "portfolio= np.concatenate((portfolio1, portfolio2), axis= 1)"
   ]
  },
  {
   "cell_type": "code",
   "execution_count": 17,
   "metadata": {},
   "outputs": [
    {
     "name": "stdout",
     "output_type": "stream",
     "text": [
      "Have gone through iteration 0\n"
     ]
    },
    {
     "ename": "KeyboardInterrupt",
     "evalue": "",
     "output_type": "error",
     "traceback": [
      "\u001b[1;31m---------------------------------------------------------------------------\u001b[0m",
      "\u001b[1;31mKeyboardInterrupt\u001b[0m                         Traceback (most recent call last)",
      "\u001b[1;32m<ipython-input-17-439a81212a53>\u001b[0m in \u001b[0;36m<module>\u001b[1;34m()\u001b[0m\n\u001b[0;32m     15\u001b[0m     \u001b[0mcovmat_t\u001b[0m \u001b[1;33m=\u001b[0m \u001b[0mcovmat_t\u001b[0m \u001b[1;33m+\u001b[0m \u001b[0mportfolio_mean_t\u001b[0m\u001b[1;33m.\u001b[0m\u001b[0mT\u001b[0m\u001b[1;33m.\u001b[0m\u001b[0mdot\u001b[0m\u001b[1;33m(\u001b[0m\u001b[0mportfolio_mean_t\u001b[0m\u001b[1;33m)\u001b[0m \u001b[1;33m/\u001b[0m \u001b[0mwindow\u001b[0m \u001b[1;33m*\u001b[0m \u001b[0mgamma\u001b[0m\u001b[1;33m\u001b[0m\u001b[0m\n\u001b[0;32m     16\u001b[0m     \u001b[1;31m# variance_t, loading_t = np.linalg.eig(covmat_t)\u001b[0m\u001b[1;33m\u001b[0m\u001b[1;33m\u001b[0m\u001b[0m\n\u001b[1;32m---> 17\u001b[1;33m     \u001b[0mvariance_t\u001b[0m\u001b[1;33m,\u001b[0m \u001b[0mloading_t\u001b[0m\u001b[1;33m=\u001b[0m \u001b[0mla\u001b[0m\u001b[1;33m.\u001b[0m\u001b[0meigh\u001b[0m\u001b[1;33m(\u001b[0m\u001b[0mcovmat_t\u001b[0m\u001b[1;33m,\u001b[0m \u001b[0meigvals\u001b[0m\u001b[1;33m=\u001b[0m\u001b[1;33m(\u001b[0m\u001b[0mM\u001b[0m\u001b[1;33m-\u001b[0m\u001b[0mK\u001b[0m\u001b[1;33m,\u001b[0m \u001b[0mM\u001b[0m\u001b[1;33m-\u001b[0m\u001b[1;36m1\u001b[0m\u001b[1;33m)\u001b[0m\u001b[1;33m)\u001b[0m\u001b[1;33m\u001b[0m\u001b[0m\n\u001b[0m\u001b[0;32m     18\u001b[0m     \u001b[0mFactor_t\u001b[0m\u001b[1;33m=\u001b[0m \u001b[0mportfolio_t\u001b[0m\u001b[1;33m.\u001b[0m\u001b[0mdot\u001b[0m\u001b[1;33m(\u001b[0m\u001b[0mloading_t\u001b[0m\u001b[1;33m)\u001b[0m\u001b[1;33m\u001b[0m\u001b[0m\n\u001b[0;32m     19\u001b[0m     \u001b[0mmu\u001b[0m\u001b[1;33m=\u001b[0m \u001b[0mnp\u001b[0m\u001b[1;33m.\u001b[0m\u001b[0mmean\u001b[0m\u001b[1;33m(\u001b[0m\u001b[0mFactor_t\u001b[0m\u001b[1;33m,\u001b[0m \u001b[0maxis\u001b[0m\u001b[1;33m=\u001b[0m \u001b[1;36m0\u001b[0m\u001b[1;33m)\u001b[0m\u001b[1;33m\u001b[0m\u001b[0m\n",
      "\u001b[1;32mC:\\ProgramData\\Anaconda3\\lib\\site-packages\\scipy\\linalg\\decomp.py\u001b[0m in \u001b[0;36meigh\u001b[1;34m(a, b, lower, eigvals_only, overwrite_a, overwrite_b, turbo, eigvals, type, check_finite)\u001b[0m\n\u001b[0;32m    386\u001b[0m             \u001b[1;33m(\u001b[0m\u001b[0mlo\u001b[0m\u001b[1;33m,\u001b[0m \u001b[0mhi\u001b[0m\u001b[1;33m)\u001b[0m \u001b[1;33m=\u001b[0m \u001b[0meigvals\u001b[0m\u001b[1;33m\u001b[0m\u001b[0m\n\u001b[0;32m    387\u001b[0m             w_tot, v, info = evr(a1, uplo=uplo, jobz=_job, range=\"I\",\n\u001b[1;32m--> 388\u001b[1;33m                                  il=lo, iu=hi, overwrite_a=overwrite_a)\n\u001b[0m\u001b[0;32m    389\u001b[0m             \u001b[0mw\u001b[0m \u001b[1;33m=\u001b[0m \u001b[0mw_tot\u001b[0m\u001b[1;33m[\u001b[0m\u001b[1;36m0\u001b[0m\u001b[1;33m:\u001b[0m\u001b[0mhi\u001b[0m\u001b[1;33m-\u001b[0m\u001b[0mlo\u001b[0m\u001b[1;33m+\u001b[0m\u001b[1;36m1\u001b[0m\u001b[1;33m]\u001b[0m\u001b[1;33m\u001b[0m\u001b[0m\n\u001b[0;32m    390\u001b[0m \u001b[1;33m\u001b[0m\u001b[0m\n",
      "\u001b[1;31mKeyboardInterrupt\u001b[0m: "
     ]
    }
   ],
   "source": [
    "\n",
    "import scipy.linalg as la\n",
    "M= portfolio.shape[1]\n",
    "K = 4\n",
    "window= 120\n",
    "optimal_return = np.zeros((T-1-window))\n",
    "gamma = 100\n",
    "for t in range(T-1-window):\n",
    "# for t in range(0,1):\n",
    "    if t % 20 == 0:\n",
    "        print('Have gone through iteration %d' % (t))\n",
    "    portfolio_t = portfolio[t:(t + window), :]\n",
    "    covmat_t = portfolio_t.T.dot(portfolio_t) \n",
    "    portfolio_mean_t = np.sum(portfolio_t, axis=0, keepdims= True)\n",
    "    # print (portfolio_mean_t.shape)\n",
    "    covmat_t = covmat_t + portfolio_mean_t.T.dot(portfolio_mean_t) / window * gamma\n",
    "    # variance_t, loading_t = np.linalg.eig(covmat_t)\n",
    "    variance_t, loading_t= la.eigh(covmat_t, eigvals=(M-K, M-1))\n",
    "    Factor_t= portfolio_t.dot(loading_t)\n",
    "    mu= np.mean(Factor_t, axis= 0)\n",
    "    covmat_factor= np.cov(Factor_t.T)\n",
    "    weight= np.linalg.inv(covmat_factor).dot(mu)\n",
    "    optimal_return[t] = (portfolio[t + window, :].dot(loading_t)).dot(weight)\n",
    "mean_optimal= np.mean(optimal_return)\n",
    "cov_optimal= np.cov(optimal_return)\n",
    "print (abs(mean_optimal)/np.sqrt(cov_optimal))"
   ]
  },
  {
   "cell_type": "code",
   "execution_count": 38,
   "metadata": {},
   "outputs": [
    {
     "name": "stdout",
     "output_type": "stream",
     "text": [
      "&0.23&0.26&0.31&0.39&0.42&0.43&0.44&0.45&0.48&0.48&0.50&0.51&0.55&0.55&0.55&0.55&0.55&0.55&0.58\n"
     ]
    }
   ],
   "source": [
    "# In sample sharpe ratio\n",
    "gamma= 100\n",
    "# portfolio_demean = portfolio - np.mean(portfolio, axis=0)\n",
    "# Dimension of portfolio: T*M\n",
    "covmat = portfolio.T.dot(portfolio) \n",
    "portfolio_mean= np.sum(portfolio, axis= 0, keepdims=True)\n",
    "covmat= covmat+ portfolio_mean.T.dot(portfolio_mean)/(T-1)*gamma\n",
    "variance, loading = np.linalg.eig(covmat)\n",
    "output= []\n",
    "for K in range(1, 20):\n",
    "    loading_chosen = loading[:, :K]\n",
    "    Factor = portfolio.dot(loading_chosen)\n",
    "    mu = np.mean(Factor, axis=0)\n",
    "    covmat_factor = np.cov(Factor.T)\n",
    "    if K==1:\n",
    "        output.append (abs(mu)*covmat_factor**(-1/2))\n",
    "    else:\n",
    "        output.append(np.sqrt(np.dot(np.dot(mu, np.linalg.inv(covmat_factor)), mu.T)))\n",
    "twodecimals = [\"&%.2f\" % np.real(v) for v in output]\n",
    "print (''.join(twodecimals))\n"
   ]
  },
  {
   "cell_type": "code",
   "execution_count": 12,
   "metadata": {},
   "outputs": [
    {
     "name": "stdout",
     "output_type": "stream",
     "text": [
      "19\n",
      "18\n",
      "17\n",
      "16\n",
      "15\n",
      "14\n",
      "13\n",
      "12\n",
      "11\n",
      "10\n",
      "9\n",
      "8\n",
      "7\n",
      "6\n",
      "5\n",
      "4\n",
      "3\n",
      "2\n",
      "1\n",
      "0\n",
      "&0.23&0.26&0.31&0.39&0.42&0.43&0.44&0.45&0.48&0.48&0.50&0.51&0.55&0.55&0.55&0.55&0.55&0.55&0.58&0.58\n"
     ]
    }
   ],
   "source": [
    "# In sample code for ultra dimensional\n",
    "import scipy.linalg as la\n",
    "K =20\n",
    "gamma =100\n",
    "M= portfolio.shape[1]\n",
    "covmat = portfolio.T.dot(portfolio) \n",
    "portfolio_mean= np.sum(portfolio, axis= 0, keepdims=True)\n",
    "covmat= covmat+ portfolio_mean.T.dot(portfolio_mean)/(T-1)*gamma\n",
    "variance, loading= la.eigh(covmat, eigvals=(M-K, M-1))\n",
    "Factor= portfolio.dot(loading)\n",
    "output= []\n",
    "# Factor = portfolio.dot(loading_chosen)/N\n",
    "for i in range(K-1,-1,-1):\n",
    "    mu = np.mean(Factor[:,i:K], axis=0)\n",
    "    covmat_factor = np.cov(Factor[:,i:K].T)\n",
    "    if i==(K-1): \n",
    "        output.append (abs(mu)*covmat_factor**(-1/2))\n",
    "    else:\n",
    "        output.append(np.sqrt(np.dot(np.dot(mu, np.linalg.inv(covmat_factor)), mu.T)))\n",
    "twodecimals = [\"&%.2f\" % np.real(v) for v in output]\n",
    "print (''.join(twodecimals))"
   ]
  },
  {
   "cell_type": "code",
   "execution_count": 6,
   "metadata": {},
   "outputs": [
    {
     "name": "stdout",
     "output_type": "stream",
     "text": [
      "Have gone through iteration 0\n",
      "Have gone through iteration 20\n",
      "Have gone through iteration 40\n",
      "Have gone through iteration 60\n",
      "Have gone through iteration 80\n",
      "Have gone through iteration 100\n",
      "Have gone through iteration 120\n",
      "Have gone through iteration 140\n",
      "Have gone through iteration 160\n",
      "Have gone through iteration 180\n",
      "Have gone through iteration 200\n",
      "Have gone through iteration 220\n",
      "0.253768467093\n"
     ]
    }
   ],
   "source": [
    "# The case for ultra high dimensional \n",
    "portfolio= portfolio1\n",
    "import scipy.linalg as la\n",
    "K = 5\n",
    "window= 120\n",
    "optimal_return = np.zeros((T-window))\n",
    "gamma = 100\n",
    "T, M = portfolio.shape\n",
    "ones_T= np.ones((window, 1))\n",
    "# Maybe can just change the T-1 to be T.\n",
    "for t in range(T-window):\n",
    "# for t in range(0,1):\n",
    "    if t % 20 == 0:\n",
    "        print('Have gone through iteration %d' % (t))\n",
    "    portfolio_t = portfolio[t:(t + window), :]\n",
    "    covmat_t= portfolio_t.dot(portfolio_t.T).dot(gamma/T* ones_T.dot(ones_T.T))\n",
    "    covmat_t= covmat_t+ portfolio_t.dot(portfolio_t.T)\n",
    "    # variance_t, Factor_t = np.linalg.eig(covmat_t)\n",
    "    variance_t, Factor_t= la.eigh(covmat_t, eigvals=(window-K, window-1))\n",
    "    Factor_t= Factor_t[:,:K]\n",
    "    loading_t= Factor_t.T.dot(portfolio_t)\n",
    "    mu= np.mean(Factor_t, axis= 0)\n",
    "    covmat_factor= np.cov(Factor_t.T)\n",
    "    weight= np.linalg.inv(covmat_factor).dot(mu)\n",
    "    optimal_return[t] = (portfolio[t + window, :].dot(loading_t.T)).dot(weight)\n",
    "mean_optimal= np.mean(optimal_return)\n",
    "cov_optimal= np.cov(optimal_return)\n",
    "print (abs(mean_optimal)/np.sqrt(cov_optimal))"
   ]
  },
  {
   "cell_type": "code",
   "execution_count": 3,
   "metadata": {},
   "outputs": [
    {
     "name": "stdout",
     "output_type": "stream",
     "text": [
      "Have gone through iteration 0\n",
      "Have gone through iteration 20\n",
      "Have gone through iteration 40\n",
      "Have gone through iteration 60\n",
      "Have gone through iteration 80\n",
      "Have gone through iteration 100\n",
      "Have gone through iteration 120\n",
      "Have gone through iteration 140\n",
      "Have gone through iteration 160\n",
      "Have gone through iteration 180\n",
      "Have gone through iteration 200\n",
      "Have gone through iteration 220\n",
      "0.00136893767097\n"
     ]
    }
   ],
   "source": [
    "# Get the pricing error\n",
    "portfolio=  portfolio1\n",
    "import scipy.linalg as la\n",
    "K = 4\n",
    "window= 120\n",
    "gamma = 100\n",
    "T, M = portfolio.shape\n",
    "pricing_error= np.zeros((T-window,M ))\n",
    "ones_T= np.ones((window, 1))\n",
    "for t in range(T-window):\n",
    "# for t in range(0,1):\n",
    "    if t % 20 == 0:\n",
    "        print('Have gone through iteration %d' % (t))\n",
    "    portfolio_t = portfolio[t:(t + window), :]\n",
    "    # covmat_t = portfolio_t.T.dot(portfolio_t) \n",
    "    # portfolio_mean_t = np.sum(portfolio_t, axis=0, keepdims= True)\n",
    "    # # print (portfolio_mean_t.shape)\n",
    "    # covmat_t = covmat_t + portfolio_mean_t.T.dot(portfolio_mean_t) / window * gamma\n",
    "    covmat_t= portfolio_t.dot(portfolio_t.T).dot(gamma/T* ones_T.dot(ones_T.T))\n",
    "    covmat_t= covmat_t+ portfolio_t.dot(portfolio_t.T)\n",
    "    variance_t, Factor_t = np.linalg.eig(covmat_t)\n",
    "    Factor_t= Factor_t[:,:K]\n",
    "    # variance_t, loading_t = np.linalg.eig(covmat_t)\n",
    "    # variance_t, Factor_t= la.eigh(covmat_t, eigvals=(window-K, window-1))\n",
    "    loading_t= Factor_t.T.dot(portfolio_t)\n",
    "    # loading_t: K*M.\n",
    "    # Factor_t= portfolio_t.dot(loading_t)\n",
    "    pricing_error[t,:] = (portfolio[t + window, :]- portfolio[t+window, :].dot(loading_t.T).dot(np.linalg.inv(loading_t.dot(loading_t.T))).dot(loading_t))\n",
    "avg_pricing_error= np.mean(pricing_error, axis= 0)\n",
    "print (np.sqrt(np.sum(avg_pricing_error**2)/M))"
   ]
  },
  {
   "cell_type": "code",
   "execution_count": null,
   "metadata": {
    "scrolled": true
   },
   "outputs": [
    {
     "name": "stdout",
     "output_type": "stream",
     "text": [
      "[ 0.1180668   0.24490528  0.24922966  0.25027935  0.25107852  0.25027954\n",
      "  0.25099506  0.25016822  0.25111488  0.25139332  0.25216388  0.25247373\n",
      "  0.2527811   0.25305591  0.25326001  0.25356122  0.25352739  0.25376014\n",
      "  0.25347647  0.25361371]\n"
     ]
    }
   ],
   "source": [
    "# In sample pricing error\n",
    "import scipy.linalg as la\n",
    "T,M= portfolio.shape\n",
    "K= 5\n",
    "gamma= 100\n",
    "ones_T= np.ones((T,1))\n",
    "# portfolio_demean = portfolio - np.mean(portfolio, axis=0)\n",
    "# Dimension of portfolio: T*M\n",
    "# covmat = portfolio.T.dot(portfolio) \n",
    "# portfolio_mean= np.sum(portfolio, axis= 0, keepdims=True)\n",
    "# covmat= covmat+ portfolio_mean.T.dot(portfolio_mean)/(T-1)*gamma\n",
    "# variance, loading = la.eigh(covmat, (M-K, M-1))\n",
    "covmat= portfolio.dot(portfolio.T).dot(gamma/T* ones_T.dot(ones_T.T))\n",
    "covmat= covmat+ portfolio.dot(portfolio.T)\n",
    "    # variance_t, loading_t = np.linalg.eig(covmat_t)\n",
    "variance, Factor= la.eigh(covmat, eigvals=(T-K, T-1))\n",
    "loading= Factor.T.dot(portfolio)\n",
    "pricing_error= portfolio- Factor.dot(loading)\n",
    "print (np.sqrt(np.sum(pricing_error**2)/M)/(T))"
   ]
  },
  {
   "cell_type": "code",
   "execution_count": 7,
   "metadata": {
    "scrolled": true
   },
   "outputs": [
    {
     "name": "stdout",
     "output_type": "stream",
     "text": [
      "[ 0.1156334   0.24708772  0.25203361  0.25343729  0.25433099  0.25384069\n",
      "  0.2543155   0.25356588  0.2544314   0.25500979  0.25571067  0.25565999\n",
      "  0.25615806  0.25674477  0.25663045  0.2567508   0.25690141  0.25693231\n",
      "  0.25671441  0.25681932]\n"
     ]
    }
   ],
   "source": [
    "def compute_sharpe(K):\n",
    "    import scipy.linalg as la\n",
    "    T, M = portfolio.shape\n",
    "    window= 120\n",
    "    optimal_return = np.zeros((T-window))\n",
    "    gamma = 100    \n",
    "    ones_T= np.ones((window, 1))\n",
    "# Maybe can just change the T-1 to be T.\n",
    "    for t in range(T-window):\n",
    "# for t in range(0,1):\n",
    "#         if t % 20 == 0:\n",
    "#             print('Have gone through iteration %d' % (t))\n",
    "        portfolio_t = portfolio[t:(t + window), :]\n",
    "        covmat_t= portfolio_t.dot(portfolio_t.T).dot(gamma/T* ones_T.dot(ones_T.T))\n",
    "        covmat_t= covmat_t+ portfolio_t.dot(portfolio_t.T)\n",
    "    # variance_t, Factor_t = np.linalg.eig(covmat_t)\n",
    "        variance_t, Factor_t= la.eigh(covmat_t, eigvals=(window-K, window-1))\n",
    "        Factor_t= Factor_t[:,:K]\n",
    "        loading_t= Factor_t.T.dot(portfolio_t)\n",
    "        mu= np.mean(Factor_t, axis= 0)\n",
    "        covmat_factor= np.cov(Factor_t.T)\n",
    "        if K>=2:\n",
    "            weight= np.linalg.inv(covmat_factor).dot(mu)\n",
    "        else:\n",
    "            weight= 1\n",
    "        optimal_return[t] = (portfolio[t + window, :].dot(loading_t.T)).dot(weight)\n",
    "    mean_optimal= np.mean(optimal_return)\n",
    "    cov_optimal= np.cov(optimal_return)\n",
    "    return (abs(mean_optimal)/np.sqrt(cov_optimal))\n",
    "K= 20\n",
    "optimal_sharpe= np.zeros((K))\n",
    "for i in range(K):\n",
    "    optimal_sharpe[i]= compute_sharpe(i+1)\n",
    "print (optimal_sharpe)"
   ]
  },
  {
   "cell_type": "code",
   "execution_count": null,
   "metadata": {
    "collapsed": true
   },
   "outputs": [],
   "source": [
    "import pandas as pd\n",
    "import matplotlib.pyplot as plt\n",
    "df2 = pd.DataFrame(sharpe_ratio, columns=['1 Factor','2 Factor','3 Factor','4 Factor','5 Factor','6 Factor','7 Factor'], index= ['P1', 'P2'])\n",
    "df2.plot.bar()\n",
    "plt.savefig('C://Users//zihan//Desktop//Files//Research//sharpe_tree_decile.png')\n",
    "plt.clf()"
   ]
  },
  {
   "cell_type": "code",
   "execution_count": 7,
   "metadata": {},
   "outputs": [
    {
     "name": "stdout",
     "output_type": "stream",
     "text": [
      "Saving data to C:/Users/zihanlin/Desktop/File/Research/npz_data/small_tree_portfolio.npz\n",
      "Finished! \n"
     ]
    }
   ],
   "source": [
    "path_target = 'C:/Users/zihanlin/Desktop/File/Research/npz_data/small_tree_portfolio.npz'\n",
    "print('Saving data to ' + path_target)\n",
    "np.savez(path_target, portfolio=portfolio)\n",
    "print('Finished! ')"
   ]
  },
  {
   "cell_type": "code",
   "execution_count": null,
   "metadata": {
    "collapsed": true
   },
   "outputs": [],
   "source": []
  }
 ],
 "metadata": {
  "kernelspec": {
   "display_name": "Python 2",
   "language": "python",
   "name": "python2"
  },
  "language_info": {
   "codemirror_mode": {
    "name": "ipython",
    "version": 2
   },
   "file_extension": ".py",
   "mimetype": "text/x-python",
   "name": "python",
   "nbconvert_exporter": "python",
   "pygments_lexer": "ipython2",
   "version": "2.7.13"
  }
 },
 "nbformat": 4,
 "nbformat_minor": 1
}
