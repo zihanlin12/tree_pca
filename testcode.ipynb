{
 "cells": [
  {
   "cell_type": "code",
   "execution_count": 1,
   "metadata": {},
   "outputs": [
    {
     "name": "stdout",
     "output_type": "stream",
     "text": [
      "[ 0.1854  0.5055  1.1935  0.0716 -0.4881 -1.7162  1.8097 -1.5418  0.9921\n  0.0227 -3.1951 -3.4434 -1.91    0.2139 -2.6296 -1.2645 -0.6369 -1.8085\n -1.8777 -2.3964  0.9027  0.0536  0.374   0.5538 -2.1444]\n(642, 25)\n(642, 3)\n"
     ]
    }
   ],
   "source": [
    "import numpy as np\n",
    "# loaddata = np.load('C:\\\\Users\\\\zihan\\\\Desktop\\\\Files\\\\Research\\\\bryankelly_without_missing.npz')\n",
    "# data = loaddata['processed_data']\n",
    "# date= loaddata['stockdate']\n",
    "fama_french_data= np.load('C:\\\\Users\\\\zihan\\\\Desktop\\\\Files\\\\Research\\\\riskfreerate.npz')\n",
    "fama_french_data= fama_french_data['fama_french_data']\n",
    "size_accrual_fama= np.load('C:\\\\Users\\\\zihan\\\\Desktop\\\\Files\\\\Research\\\\size_accrual_fama.npz')\n",
    "size_accrual_fama= size_accrual_fama['size_accrual_fama']\n",
    "# print (fama_french_data.shape)\n",
    "r_f= fama_french_data[:,4]\n",
    "print (size_accrual_fama[0,1:26])\n",
    "# normalize the interest rate because Fama French is 100%\n",
    "r_f= r_f/100\n",
    "date= fama_french_data[:,0]\n",
    "date_start= np.asscalar(np.argwhere(date==196307))\n",
    "date_end= np.asscalar(np.argwhere(date==201612))\n",
    "portfolio_date= size_accrual_fama[:,0]\n",
    "portfolio_date_start= np.asscalar(np.argwhere(portfolio_date==196307))\n",
    "portfolio_date_end= np.asscalar(np.argwhere(portfolio_date==201612))\n",
    "fama_portfolio= size_accrual_fama[portfolio_date_start:portfolio_date_end+1,1:26]/100\n",
    "print (fama_portfolio.shape)\n",
    "portfolio= fama_portfolio\n",
    "portfolio= fama_portfolio-(r_f[date_start:date_end+1,np.newaxis])\n",
    "fama_factor= fama_french_data[date_start:date_end+1,1:4]/100\n",
    "print (fama_factor.shape)\n"
   ]
  },
  {
   "cell_type": "code",
   "execution_count": 3,
   "metadata": {},
   "outputs": [
    {
     "name": "stdout",
     "output_type": "stream",
     "text": [
      "&0.08&0.12&0.12&0.12&0.13&0.15&0.16&0.16&0.17&0.17\n"
     ]
    }
   ],
   "source": [
    "T, N= portfolio.shape\n",
    "K = 11\n",
    "window= 120\n",
    "Factor = np.zeros((T-1-window, K))\n",
    "gamma = -1\n",
    "for t in range(T-1-window):\n",
    "    # if t % 20 == 0:\n",
    "    #     print('Have gone through iteration %d' % (t))\n",
    "    portfolio_t = portfolio[t:(t + window), :]\n",
    "    portfolio_demean_t = portfolio_t - np.mean(portfolio_t, axis=0, keepdims= True)\n",
    "    covmat_t= portfolio_demean_t.T.dot(portfolio_demean_t)\n",
    "    variance_t, loading_t = np.linalg.eig(covmat_t)\n",
    "    Factor[t, :] = portfolio[t + window, :].dot(loading_t[:, :K])\n",
    "    # print (Factor.shape)\n",
    "output = []\n",
    "for K in range(1, 11):\n",
    "    mu = np.mean(Factor[:, :K], axis=0)\n",
    "    covmat_factor = np.cov(Factor[:, :K].T)\n",
    "    if K == 1:\n",
    "        output.append(abs(mu) * covmat_factor ** (-1 / 2))\n",
    "    else:\n",
    "        output.append(np.sqrt(np.dot(np.dot(mu.T, np.linalg.inv(covmat_factor)), mu)))\n",
    "twodecimals = [\"&%.2f\" % np.real(v) for v in output]\n",
    "print(''.join(twodecimals))"
   ]
  },
  {
   "cell_type": "code",
   "execution_count": 75,
   "metadata": {},
   "outputs": [
    {
     "name": "stdout",
     "output_type": "stream",
     "text": [
      "&0.08&0.12&0.12&0.12&0.13&0.15&0.16&0.16&0.17&0.17\n"
     ]
    }
   ],
   "source": [
    "\n",
    "# Rolling window approach\n",
    "import scipy.linalg as la\n",
    "K = 11\n",
    "window= 120\n",
    "Factor = np.zeros((T-1-window, K))\n",
    "gamma = 100\n",
    "for t in range(T-1-window):\n",
    "    # if t % 20 == 0:\n",
    "    #     print('Have gone through iteration %d' % (t))\n",
    "    portfolio_t = portfolio[t:(t + window), :]\n",
    "    covmat_t = portfolio_t.T.dot(portfolio_t) \n",
    "    portfolio_mean_t = np.sum(portfolio_t, axis=0, keepdims= True)\n",
    "    # print (portfolio_mean_t.shape)\n",
    "    covmat_t = covmat_t + portfolio_mean_t.T.dot(portfolio_mean_t) / window * gamma\n",
    "    variance_t, loading_t = np.linalg.eig(covmat_t)\n",
    "    Factor[t, :] = portfolio[t + window, :].dot(loading_t[:, :K])\n",
    "output = []\n",
    "for i in range(1, 11):\n",
    "    mu = np.mean(Factor[:, :i], axis=0)\n",
    "    covmat_factor = np.cov(Factor[:, :i].T)\n",
    "    if i == 1: \n",
    "        output.append(abs(mu) * covmat_factor ** (-1 / 2))\n",
    "    else:\n",
    "        output.append(np.sqrt(np.dot(np.dot(mu.T, np.linalg.inv(covmat_factor)), mu)))\n",
    "twodecimals = [\"&%.2f\" % np.real(v) for v in output]\n",
    "print(''.join(twodecimals))\n",
    "# mu_fama= np.mean(fama_factor, axis= 0)\n",
    "# # print (mu_fama)\n",
    "# cov_fama= np.cov(fama_factor.T)\n",
    "# # print (cov_fama)\n",
    "# print (np.sqrt(np.dot(mu_fama.T, np.dot(np.linalg.inv(cov_fama),mu_fama))))\n",
    "# print (len(np.where(Factor==0)))\n"
   ]
  },
  {
   "cell_type": "code",
   "execution_count": 70,
   "metadata": {},
   "outputs": [
    {
     "name": "stdout",
     "output_type": "stream",
     "text": [
      "&0.13&0.13&0.33&0.33&0.33&0.33&0.33&0.33&0.34&0.35\n"
     ]
    }
   ],
   "source": [
    "covmat = portfolio.T.dot(portfolio) \n",
    "portfolio_mean= np.sum(portfolio, axis= 0, keepdims=True)\n",
    "# print (portfolio_mean.shape)\n",
    "gamma= 100\n",
    "covmat= covmat+ portfolio_mean.T.dot(portfolio_mean)/(T-1)*gamma\n",
    "variance, loading = np.linalg.eig(covmat)\n",
    "loading= loading*np.sqrt(N)\n",
    "output= []\n",
    "loading_chosen = loading[:, :11]\n",
    "Factor = portfolio.dot(loading_chosen)/N\n",
    "for i in range(1, 11): *\n",
    "    mu = np.mean(Factor[:,:i], axis=0)\n",
    "    covmat_factor = np.cov(Factor[:,:i].T)\n",
    "    if i==1: \n",
    "        output.append (abs(mu)*covmat_factor**(-1/2))\n",
    "    else:\n",
    "        output.append(np.sqrt(np.dot(np.dot(mu, np.linalg.inv(covmat_factor)), mu.T)))\n",
    "twodecimals = [\"&%.2f\" % np.real(v) for v in output]\n",
    "print (''.join(twodecimals))"
   ]
  },
  {
   "cell_type": "code",
   "execution_count": 60,
   "metadata": {},
   "outputs": [
    {
     "name": "stdout",
     "output_type": "stream",
     "text": [
      "&0.22\n"
     ]
    }
   ],
   "source": [
    "# Get out of sample performance for Fama-French Factors\n",
    "import scipy.linalg as la\n",
    "K = 3\n",
    "window= 120\n",
    "Factor = np.zeros((T-1-window, K))\n",
    "for t in range(T-1-window):\n",
    "    # if t % 20 == 0:\n",
    "    #     print('Have gone through iteration %d' % (t))\n",
    "    portfolio_t = portfolio[t:(t + window), :]\n",
    "    # print (portfolio_t.shape)\n",
    "    # portfolio_demean_t = portfolio_t - np.mean(portfolio_t, axis=0, keepdims= True)\n",
    "    # covmat_t= portfolio_demean_t.T.dot(portfolio_demean_t)\n",
    "    # variance_t, loading_t = la.eigh(covmat_t, eigvals=(0, K))\n",
    "    factor_t= fama_factor[t:(t+window),:]\n",
    "    loading_t= portfolio_t.T.dot(factor_t.dot(np.linalg.inv(factor_t.T.dot(factor_t))))\n",
    "    Factor[t, :] = portfolio[t + window, :].dot(loading_t)\n",
    "    # print (Factor.shape)\n",
    "output = []\n",
    "mu = np.mean(Factor[:, :K], axis=0)\n",
    "covmat_factor = np.cov(Factor[:, :K].T)\n",
    "output.append(np.sqrt(np.dot(np.dot(mu.T, np.linalg.inv(covmat_factor)), mu)))\n",
    "twodecimals = [\"&%.2f\" % np.real(v) for v in output]\n",
    "print(''.join(twodecimals))"
   ]
  },
  {
   "cell_type": "code",
   "execution_count": null,
   "metadata": {},
   "outputs": [],
   "source": []
  }
 ],
 "metadata": {
  "kernelspec": {
   "display_name": "Python 2",
   "language": "python",
   "name": "python2"
  },
  "language_info": {
   "codemirror_mode": {
    "name": "ipython",
    "version": 2
   },
   "file_extension": ".py",
   "mimetype": "text/x-python",
   "name": "python",
   "nbconvert_exporter": "python",
   "pygments_lexer": "ipython2",
   "version": "2.7.6"
  }
 },
 "nbformat": 4,
 "nbformat_minor": 0
}
