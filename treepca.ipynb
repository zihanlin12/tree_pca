{
 "cells": [
  {
   "cell_type": "code",
   "execution_count": 21,
   "metadata": {
    "collapsed": true
   },
   "outputs": [],
   "source": [
    "import numpy as np\n",
    "data = np.load('C:\\\\Users\\\\zihan\\\\Desktop\\\\Files\\\\Research\\\\bryankelly_without_missing.npz')\n",
    "processed_data = data['processed_data']\n",
    "T, N, M = processed_data.shape\n",
    "returns = processed_data[:, :, 1]\n",
    "fama_french_data= np.load('C:\\\\Users\\\\zihan\\\\Desktop\\\\Files\\\\Research\\\\riskfreerate.npz')\n",
    "fama_french_data= fama_french_data['fama_french_data']\n",
    "r_f= fama_french_data[:,4]\n",
    "r_f= r_f/100\n",
    "date= fama_french_data[:,0]\n",
    "date_start= np.asscalar(np.argwhere(date==198406))\n",
    "date_end= np.asscalar(np.argwhere(date==201405))\n",
    "returns= returns- (r_f[date_start:date_end+1:,np.newaxis])\n",
    "# The dimension of returns: T*N\n",
    "# chara_data = processed_data[:, :, [8, 17, 18, 24, 33, 37]]\n",
    "chara_data = processed_data[:, :, [8, 17, 33, 37]]"
   ]
  },
  {
   "cell_type": "code",
   "execution_count": 22,
   "metadata": {},
   "outputs": [
    {
     "name": "stdout",
     "output_type": "stream",
     "text": [
      "Have gone through 0\n"
     ]
    },
    {
     "name": "stdout",
     "output_type": "stream",
     "text": [
      "Have gone through 20\n"
     ]
    },
    {
     "name": "stdout",
     "output_type": "stream",
     "text": [
      "Have gone through 40\n"
     ]
    },
    {
     "name": "stdout",
     "output_type": "stream",
     "text": [
      "Have gone through 60\n"
     ]
    },
    {
     "name": "stdout",
     "output_type": "stream",
     "text": [
      "Have gone through 80\n"
     ]
    },
    {
     "name": "stdout",
     "output_type": "stream",
     "text": [
      "Have gone through 100\n"
     ]
    },
    {
     "name": "stdout",
     "output_type": "stream",
     "text": [
      "Have gone through 120\n"
     ]
    },
    {
     "name": "stdout",
     "output_type": "stream",
     "text": [
      "Have gone through 140\n"
     ]
    },
    {
     "name": "stdout",
     "output_type": "stream",
     "text": [
      "Have gone through 160\n"
     ]
    },
    {
     "name": "stdout",
     "output_type": "stream",
     "text": [
      "Have gone through 180\n"
     ]
    },
    {
     "name": "stdout",
     "output_type": "stream",
     "text": [
      "Have gone through 200\n"
     ]
    },
    {
     "name": "stdout",
     "output_type": "stream",
     "text": [
      "Have gone through 220\n"
     ]
    },
    {
     "name": "stdout",
     "output_type": "stream",
     "text": [
      "Have gone through 240\n"
     ]
    },
    {
     "name": "stdout",
     "output_type": "stream",
     "text": [
      "Have gone through 260\n"
     ]
    },
    {
     "name": "stdout",
     "output_type": "stream",
     "text": [
      "Have gone through 280\n"
     ]
    },
    {
     "name": "stdout",
     "output_type": "stream",
     "text": [
      "Have gone through 300\n"
     ]
    },
    {
     "name": "stdout",
     "output_type": "stream",
     "text": [
      "Have gone through 320\n"
     ]
    },
    {
     "name": "stdout",
     "output_type": "stream",
     "text": [
      "Have gone through 340\n"
     ]
    }
   ],
   "source": [
    "def get_tree(depth, res, nodetag, value_array, L, d, chara_data, oldlist, parent):\n",
    "    if depth == d:\n",
    "        final_array = np.ones([N, 1])\n",
    "        for k in range(L):\n",
    "            temp = value_array[:, k].reshape([N, 1])\n",
    "            final_array = final_array * temp\n",
    "        res.append([final_array])\n",
    "        nodetag.append(oldlist)\n",
    "    else:\n",
    "        for i in range(L):\n",
    "            for j in range(2):\n",
    "                if len(parent) != 0:\n",
    "                    index = np.ones((N), dtype=bool)\n",
    "                    for k in parent:\n",
    "                        index = (index) & ((value_array[:, k] != 0))\n",
    "                    data_median = np.median(chara_data[i, index])\n",
    "                else:\n",
    "                    index = (value_array[:, i] != 0)\n",
    "                    data_median = np.median(chara_data[i, index])\n",
    "                parent.append(i)\n",
    "                \n",
    "                temp_array = value_array.copy()\n",
    "                newlist= list(oldlist)\n",
    "                newlist+=[(i,j)]\n",
    "                if j == 0:\n",
    "                    temp_array[(index) & (chara_data[i, :] <= data_median), i] = 0\n",
    "                    get_tree(depth + 1, res,nodetag, temp_array, L, d, chara_data, \n",
    "                             newlist,parent)\n",
    "                elif j == 1:\n",
    "                    temp_array[(index) & (chara_data[i, :] >= data_median), i] = 0\n",
    "                    get_tree(depth + 1, res, nodetag, temp_array, L, d, chara_data, \n",
    "                             newlist, parent)\n",
    "                parent.pop()\n",
    "L= chara_data.shape[2]\n",
    "depth= 4\n",
    "portfolio = np.zeros((T - 1, (2*L)**depth))\n",
    "for i in range(T-1):\n",
    "    if i%20==0:\n",
    "            print ('Have gone through %d' %(i))\n",
    "    res = []\n",
    "    nodetag= []\n",
    "# The first parameter is number of characteristics, and the second is the depth of the tree.\n",
    "    get_tree(0, res, nodetag, np.ones([N, L]), L, depth, chara_data[i,:].T, [], [])\n",
    "    # output = np.array(res[0][0])\n",
    "    # output = np.reshape(output, [N, 1])\n",
    "    # for j in range(1, len(res)):\n",
    "    #     output = np.append(output, np.array(res[j][0]), axis=1)\n",
    "    # portfolio[i, :] = returns[i + 1, :].dot(output)\n",
    "    for j in range(len(res)):\n",
    "        portfolio[i][j]= returns[i+1,:].dot(res[j])\n"
   ]
  },
  {
   "cell_type": "code",
   "execution_count": 23,
   "metadata": {},
   "outputs": [
    {
     "name": "stdout",
     "output_type": "stream",
     "text": [
      "&0.23&0.26&0.31&0.39&0.40&0.41&0.42&0.43&0.43&0.45\n"
     ]
    }
   ],
   "source": [
    "# portfolio_demean = portfolio - np.mean(portfolio, axis=0)\n",
    "# # Dimension of portfolio: T*M\n",
    "# covmat = portfolio_demean.T.dot(portfolio_demean) / (T - 2)\n",
    "# variance, loading = np.linalg.eig(covmat)\n",
    "# loading= loading*np.sqrt(N)\n",
    "import scipy.linalg as la\n",
    "K =10\n",
    "gamma =100\n",
    "M= portfolio.shape[1]\n",
    "covmat = portfolio.T.dot(portfolio) \n",
    "portfolio_mean= np.sum(portfolio, axis= 0, keepdims=True)\n",
    "covmat= covmat+ portfolio_mean.T.dot(portfolio_mean)/(T-1)*gamma\n",
    "variance, loading = np.linalg.eig(covmat)\n",
    "loading= loading[:,:K]\n",
    "Factor= portfolio.dot(loading)\n",
    "output= []\n",
    "# Factor = portfolio.dot(loading_chosen)/N\n",
    "for i in range(1, 11):\n",
    "    mu = np.mean(Factor[:,:i], axis=0)\n",
    "    covmat_factor = np.cov(Factor[:,:i].T)\n",
    "    if i==1: \n",
    "        output.append (abs(mu)*covmat_factor**(-1/2))\n",
    "    else:\n",
    "        output.append(np.sqrt(np.dot(np.dot(mu, np.linalg.inv(covmat_factor)), mu.T)))\n",
    "twodecimals = [\"&%.2f\" % np.real(v) for v in output]\n",
    "print (''.join(twodecimals))"
   ]
  },
  {
   "cell_type": "code",
   "execution_count": 24,
   "metadata": {},
   "outputs": [
    {
     "name": "stdout",
     "output_type": "stream",
     "text": [
      "This is the 0 factor\n[(0, 0), (0, 0), (0, 0), (0, 0)]\n[(0, 0), (0, 0), (0, 0), (1, 1)]\n[(0, 0), (0, 0), (0, 0), (3, 0)]\n[(0, 0), (0, 0), (1, 1), (0, 0)]\n[(0, 0), (0, 0), (1, 1), (1, 1)]\n[(0, 0), (0, 0), (1, 1), (2, 0)]\n[(0, 0), (0, 0), (1, 1), (3, 0)]\n[(0, 0), (0, 0), (2, 0), (1, 1)]\n[(0, 0), (0, 0), (3, 0), (0, 0)]\n[(0, 0), (0, 0), (3, 0), (1, 1)]\n[(0, 0), (0, 0), (3, 0), (2, 0)]\n[(0, 0), (0, 0), (3, 0), (3, 0)]\n[(0, 0), (1, 1), (0, 0), (0, 0)]\n[(0, 0), (1, 1), (0, 0), (1, 1)]\n[(0, 0), (1, 1), (0, 0), (3, 0)]\n[(0, 0), (1, 1), (1, 1), (0, 0)]\n[(0, 0), (1, 1), (1, 1), (1, 1)]\n[(0, 0), (1, 1), (1, 1), (3, 0)]\n[(0, 0), (1, 1), (3, 0), (0, 0)]\n[(0, 0), (1, 1), (3, 0), (1, 1)]\n[(0, 0), (1, 1), (3, 0), (3, 0)]\n[(0, 0), (2, 0), (0, 0), (1, 1)]\n[(0, 0), (3, 0), (0, 0), (0, 0)]\n[(0, 0), (3, 0), (0, 0), (1, 1)]\n[(0, 0), (3, 0), (0, 0), (2, 0)]\n[(0, 0), (3, 0), (0, 0), (3, 0)]\n[(0, 0), (3, 0), (1, 1), (0, 0)]\n[(0, 0), (3, 0), (1, 1), (1, 1)]\n[(0, 0), (3, 0), (1, 1), (3, 0)]\n[(0, 0), (3, 0), (2, 0), (1, 1)]\n[(0, 0), (3, 0), (3, 0), (0, 0)]\n[(0, 0), (3, 0), (3, 0), (1, 1)]\n[(0, 0), (3, 0), (3, 0), (3, 0)]\n[(1, 1), (0, 0), (0, 0), (0, 0)]\n[(1, 1), (0, 0), (0, 0), (1, 1)]\n[(1, 1), (0, 0), (0, 0), (3, 0)]\n[(1, 1), (0, 0), (1, 1), (0, 0)]\n[(1, 1), (0, 0), (1, 1), (1, 1)]\n[(1, 1), (0, 0), (1, 1), (3, 0)]\n[(1, 1), (0, 0), (3, 0), (0, 0)]\n[(1, 1), (0, 0), (3, 0), (1, 1)]\n[(1, 1), (0, 0), (3, 0), (3, 0)]\n[(1, 1), (1, 1), (0, 0), (1, 1)]\n[(1, 1), (1, 1), (0, 0), (3, 0)]\n[(1, 1), (1, 1), (1, 1), (0, 0)]\n[(1, 1), (1, 1), (1, 1), (1, 1)]\n[(1, 1), (1, 1), (3, 0), (0, 0)]\n[(1, 1), (1, 1), (3, 0), (1, 1)]\n[(1, 1), (1, 1), (3, 0), (3, 0)]\n[(1, 1), (2, 0), (0, 0), (3, 0)]\n[(1, 1), (3, 0), (0, 0), (0, 0)]\n[(1, 1), (3, 0), (0, 0), (1, 1)]\n[(1, 1), (3, 0), (0, 0), (2, 0)]\n[(1, 1), (3, 0), (0, 0), (3, 0)]\n[(1, 1), (3, 0), (1, 1), (0, 0)]\n[(1, 1), (3, 0), (1, 1), (1, 1)]\n[(1, 1), (3, 0), (1, 1), (3, 0)]\n[(1, 1), (3, 0), (2, 0), (0, 0)]\n[(1, 1), (3, 0), (2, 0), (1, 1)]\n[(1, 1), (3, 0), (3, 0), (0, 0)]\n[(1, 1), (3, 0), (3, 0), (3, 0)]\n[(2, 0), (0, 0), (0, 0), (1, 1)]\n[(2, 0), (0, 0), (0, 0), (3, 0)]\n[(2, 0), (1, 1), (0, 0), (3, 0)]\n[(2, 0), (1, 1), (3, 0), (0, 0)]\n[(2, 0), (3, 0), (0, 0), (1, 1)]\n[(2, 0), (3, 0), (1, 1), (0, 0)]\n[(3, 0), (0, 0), (0, 0), (0, 0)]\n[(3, 0), (0, 0), (0, 0), (1, 1)]\n[(3, 0), (0, 0), (0, 0), (3, 0)]\n[(3, 0), (0, 0), (1, 1), (0, 0)]\n[(3, 0), (0, 0), (1, 1), (1, 1)]\n[(3, 0), (0, 0), (1, 1), (2, 0)]\n[(3, 0), (0, 0), (1, 1), (3, 0)]\n[(3, 0), (0, 0), (2, 0), (1, 1)]\n[(3, 0), (0, 0), (3, 0), (0, 0)]\n[(3, 0), (0, 0), (3, 0), (1, 1)]\n[(3, 0), (0, 0), (3, 0), (3, 0)]\n[(3, 0), (1, 1), (0, 0), (0, 0)]\n[(3, 0), (1, 1), (0, 0), (1, 1)]\n[(3, 0), (1, 1), (0, 0), (3, 0)]\n[(3, 0), (1, 1), (1, 1), (0, 0)]\n[(3, 0), (1, 1), (1, 1), (1, 1)]\n[(3, 0), (1, 1), (1, 1), (2, 0)]\n[(3, 0), (1, 1), (1, 1), (3, 0)]\n[(3, 0), (1, 1), (2, 0), (0, 0)]\n[(3, 0), (1, 1), (3, 0), (0, 0)]\n[(3, 0), (1, 1), (3, 0), (3, 0)]\n[(3, 0), (2, 0), (0, 0), (1, 1)]\n[(3, 0), (2, 0), (1, 1), (0, 0)]\n[(3, 0), (2, 0), (1, 1), (1, 1)]\n[(3, 0), (3, 0), (0, 0), (0, 0)]\n[(3, 0), (3, 0), (0, 0), (1, 1)]\n[(3, 0), (3, 0), (0, 0), (3, 0)]\n[(3, 0), (3, 0), (1, 1), (0, 0)]\n[(3, 0), (3, 0), (1, 1), (1, 1)]\n[(3, 0), (3, 0), (1, 1), (3, 0)]\n[(3, 0), (3, 0), (3, 0), (0, 0)]\n[(3, 0), (3, 0), (3, 0), (1, 1)]\n[(3, 0), (3, 0), (3, 0), (3, 0)]\nThis is the 1 factor\n[(0, 0), (0, 0), (0, 0), (0, 0)]\n[(0, 0), (0, 0), (0, 0), (1, 1)]\n[(0, 0), (0, 0), (0, 0), (3, 0)]\n[(0, 0), (0, 0), (1, 1), (0, 0)]\n[(0, 0), (0, 0), (1, 1), (1, 1)]\n[(0, 0), (0, 0), (1, 1), (2, 0)]\n[(0, 0), (0, 0), (1, 1), (3, 0)]\n[(0, 0), (0, 0), (3, 0), (0, 0)]\n[(0, 0), (0, 0), (3, 0), (1, 1)]\n[(0, 0), (0, 0), (3, 0), (3, 0)]\n[(0, 0), (1, 1), (0, 0), (0, 0)]\n[(0, 0), (1, 1), (0, 0), (1, 1)]\n[(0, 0), (1, 1), (0, 0), (3, 0)]\n[(0, 0), (1, 1), (1, 1), (0, 0)]\n[(0, 0), (1, 1), (1, 1), (1, 1)]\n[(0, 0), (1, 1), (1, 1), (2, 0)]\n[(0, 0), (1, 1), (1, 1), (2, 1)]\n[(0, 0), (1, 1), (1, 1), (3, 0)]\n[(0, 0), (1, 1), (2, 1), (1, 1)]\n[(0, 0), (1, 1), (3, 0), (0, 0)]\n[(0, 0), (1, 1), (3, 0), (1, 1)]\n[(0, 0), (1, 1), (3, 0), (3, 0)]\n[(0, 0), (3, 0), (0, 0), (0, 0)]\n[(0, 0), (3, 0), (0, 0), (1, 1)]\n[(0, 0), (3, 0), (0, 0), (3, 0)]\n[(0, 0), (3, 0), (1, 1), (0, 0)]\n[(0, 0), (3, 0), (1, 1), (1, 1)]\n[(0, 0), (3, 0), (1, 1), (3, 0)]\n[(0, 0), (3, 0), (2, 0), (1, 1)]\n[(0, 0), (3, 0), (3, 0), (0, 0)]\n[(0, 0), (3, 0), (3, 0), (1, 1)]\n[(0, 0), (3, 0), (3, 0), (3, 0)]\n[(1, 1), (0, 0), (0, 0), (0, 0)]\n[(1, 1), (0, 0), (0, 0), (1, 1)]\n[(1, 1), (0, 0), (0, 0), (3, 0)]\n[(1, 1), (0, 0), (1, 1), (0, 0)]\n[(1, 1), (0, 0), (1, 1), (1, 1)]\n[(1, 1), (0, 0), (1, 1), (2, 0)]\n[(1, 1), (0, 0), (1, 1), (3, 0)]\n[(1, 1), (0, 0), (2, 1), (1, 1)]\n[(1, 1), (0, 0), (3, 0), (0, 0)]\n[(1, 1), (0, 0), (3, 0), (1, 1)]\n[(1, 1), (0, 0), (3, 0), (3, 0)]\n[(1, 1), (1, 1), (0, 0), (0, 0)]\n[(1, 1), (1, 1), (0, 0), (1, 1)]\n[(1, 1), (1, 1), (0, 0), (3, 0)]\n[(1, 1), (1, 1), (1, 1), (0, 0)]\n[(1, 1), (1, 1), (1, 1), (1, 1)]\n[(1, 1), (1, 1), (1, 1), (3, 0)]\n[(1, 1), (1, 1), (3, 0), (0, 0)]\n[(1, 1), (1, 1), (3, 0), (1, 1)]\n[(1, 1), (1, 1), (3, 0), (3, 0)]\n[(1, 1), (2, 1), (0, 0), (1, 1)]\n[(1, 1), (2, 1), (3, 0), (1, 1)]\n[(1, 1), (3, 0), (0, 0), (0, 0)]\n[(1, 1), (3, 0), (0, 0), (1, 1)]\n[(1, 1), (3, 0), (0, 0), (3, 0)]\n[(1, 1), (3, 0), (1, 1), (0, 0)]\n[(1, 1), (3, 0), (1, 1), (1, 1)]\n[(1, 1), (3, 0), (1, 1), (3, 0)]\n[(1, 1), (3, 0), (2, 1), (1, 1)]\n[(1, 1), (3, 0), (3, 0), (0, 0)]\n[(1, 1), (3, 0), (3, 0), (1, 1)]\n[(1, 1), (3, 0), (3, 0), (3, 0)]\n[(2, 1), (0, 0), (1, 1), (1, 1)]\n[(2, 1), (0, 0), (3, 0), (1, 1)]\n[(2, 1), (1, 1), (1, 1), (1, 1)]\n[(3, 0), (0, 0), (0, 0), (0, 0)]\n[(3, 0), (0, 0), (0, 0), (1, 1)]\n[(3, 0), (0, 0), (0, 0), (3, 0)]\n[(3, 0), (0, 0), (1, 1), (0, 0)]\n[(3, 0), (0, 0), (1, 1), (1, 1)]\n[(3, 0), (0, 0), (1, 1), (3, 0)]\n[(3, 0), (0, 0), (3, 0), (0, 0)]\n[(3, 0), (0, 0), (3, 0), (1, 1)]\n[(3, 0), (0, 0), (3, 0), (3, 0)]\n[(3, 0), (1, 1), (0, 0), (0, 0)]\n[(3, 0), (1, 1), (0, 0), (1, 1)]\n[(3, 0), (1, 1), (0, 0), (3, 0)]\n[(3, 0), (1, 1), (1, 1), (0, 0)]\n[(3, 0), (1, 1), (1, 1), (1, 1)]\n[(3, 0), (1, 1), (1, 1), (2, 0)]\n[(3, 0), (1, 1), (1, 1), (3, 0)]\n[(3, 0), (1, 1), (2, 0), (0, 0)]\n[(3, 0), (1, 1), (2, 0), (1, 1)]\n[(3, 0), (1, 1), (3, 0), (0, 0)]\n[(3, 0), (1, 1), (3, 0), (1, 1)]\n[(3, 0), (1, 1), (3, 0), (3, 0)]\n[(3, 0), (2, 0), (0, 0), (1, 1)]\n[(3, 0), (2, 0), (1, 1), (1, 1)]\n[(3, 0), (3, 0), (0, 0), (0, 0)]\n[(3, 0), (3, 0), (0, 0), (1, 1)]\n[(3, 0), (3, 0), (0, 0), (3, 0)]\n[(3, 0), (3, 0), (1, 1), (0, 0)]\n[(3, 0), (3, 0), (1, 1), (1, 1)]\n[(3, 0), (3, 0), (1, 1), (3, 0)]\n[(3, 0), (3, 0), (2, 1), (1, 1)]\n[(3, 0), (3, 0), (3, 0), (0, 0)]\n[(3, 0), (3, 0), (3, 0), (1, 1)]\n[(3, 0), (3, 0), (3, 0), (3, 0)]\nThis is the 2 factor\n[(0, 0), (2, 1), (1, 0), (2, 1)]\n[(0, 0), (2, 1), (1, 0), (3, 0)]\n[(0, 0), (2, 1), (2, 1), (1, 0)]\n[(0, 0), (2, 1), (2, 1), (2, 1)]\n[(0, 0), (2, 1), (3, 0), (1, 0)]\n[(0, 0), (2, 1), (3, 0), (2, 1)]\n[(0, 0), (3, 0), (1, 0), (2, 1)]\n[(0, 0), (3, 0), (2, 1), (1, 0)]\n[(0, 0), (3, 0), (2, 1), (2, 1)]\n[(0, 1), (1, 0), (2, 0), (2, 0)]\n[(0, 1), (2, 0), (2, 0), (2, 0)]\n[(1, 0), (1, 0), (2, 0), (2, 0)]\n[(1, 0), (2, 0), (1, 0), (2, 0)]\n[(1, 0), (2, 0), (2, 0), (2, 0)]\n[(1, 0), (2, 0), (3, 0), (2, 0)]\n[(1, 1), (0, 0), (2, 1), (2, 1)]\n[(1, 1), (2, 1), (1, 0), (2, 1)]\n[(1, 1), (2, 1), (2, 1), (1, 0)]\n[(1, 1), (2, 1), (2, 1), (2, 1)]\n[(1, 1), (2, 1), (2, 1), (3, 0)]\n[(1, 1), (2, 1), (3, 0), (1, 0)]\n[(1, 1), (2, 1), (3, 0), (2, 1)]\n[(1, 1), (2, 1), (3, 0), (3, 1)]\n[(1, 1), (3, 0), (2, 1), (1, 0)]\n[(1, 1), (3, 0), (2, 1), (2, 1)]\n[(1, 1), (3, 0), (2, 1), (3, 1)]\n[(2, 0), (0, 1), (2, 0), (2, 0)]\n[(2, 0), (0, 1), (3, 0), (2, 0)]\n[(2, 0), (1, 0), (2, 0), (2, 0)]\n[(2, 0), (1, 0), (3, 0), (2, 0)]\n[(2, 0), (2, 0), (0, 1), (2, 0)]\n[(2, 0), (2, 0), (1, 0), (1, 0)]\n[(2, 0), (2, 0), (1, 0), (2, 0)]\n[(2, 0), (2, 0), (2, 0), (0, 1)]\n[(2, 0), (2, 0), (2, 0), (1, 0)]\n[(2, 1), (0, 0), (1, 0), (2, 1)]\n[(2, 1), (0, 0), (1, 0), (3, 0)]\n[(2, 1), (0, 0), (2, 1), (1, 0)]\n[(2, 1), (0, 0), (2, 1), (2, 1)]\n[(2, 1), (0, 0), (3, 0), (1, 0)]\n[(2, 1), (0, 0), (3, 0), (2, 1)]\n[(2, 1), (1, 0), (2, 1), (3, 0)]\n[(2, 1), (1, 0), (3, 0), (2, 1)]\n[(2, 1), (1, 1), (1, 0), (2, 1)]\n[(2, 1), (1, 1), (2, 1), (1, 0)]\n[(2, 1), (1, 1), (2, 1), (2, 1)]\n[(2, 1), (1, 1), (3, 0), (2, 1)]\n[(2, 1), (2, 1), (0, 0), (1, 0)]\n[(2, 1), (2, 1), (0, 0), (2, 1)]\n[(2, 1), (2, 1), (1, 0), (0, 0)]\n[(2, 1), (2, 1), (1, 0), (1, 1)]\n[(2, 1), (2, 1), (1, 0), (2, 1)]\n[(2, 1), (2, 1), (1, 0), (3, 0)]\n[(2, 1), (2, 1), (2, 1), (0, 0)]\n[(2, 1), (2, 1), (2, 1), (0, 1)]\n[(2, 1), (2, 1), (2, 1), (1, 0)]\n[(2, 1), (2, 1), (2, 1), (2, 1)]\n[(2, 1), (2, 1), (2, 1), (3, 0)]\n[(2, 1), (2, 1), (3, 0), (1, 0)]\n[(2, 1), (2, 1), (3, 0), (2, 1)]\n[(2, 1), (2, 1), (3, 0), (3, 1)]\n[(2, 1), (3, 0), (0, 0), (1, 0)]\n[(2, 1), (3, 0), (0, 0), (2, 1)]\n[(2, 1), (3, 0), (1, 0), (0, 0)]\n[(2, 1), (3, 0), (1, 0), (1, 1)]\n[(2, 1), (3, 0), (1, 0), (2, 1)]\n[(2, 1), (3, 0), (1, 0), (3, 0)]\n[(2, 1), (3, 0), (2, 1), (0, 0)]\n[(2, 1), (3, 0), (2, 1), (1, 0)]\n[(2, 1), (3, 0), (2, 1), (2, 1)]\n[(2, 1), (3, 0), (2, 1), (3, 0)]\n[(2, 1), (3, 0), (3, 0), (1, 0)]\n[(2, 1), (3, 0), (3, 0), (2, 1)]\n[(3, 0), (0, 0), (1, 0), (2, 1)]\n[(3, 0), (0, 0), (2, 1), (1, 0)]\n[(3, 0), (0, 0), (2, 1), (2, 1)]\n[(3, 0), (0, 1), (2, 1), (2, 1)]\n[(3, 0), (1, 0), (0, 0), (2, 1)]\n[(3, 0), (1, 0), (1, 1), (2, 1)]\n[(3, 0), (1, 0), (2, 1), (0, 0)]\n[(3, 0), (1, 0), (2, 1), (1, 1)]\n[(3, 0), (1, 0), (2, 1), (2, 1)]\n[(3, 0), (1, 0), (2, 1), (3, 0)]\n[(3, 0), (1, 0), (3, 0), (2, 1)]\n[(3, 0), (2, 1), (0, 0), (1, 0)]\n[(3, 0), (2, 1), (0, 0), (2, 1)]\n[(3, 0), (2, 1), (0, 1), (2, 1)]\n[(3, 0), (2, 1), (1, 0), (0, 0)]\n[(3, 0), (2, 1), (1, 0), (1, 1)]\n[(3, 0), (2, 1), (1, 0), (2, 1)]\n[(3, 0), (2, 1), (1, 0), (3, 0)]\n[(3, 0), (2, 1), (2, 1), (0, 0)]\n[(3, 0), (2, 1), (2, 1), (1, 0)]\n[(3, 0), (2, 1), (2, 1), (2, 1)]\n[(3, 0), (2, 1), (2, 1), (3, 0)]\n[(3, 0), (2, 1), (3, 0), (1, 0)]\n[(3, 0), (2, 1), (3, 0), (2, 1)]\n[(3, 0), (3, 0), (1, 0), (2, 1)]\n[(3, 0), (3, 0), (2, 1), (1, 0)]\n[(3, 0), (3, 0), (2, 1), (2, 1)]\nThis is the 3 factor\n[(0, 1), (0, 1), (3, 0), (2, 0)]\n[(0, 1), (0, 1), (3, 0), (3, 0)]\n[(0, 1), (1, 1), (3, 0), (3, 0)]\n[(0, 1), (2, 0), (2, 0), (2, 0)]\n[(0, 1), (2, 0), (2, 0), (3, 0)]\n[(0, 1), (2, 0), (3, 0), (2, 0)]\n[(0, 1), (2, 0), (3, 0), (3, 0)]\n[(0, 1), (3, 0), (0, 1), (3, 0)]\n[(0, 1), (3, 0), (1, 0), (3, 0)]\n[(0, 1), (3, 0), (1, 1), (3, 0)]\n[(0, 1), (3, 0), (2, 0), (2, 0)]\n[(0, 1), (3, 0), (2, 0), (3, 0)]\n[(0, 1), (3, 0), (3, 0), (0, 1)]\n[(0, 1), (3, 0), (3, 0), (1, 0)]\n[(0, 1), (3, 0), (3, 0), (2, 0)]\n[(0, 1), (3, 0), (3, 0), (3, 0)]\n[(1, 0), (0, 1), (3, 0), (3, 0)]\n[(1, 0), (2, 0), (3, 0), (3, 0)]\n[(1, 0), (3, 0), (0, 1), (3, 0)]\n[(1, 0), (3, 0), (2, 0), (3, 0)]\n[(1, 0), (3, 0), (3, 0), (0, 1)]\n[(1, 0), (3, 0), (3, 0), (2, 0)]\n[(1, 0), (3, 0), (3, 0), (3, 0)]\n[(2, 0), (0, 1), (2, 0), (2, 0)]\n[(2, 0), (0, 1), (2, 0), (3, 0)]\n[(2, 0), (0, 1), (3, 0), (2, 0)]\n[(2, 0), (0, 1), (3, 0), (3, 0)]\n[(2, 0), (1, 0), (3, 0), (3, 0)]\n[(2, 0), (2, 0), (0, 1), (2, 0)]\n[(2, 0), (2, 0), (0, 1), (3, 0)]\n[(2, 0), (2, 0), (2, 0), (0, 1)]\n[(2, 0), (2, 0), (2, 0), (2, 0)]\n[(2, 0), (2, 0), (2, 0), (3, 0)]\n[(2, 0), (2, 0), (3, 0), (0, 1)]\n[(2, 0), (2, 0), (3, 0), (1, 0)]\n[(2, 0), (2, 0), (3, 0), (2, 0)]\n[(2, 0), (2, 0), (3, 0), (3, 0)]\n[(2, 0), (3, 0), (0, 1), (2, 0)]\n[(2, 0), (3, 0), (0, 1), (3, 0)]\n[(2, 0), (3, 0), (1, 0), (2, 0)]\n[(2, 0), (3, 0), (1, 0), (3, 0)]\n[(2, 0), (3, 0), (2, 0), (0, 1)]\n[(2, 0), (3, 0), (2, 0), (1, 0)]\n[(2, 0), (3, 0), (2, 0), (2, 0)]\n[(2, 0), (3, 0), (2, 0), (3, 0)]\n[(2, 0), (3, 0), (3, 0), (0, 1)]\n[(2, 0), (3, 0), (3, 0), (1, 0)]\n[(2, 0), (3, 0), (3, 0), (2, 0)]\n[(2, 0), (3, 0), (3, 0), (3, 0)]\n[(3, 0), (0, 1), (0, 0), (3, 0)]\n[(3, 0), (0, 1), (0, 1), (2, 0)]\n[(3, 0), (0, 1), (0, 1), (3, 0)]\n[(3, 0), (0, 1), (1, 0), (2, 0)]\n[(3, 0), (0, 1), (1, 0), (3, 0)]\n[(3, 0), (0, 1), (1, 1), (3, 0)]\n[(3, 0), (0, 1), (2, 0), (0, 1)]\n[(3, 0), (0, 1), (2, 0), (2, 0)]\n[(3, 0), (0, 1), (2, 0), (3, 0)]\n[(3, 0), (0, 1), (3, 0), (0, 1)]\n[(3, 0), (0, 1), (3, 0), (1, 0)]\n[(3, 0), (0, 1), (3, 0), (1, 1)]\n[(3, 0), (0, 1), (3, 0), (2, 0)]\n[(3, 0), (0, 1), (3, 0), (3, 0)]\n[(3, 0), (1, 0), (0, 1), (2, 0)]\n[(3, 0), (1, 0), (0, 1), (3, 0)]\n[(3, 0), (1, 0), (1, 0), (3, 0)]\n[(3, 0), (1, 0), (2, 0), (0, 1)]\n[(3, 0), (1, 0), (2, 0), (2, 0)]\n[(3, 0), (1, 0), (2, 0), (3, 0)]\n[(3, 0), (1, 0), (3, 0), (0, 1)]\n[(3, 0), (1, 0), (3, 0), (1, 0)]\n[(3, 0), (1, 0), (3, 0), (2, 0)]\n[(3, 0), (1, 0), (3, 0), (3, 0)]\n[(3, 0), (2, 0), (0, 1), (2, 0)]\n[(3, 0), (2, 0), (0, 1), (3, 0)]\n[(3, 0), (2, 0), (1, 0), (2, 0)]\n[(3, 0), (2, 0), (1, 0), (3, 0)]\n[(3, 0), (2, 0), (2, 0), (0, 1)]\n[(3, 0), (2, 0), (2, 0), (1, 0)]\n[(3, 0), (2, 0), (2, 0), (2, 0)]\n[(3, 0), (2, 0), (2, 0), (3, 0)]\n[(3, 0), (2, 0), (3, 0), (0, 1)]\n[(3, 0), (2, 0), (3, 0), (1, 0)]\n[(3, 0), (2, 0), (3, 0), (2, 0)]\n[(3, 0), (2, 0), (3, 0), (3, 0)]\n[(3, 0), (3, 0), (0, 1), (0, 1)]\n[(3, 0), (3, 0), (0, 1), (1, 0)]\n[(3, 0), (3, 0), (0, 1), (2, 0)]\n[(3, 0), (3, 0), (0, 1), (3, 0)]\n[(3, 0), (3, 0), (1, 0), (0, 1)]\n[(3, 0), (3, 0), (1, 0), (1, 0)]\n[(3, 0), (3, 0), (1, 0), (2, 0)]\n[(3, 0), (3, 0), (1, 0), (3, 0)]\n[(3, 0), (3, 0), (2, 0), (0, 1)]\n[(3, 0), (3, 0), (2, 0), (1, 0)]\n[(3, 0), (3, 0), (2, 0), (2, 0)]\n[(3, 0), (3, 0), (2, 0), (3, 0)]\n[(3, 0), (3, 0), (3, 0), (0, 1)]\n[(3, 0), (3, 0), (3, 0), (1, 0)]\n[(3, 0), (3, 0), (3, 0), (2, 0)]\n(3.71902591363+0j)\n"
     ]
    }
   ],
   "source": [
    "delta= 100\n",
    "K= 4\n",
    "loading_chosen = loading[:, :K].copy()\n",
    "loading_2_K= loading_chosen[:,:K].copy()\n",
    "count= 0\n",
    "for i in range(K):\n",
    "    print (\"This is the %d factor\" % i)\n",
    "    threshold= np.partition(abs(loading_2_K[:,i]),-delta)[-delta]\n",
    "    loading_2_K[np.abs(loading_2_K[:,i])<threshold,i]=0\n",
    "    loading_2_K[:,i]= loading_2_K[:,i]/np.linalg.norm(loading_2_K[:,i])*np.sqrt(N)\n",
    "    index_K= np.argwhere(np.abs(loading_2_K[:,i])>=threshold)\n",
    "    # print (index_K)\n",
    "    for j in range(len(index_K)):\n",
    "        print (nodetag[index_K[j][0]])\n",
    "        count+= 1    \n",
    "Factor_sparse = portfolio.dot(loading_2_K)/N\n",
    "rho= np.trace(np.linalg.inv(Factor.T.dot(Factor)/T).dot(Factor.T.dot(Factor_sparse)/T).dot(np.linalg.inv(Factor_sparse.T.dot(Factor_sparse)/T)).dot(Factor_sparse.T.dot(Factor)/T))\n",
    "# rho= 1/(Factor[:,3].T.dot(Factor[:,3])/T)*(Factor_sparse[:,3].T.dot(Factor[:,3])/T)*1/((Factor_sparse[:,3].T.dot(Factor_sparse[:,3])/T))*(Factor[:,3].T.dot(Factor_sparse[:,3])/T)\n",
    "print (rho)\n",
    "# print (np.count_nonzero(loading_2_K))\n",
    "# print (count)\n"
   ]
  },
  {
   "cell_type": "code",
   "execution_count": 121,
   "metadata": {
    "collapsed": true
   },
   "outputs": [],
   "source": [
    "def computecorr(delta):\n",
    "    loading_chosen = loading[:, :K].copy()\n",
    "    loading_2_K= loading_chosen[:,:K].copy()\n",
    "    count= 0\n",
    "    for i in range(K):\n",
    "        # print (\"This is the %d factor\" % i)\n",
    "        threshold= np.partition(abs(loading_2_K[:,i]),-delta)[-delta]\n",
    "        loading_2_K[np.abs(loading_2_K[:,i])<threshold,i]=0\n",
    "        loading_2_K[:,i]= loading_2_K[:,i]/np.linalg.norm(loading_2_K[:,i])*np.sqrt(N)\n",
    "        index_K= np.argwhere(np.abs(loading_2_K[:,i])>=threshold)\n",
    "    # print (index_K)\n",
    "        for j in range(len(index_K)):\n",
    "        # print (nodetag[index_K[j][0]])\n",
    "            count+= 1    \n",
    "    Factor_sparse = portfolio.dot(loading_2_K)/N\n",
    "    rho= np.trace(np.linalg.inv(Factor.T.dot(Factor)/T).dot(Factor.T.dot(Factor_sparse)/T).dot(np.linalg.inv(Factor_sparse.T.dot(Factor_sparse)/T)).dot(Factor_sparse.T.dot(Factor)/T))\n",
    "    return rho\n"
   ]
  },
  {
   "cell_type": "code",
   "execution_count": 126,
   "metadata": {},
   "outputs": [
    {
     "name": "stderr",
     "output_type": "stream",
     "text": [
      "C:\\ProgramData\\Anaconda3\\lib\\site-packages\\numpy\\core\\numeric.py:531: ComplexWarning: Casting complex values to real discards the imaginary part\n",
      "  return array(a, dtype, copy=False, order=order)\n"
     ]
    }
   ],
   "source": [
    "import matplotlib.pyplot as plt\n",
    "corr= [computecorr(delta) for delta in [2**k for k in np.arange(0,10)]]\n",
    "plt.plot(range(len(corr)),corr)\n",
    "plt.xlabel('Number of nonzero elements to choose, raise to the power of 2')\n",
    "plt.ylabel('Generalized Correlation')\n",
    "plt.savefig('C://Users//zihanlin//Desktop//File//Research//generalize_corr.png')"
   ]
  },
  {
   "cell_type": "code",
   "execution_count": 104,
   "metadata": {},
   "outputs": [
    {
     "name": "stderr",
     "output_type": "stream",
     "text": [
      "C:\\ProgramData\\Anaconda3\\lib\\site-packages\\numpy\\core\\numeric.py:531: ComplexWarning: Casting complex values to real discards the imaginary part\n",
      "  return array(a, dtype, copy=False, order=order)\n"
     ]
    },
    {
     "data": {
      "image/png": "[encoded data removed]",
      "text/plain": [
       "<matplotlib.figure.Figure at 0x1cc01258940>"
      ]
     },
     "metadata": {},
     "output_type": "display_data"
    }
   ],
   "source": [
    "plt.plot(range(len(Factor_sparse[:,0])), Factor_sparse[:,1])\n",
    "plt.plot(range(en(Factor_sparse[:,0])), Factor[:,0])\n",
    "plt.show()"
   ]
  },
  {
   "cell_type": "code",
   "execution_count": 5,
   "metadata": {
    "collapsed": true
   },
   "outputs": [],
   "source": [
    "variance_ratio= np.zeros((11))\n",
    "for i in range(1,11):\n",
    "    variance_ratio[i]= variance[i].real/variance[i+1].real\n",
    "import matplotlib.pyplot as plt\n",
    "variance_diff= np.zeros((11))\n",
    "for i in range(1,11):\n",
    "    variance_diff[i]= variance[i].real- variance[i+1].real\n",
    "plt.plot(range(len(variance_ratio)), variance_ratio)\n",
    "plt.title('Eigenvalue Ratio, PCA, first eliminated')\n",
    "plt.savefig('C://Users//zihan//Desktop//File//Research//eigratioPCA.png')\n",
    "plt.clf()\n",
    "plt.plot(range(len(variance_diff)), variance_diff)\n",
    "plt.title('Eigenvalue Difference, PCA, first eliminated')\n",
    "plt.savefig('C://Users//zihan//Desktop//File//Research//eigdiffPCA.png')\n",
    "plt.clf()"
   ]
  },
  {
   "cell_type": "code",
   "execution_count": 23,
   "metadata": {
    "collapsed": true
   },
   "outputs": [
    {
     "name": "stdout",
     "output_type": "stream",
     "text": [
      "(11, 20736)\n"
     ]
    }
   ],
   "source": [
    "# Get the interpretation of each variable.\n",
    "import matplotlib.pyplot as plt\n",
    "print (loading.shape)\n",
    "chara= 0\n",
    "count= np.zeros((6))\n",
    "for chara in range(6):\n",
    "    for i in range(loading.shape[1]):\n",
    "        temp= [item[0] for item in nodetag[i]]\n",
    "        if chara in temp:\n",
    "            count[chara]+= np.sum(np.abs(loading[:,i]))\n",
    "objects = ('beme', 'lme', 'lturnover', 'prof', 'momen', 'idio_vol')\n",
    "y_pos = np.arange(len(objects))\n",
    "performance = count\n",
    "plt.bar(y_pos, performance, align='center', alpha=0.5)\n",
    "plt.xticks(y_pos, objects)\n",
    "plt.ylabel('Importance')\n",
    "plt.savefig('C://Users//zihan//Desktop//Files//Research//importance.png')"
   ]
  },
  {
   "cell_type": "code",
   "execution_count": null,
   "metadata": {},
   "outputs": [],
   "source": [
    "def beautiful_print(node):\n",
    "    \n"
   ]
  }
 ],
 "metadata": {
  "kernelspec": {
   "display_name": "Python 2",
   "language": "python",
   "name": "python2"
  },
  "language_info": {
   "codemirror_mode": {
    "name": "ipython",
    "version": 2
   },
   "file_extension": ".py",
   "mimetype": "text/x-python",
   "name": "python",
   "nbconvert_exporter": "python",
   "pygments_lexer": "ipython2",
   "version": "2.7.13"
  }
 },
 "nbformat": 4,
 "nbformat_minor": 1
}
