{
 "cells": [
  {
   "cell_type": "code",
   "execution_count": 37,
   "metadata": {
    "collapsed": true
   },
   "outputs": [],
   "source": [
    "import numpy as np\n",
    "import pandas as pd\n",
    "famafrench_data= pd.read_csv('C:\\\\Users\\\\zihan\\\\Desktop\\\\Files\\\\Research\\\\25_Portfolios_ME_AC_5x5.csv')"
   ]
  },
  {
   "cell_type": "code",
   "execution_count": 38,
   "metadata": {
    "collapsed": true
   },
   "outputs": [],
   "source": [
    "T, N = famafrench_data.shape\n",
    "N = N - 1\n",
    "date = famafrench_data.iloc[:, 0]\n",
    "portfolio = pd.DataFrame.as_matrix(famafrench_data.iloc[:, 1:])"
   ]
  },
  {
   "cell_type": "code",
   "execution_count": 45,
   "metadata": {},
   "outputs": [
    {
     "name": "stdout",
     "output_type": "stream",
     "text": [
      "&0.21&0.21&0.22&0.32&0.36&0.36&0.36&0.36&0.37&0.37\n"
     ]
    }
   ],
   "source": [
    "gamma= -1\n",
    "# portfolio_demean = portfolio - np.mean(portfolio, axis=0)\n",
    "# Dimension of portfolio: T*M\n",
    "covmat = portfolio.T.dot(portfolio)\n",
    "portfolio_mean= np.sum(portfolio, axis= 0, keepdims=True)\n",
    "covmat= covmat+ portfolio_mean.T.dot(portfolio_mean)*gamma/T\n",
    "covmat= covmat/np.diagonal(covmat)\n",
    "variance, loading = np.linalg.eig(covmat)\n",
    "output= []\n",
    "for K in range(1, 11):\n",
    "    loading_chosen = loading[:, :K]\n",
    "    Factor = portfolio.dot(loading_chosen)\n",
    "    mu = np.mean(Factor, axis=0)\n",
    "    covmat_factor = np.cov(Factor.T)\n",
    "    if K==1:\n",
    "        output.append (abs(mu)*covmat_factor**(-1/2))\n",
    "    else:\n",
    "        output.append(np.sqrt(np.dot(np.dot(mu, np.linalg.inv(covmat_factor)), mu.T)))\n",
    "twodecimals = [\"&%.2f\" % np.real(v) for v in output]\n",
    "print (''.join(twodecimals))"
   ]
  },
  {
   "cell_type": "code",
   "execution_count": 41,
   "metadata": {},
   "outputs": [
    {
     "name": "stdout",
     "output_type": "stream",
     "text": [
      "(653, 25)\n653\n(1, 25)\n"
     ]
    }
   ],
   "source": [
    "print (portfolio.shape)\n",
    "print (T)\n",
    "print (portfolio_mean.shape)"
   ]
  },
  {
   "cell_type": "code",
   "execution_count": 40,
   "metadata": {},
   "outputs": [
    {
     "name": "stdout",
     "output_type": "stream",
     "text": [
      "[  2.49616024e+01   1.84152846e-02   3.71991839e-03   2.20265581e-03\n   1.81677669e-03   1.18659082e-03   1.09627453e-03   9.20660811e-04\n   8.32831567e-04   7.60450922e-04   3.16624316e-04   7.02376208e-04\n   6.68567991e-04   3.67971171e-04   3.71565844e-04   3.94035574e-04\n   4.06693532e-04   4.30047471e-04   4.70908952e-04   6.12613078e-04\n   4.99526301e-04   5.15952932e-04   5.71671351e-04   5.56404122e-04\n   5.61238213e-04]\n"
     ]
    }
   ],
   "source": [
    "print (variance)"
   ]
  },
  {
   "cell_type": "code",
   "execution_count": null,
   "metadata": {},
   "outputs": [],
   "source": []
  }
 ],
 "metadata": {
  "kernelspec": {
   "display_name": "Python 2",
   "language": "python",
   "name": "python2"
  },
  "language_info": {
   "codemirror_mode": {
    "name": "ipython",
    "version": 2
   },
   "file_extension": ".py",
   "mimetype": "text/x-python",
   "name": "python",
   "nbconvert_exporter": "python",
   "pygments_lexer": "ipython2",
   "version": "2.7.6"
  }
 },
 "nbformat": 4,
 "nbformat_minor": 0
}
