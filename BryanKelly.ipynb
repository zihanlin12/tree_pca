{
 "cells": [
  {
   "cell_type": "code",
   "execution_count": 2,
   "metadata": {
    "collapsed": true
   },
   "outputs": [
    {
     "name": "stdout",
     "output_type": "stream",
     "text": [
      "(360, 304, 42)\n"
     ]
    }
   ],
   "source": [
    "import numpy as np\n",
    "data = np.load('C:\\\\Users\\\\zihan\\\\Desktop\\\\Files\\\\Research\\\\bryankelly_without_missing.npz')\n",
    "processed_data = data['processed_data']\n",
    "print(processed_data.shape)\n",
    "T, N, M = processed_data.shape\n",
    "returns = processed_data[:, :, 1]\n",
    "# The dimension of returns: T*N\n",
    "chara_data = processed_data[:, :, 2:]\n",
    "for i in range(T):\n",
    "    for j in range(chara_data.shape[2]):\n",
    "        chara_data[i, :, j] = np.argsort(chara_data[i, :, j])\n",
    "        chara_data[i, :, j] = (chara_data[i, :, j] + 1) / (N + 1)\n",
    "# The dimension of characteristics: \n",
    "portfolio = np.zeros((T - 1, chara_data.shape[2]))\n",
    "for i in range(T - 1):\n",
    "    portfolio[i, :] = returns[i + 1, :].dot(chara_data[i, :, :])\n",
    "portfolio_demean = portfolio - np.mean(portfolio, axis=0)\n",
    "# Dimension of portfolio: T*M\n",
    "covmat = portfolio_demean.T.dot(portfolio_demean) / (T - 2)\n",
    "variance, loading = np.linalg.eig(covmat)\n"
   ]
  },
  {
   "cell_type": "code",
   "execution_count": 6,
   "metadata": {
    "collapsed": false
   },
   "outputs": [
    {
     "name": "stdout",
     "output_type": "stream",
     "text": [
      "&0.28&0.28&0.28&0.29&0.29&0.31&0.31&0.32&0.32&0.32\n"
     ]
    }
   ],
   "source": [
    "output= []\n",
    "for K in range(1, 11):\n",
    "    loading_chosen = loading[:, :K]\n",
    "    Factor = portfolio.dot(loading_chosen)\n",
    "    mu = np.mean(Factor, axis=0)\n",
    "    covmat_factor = np.cov(Factor.T)\n",
    "    if K==1:\n",
    "        output.append (abs(mu)*covmat_factor**(-1/2))\n",
    "    else:\n",
    "        output.append(np.sqrt(np.dot(np.dot(mu, np.linalg.inv(covmat_factor)), mu.T)))\n",
    "twodecimals = [\"&%.2f\" % np.real(v) for v in output]\n",
    "print (''.join(twodecimals))"
   ]
  },
  {
   "cell_type": "code",
   "execution_count": 9,
   "metadata": {},
   "outputs": [
    {
     "name": "stdout",
     "output_type": "stream",
     "text": [
      "1984-06-30\n2014-05-31\n"
     ]
    }
   ],
   "source": [
    "data = np.load('C:\\\\Users\\\\zihan\\\\Desktop\\\\Files\\\\Research\\\\NpForMartinLettau.npz')\n",
    "date = data['date']\n",
    "print(date[-360])\n",
    "print(date[len(date)-1])"
   ]
  },
  {
   "cell_type": "code",
   "execution_count": 28,
   "metadata": {},
   "outputs": [
    {
     "name": "stdout",
     "output_type": "stream",
     "text": [
      "(360, 304, 42)\n"
     ]
    }
   ],
   "source": [
    "import numpy as np\n",
    "data = np.load('C:\\\\Users\\\\zihan\\\\Desktop\\\\Files\\\\Research\\\\bryankelly_without_missing.npz')\n",
    "processed_data = data['processed_data']\n",
    "print(processed_data.shape)\n",
    "T, N, M = processed_data.shape\n",
    "returns = processed_data[:, :, 1]\n",
    "# The dimension of returns: T*N\n",
    "chara_data = processed_data[:, :, 2:]\n",
    "trans_chara_data = np.zeros((T, N, 2 * chara_data.shape[2]))\n",
    "for i in range(T):\n",
    "    for j in range(chara_data.shape[2]):\n",
    "        chara_data[i, :, j] = np.argsort(chara_data[i, :, j])\n",
    "        chara_data[i, :, j] = (chara_data[i, :, j] + 1) / (N + 1)\n",
    "data_mean = np.mean(chara_data, axis=0)\n",
    "data_mean = data_mean[np.newaxis, :]\n",
    "data_mean = np.tile(data_mean, (T, 1, 1))\n",
    "trans_chara_data[:, :, 0:chara_data.shape[2]] = data_mean\n",
    "trans_chara_data[:, :, chara_data.shape[2]:] = chara_data - data_mean\n",
    "# The dimension of characteristics: \n",
    "portfolio = np.zeros((T - 1, chara_data.shape[2]))\n",
    "for i in range(T - 1):\n",
    "    portfolio[i, :] = returns[i + 1, :].dot(chara_data[i, :, :])\n",
    "portfolio_demean = portfolio - np.mean(portfolio, axis=0)\n",
    "# Dimension of portfolio: T*M\n",
    "covmat = portfolio_demean.T.dot(portfolio_demean) / (T - 2)\n",
    "variance, loading = np.linalg.eig(covmat)"
   ]
  },
  {
   "cell_type": "code",
   "execution_count": 29,
   "metadata": {},
   "outputs": [
    {
     "name": "stdout",
     "output_type": "stream",
     "text": [
      "&0.28&0.28&0.28&0.29&0.29&0.31&0.31&0.32&0.32&0.32\n"
     ]
    }
   ],
   "source": [
    "output= []\n",
    "for K in range(1, 11):\n",
    "    loading_chosen = loading[:, :K]\n",
    "    Factor = portfolio.dot(loading_chosen)\n",
    "    mu = np.mean(Factor, axis=0)\n",
    "    covmat_factor = np.cov(Factor.T)\n",
    "    if K==1:\n",
    "        output.append (abs(mu)*covmat_factor**(-1/2))\n",
    "    else:\n",
    "        output.append(np.sqrt(np.dot(np.dot(mu, np.linalg.inv(covmat_factor)), mu.T)))\n",
    "twodecimals = [\"&%.2f\" % np.real(v) for v in output]\n",
    "print (''.join(twodecimals))"
   ]
  },
  {
   "cell_type": "code",
   "execution_count": 3,
   "metadata": {},
   "outputs": [
    {
     "name": "stdout",
     "output_type": "stream",
     "text": [
      "Have gone through iteration 0\nHave gone through iteration 20"
     ]
    },
    {
     "name": "stdout",
     "output_type": "stream",
     "text": [
      "\nHave gone through iteration 40\nHave gone through iteration 60\nHave gone through iteration 80\nHave gone through iteration 100\nHave gone through iteration 120\nHave gone through iteration 140\nHave gone through iteration 160\n&0.05&0.05&0.06&0.17&0.22&0.25&0.25&0.25&0.26&0.27\n"
     ]
    }
   ],
   "source": [
    "# out of sample\n",
    "import scipy.linalg as la\n",
    "K = 11\n",
    "Factor = np.zeros((int(T / 2), K))\n",
    "start= int(T/2)-1\n",
    "for t in range(int(T / 2)):\n",
    "    if t%20==0:\n",
    "        print ('Have gone through iteration %d'%(t))\n",
    "    portfolio_t = portfolio[:(t+start), :]\n",
    "    portfolio_demean_t = portfolio_t - np.mean(portfolio_t, axis=0)\n",
    "    covmat_t = portfolio_demean_t.T.dot(portfolio_demean_t) / (t+start - 1)\n",
    "    variance_t, loading_t = la.eigh(covmat_t,eigvals= (0,K))\n",
    "    Factor[t, :] = portfolio[t + start, :].dot(loading_t[:, :K])\n",
    "output = []\n",
    "for K in range(1, 11):\n",
    "    mu = np.mean(Factor[:, :K], axis=0)\n",
    "    covmat_factor = np.cov(Factor[:, :K].T)\n",
    "    if K == 1:\n",
    "        output.append(abs(mu) * covmat_factor ** (-1 / 2))\n",
    "    else:\n",
    "        output.append(np.sqrt(np.dot(np.dot(mu, np.linalg.inv(covmat_factor)), mu.T)))\n",
    "twodecimals = [\"&%.2f\" % np.real(v) for v in output]\n",
    "print(''.join(twodecimals))\n"
   ]
  },
  {
   "cell_type": "code",
   "execution_count": null,
   "metadata": {},
   "outputs": [],
   "source": []
  }
 ],
 "metadata": {
  "kernelspec": {
   "display_name": "Python 3",
   "language": "python",
   "name": "python3"
  },
  "language_info": {
   "codemirror_mode": {
    "name": "ipython",
    "version": 3
   },
   "file_extension": ".py",
   "mimetype": "text/x-python",
   "name": "python",
   "nbconvert_exporter": "python",
   "pygments_lexer": "ipython3",
   "version": "3.6.3"
  }
 },
 "nbformat": 4,
 "nbformat_minor": 1
}
