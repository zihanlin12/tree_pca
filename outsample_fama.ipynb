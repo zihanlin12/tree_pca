{
 "cells": [
  {
   "cell_type": "code",
   "execution_count": 4,
   "metadata": {
    "collapsed": true
   },
   "outputs": [],
   "source": [
    "import numpy as np\n",
    "data = np.load('C:\\\\Users\\\\zihan\\\\Desktop\\\\Files\\\\Research\\\\bryankelly_without_missing.npz')\n",
    "processed_data = data['processed_data']\n",
    "T, N, M = processed_data.shape\n",
    "L= 4\n",
    "D= 10\n",
    "# The dimension of returns: T*N\n",
    "chara_data = processed_data[:, :, [8, 17, 20, 33, 37]]\n",
    "# chara_data= processed_data[:,:,2:]\n",
    "# 20: seem to be accrual"
   ]
  },
  {
   "cell_type": "code",
   "execution_count": 5,
   "metadata": {
    "collapsed": true
   },
   "outputs": [],
   "source": [
    "fama_french_data= np.load('C:\\\\Users\\\\zihan\\\\Desktop\\\\Files\\\\Research\\\\riskfreerate.npz')\n",
    "fama_french_data= fama_french_data['fama_french_data']\n",
    "r_f= fama_french_data[:,4]\n",
    "r_f= r_f/100\n",
    "date= fama_french_data[:,0]\n",
    "date_start= np.asscalar(np.argwhere(date==198406))\n",
    "date_end= np.asscalar(np.argwhere(date==201405))\n",
    "returns = processed_data[:, :, 1]\n",
    "returns= returns- (r_f[date_start:date_end+1:,np.newaxis])\n",
    "accural= chara_data[:,:,1]\n",
    "size= chara_data[:,:,2]\n",
    "T,N= returns.shape\n",
    "M = 5\n",
    "portfolio = np.zeros((T-1,25))\n",
    "for i in range(T-1):\n",
    "# for i in range(0,15):\n",
    "    return_t= returns[i+1,:]\n",
    "    basis= np.zeros((N, M*M))\n",
    "    for j in range(M):\n",
    "        for k in range(M):\n",
    "            quantile_accural_lower= np.percentile(accural[i,:], int(100.0/M*(j)))\n",
    "            quantile_accural_upper= np.percentile(accural[i,:], int(100.0/M*(j+1)))\n",
    "            quantile_size_lower= np.percentile(size[i,:], int(100.0/M*(k)))\n",
    "            quantile_size_upper = np.percentile(size[i,:], int(100.0/M*(k+1)))\n",
    "            index= (accural[i,:]>= quantile_accural_lower)& (accural[i,:]<= quantile_accural_upper)& (size[i,:]>= quantile_size_lower)& (size[i,:]<= quantile_size_upper)\n",
    "            portfolio[i, j*M+k]= np.mean(return_t[index])\n",
    "# portfolio[np.isnan(portfolio)]= 0\n",
    "    #         basis[:,j*M+k]= (accural[i,:]>= quantile_accural_lower) & (accural[i,:]<= quantile_accural_upper)& (size[i,:]>= quantile_size_lower)& (size[i,:]<= quantile_size_upper)\n",
    "    # portfolio[i,:]= return_t.dot(basis)"
   ]
  },
  {
   "cell_type": "code",
   "execution_count": 6,
   "metadata": {},
   "outputs": [
    {
     "name": "stdout",
     "output_type": "stream",
     "text": [
      "Have gone through iteration 0\n",
      "Have gone through iteration 20\n",
      "Have gone through iteration 40\n",
      "Have gone through iteration 60\n",
      "Have gone through iteration 80\n",
      "Have gone through iteration 100\n",
      "Have gone through iteration 120\n",
      "Have gone through iteration 140\n",
      "Have gone through iteration 160\n",
      "Have gone through iteration 180\n",
      "Have gone through iteration 200\n",
      "Have gone through iteration 220\n",
      "0.24168898616\n"
     ]
    }
   ],
   "source": [
    "import scipy.linalg as la\n",
    "M= portfolio.shape[1]\n",
    "K = 3\n",
    "window= 120\n",
    "optimal_return = np.zeros((T-1-window))\n",
    "gamma = 100\n",
    "for t in range(T-1-window):\n",
    "# for t in range(0,1):\n",
    "    if t % 20 == 0:\n",
    "        print('Have gone through iteration %d' % (t))\n",
    "    portfolio_t = portfolio[t:(t + window), :]\n",
    "    covmat_t = portfolio_t.T.dot(portfolio_t) \n",
    "    portfolio_mean_t = np.sum(portfolio_t, axis=0, keepdims= True)\n",
    "    covmat_t = covmat_t + portfolio_mean_t.T.dot(portfolio_mean_t) / window * gamma\n",
    "    variance_t, loading_t= la.eigh(covmat_t, eigvals=(M-K, M-1))\n",
    "    Factor_t= portfolio_t.dot(loading_t)\n",
    "    mu= np.mean(Factor_t, axis= 0)\n",
    "    covmat_factor= np.cov(Factor_t.T)\n",
    "    weight= np.linalg.inv(covmat_factor).dot(mu)\n",
    "    optimal_return[t] = (portfolio[t + window, :].dot(loading_t)).dot(weight)\n",
    "mean_optimal= np.mean(optimal_return)\n",
    "cov_optimal= np.cov(optimal_return)\n",
    "print (abs(mean_optimal)/np.sqrt(cov_optimal))"
   ]
  },
  {
   "cell_type": "code",
   "execution_count": 11,
   "metadata": {},
   "outputs": [
    {
     "name": "stdout",
     "output_type": "stream",
     "text": [
      "Have gone through iteration 0\n",
      "Have gone through iteration 20\n",
      "Have gone through iteration 40\n",
      "Have gone through iteration 60\n",
      "Have gone through iteration 80\n",
      "Have gone through iteration 100\n",
      "Have gone through iteration 120\n",
      "Have gone through iteration 140\n",
      "Have gone through iteration 160\n",
      "Have gone through iteration 180\n",
      "Have gone through iteration 200\n",
      "Have gone through iteration 220\n",
      "0.169675941224\n"
     ]
    }
   ],
   "source": [
    "size_accrual_fama= np.load('C:\\\\Users\\\\zihan\\\\Desktop\\\\Files\\\\Research\\\\size_accrual_fama.npz')\n",
    "size_accrual_fama= size_accrual_fama['size_accrual_fama']\n",
    "portfolio_date= size_accrual_fama[:,0]\n",
    "portfolio_date_start= np.asscalar(np.argwhere(portfolio_date==198406))\n",
    "portfolio_date_end= np.asscalar(np.argwhere(portfolio_date==201405))\n",
    "fama_portfolio= size_accrual_fama[portfolio_date_start:portfolio_date_end+1,1:26]/100\n",
    "portfolio= fama_portfolio\n",
    "portfolio= portfolio- (r_f[date_start:date_end+1:,np.newaxis])\n",
    "import scipy.linalg as la\n",
    "M= portfolio.shape[1]\n",
    "K = 3\n",
    "window= 120\n",
    "optimal_return = np.zeros((T-1-window))\n",
    "gamma = 100\n",
    "for t in range(T-1-window):\n",
    "# for t in range(0,1):\n",
    "    if t % 20 == 0:\n",
    "        print('Have gone through iteration %d' % (t))\n",
    "    portfolio_t = portfolio[t:(t + window), :]\n",
    "    covmat_t = portfolio_t.T.dot(portfolio_t) \n",
    "    portfolio_mean_t = np.sum(portfolio_t, axis=0, keepdims= True)\n",
    "    covmat_t = covmat_t + portfolio_mean_t.T.dot(portfolio_mean_t) / window * gamma\n",
    "    variance_t, loading_t= la.eigh(covmat_t, eigvals=(M-K, M-1))\n",
    "    Factor_t= portfolio_t.dot(loading_t)\n",
    "    mu= np.mean(Factor_t, axis= 0)\n",
    "    covmat_factor= np.cov(Factor_t.T)\n",
    "    weight= np.linalg.inv(covmat_factor).dot(mu)\n",
    "    optimal_return[t] = (portfolio[t + window, :].dot(loading_t)).dot(weight)\n",
    "mean_optimal= np.mean(optimal_return)\n",
    "cov_optimal= np.cov(optimal_return)\n",
    "print (abs(mean_optimal)/np.sqrt(cov_optimal))"
   ]
  },
  {
   "cell_type": "code",
   "execution_count": 8,
   "metadata": {},
   "outputs": [
    {
     "name": "stdout",
     "output_type": "stream",
     "text": [
      "1\n",
      "&0.15&0.18&0.30&0.34&0.34&0.35&0.35&0.35&0.38&0.38&0.38&0.39&0.40&0.40&0.40&0.40&0.40&0.40&0.40\n"
     ]
    }
   ],
   "source": [
    "gamma= 100\n",
    "# portfolio_demean = portfolio - np.mean(portfolio, axis=0)\n",
    "# Dimension of portfolio: T*M\n",
    "covmat = portfolio.T.dot(portfolio) \n",
    "portfolio_mean= np.sum(portfolio, axis= 0, keepdims=True)\n",
    "covmat= covmat+ portfolio_mean.T.dot(portfolio_mean)/(T-1)*gamma\n",
    "variance, loading = np.linalg.eig(covmat)\n",
    "output= []\n",
    "for K in range(1, 20):\n",
    "    loading_chosen = loading[:, :K]\n",
    "    Factor = portfolio.dot(loading_chosen)\n",
    "    mu = np.mean(Factor, axis=0)\n",
    "    covmat_factor = np.cov(Factor.T)\n",
    "    if K==1:\n",
    "        print (K)\n",
    "        output.append (abs(mu)*covmat_factor**(-1/2))\n",
    "    else:\n",
    "        output.append(np.sqrt(np.dot(np.dot(mu, np.linalg.inv(covmat_factor)), mu.T)))\n",
    "twodecimals = [\"&%.2f\" % np.real(v) for v in output]\n",
    "print (''.join(twodecimals))"
   ]
  },
  {
   "cell_type": "code",
   "execution_count": 12,
   "metadata": {},
   "outputs": [
    {
     "name": "stdout",
     "output_type": "stream",
     "text": [
      "Have gone through iteration 0\n",
      "Have gone through iteration 20\n",
      "Have gone through iteration 40\n",
      "Have gone through iteration 60\n",
      "Have gone through iteration 80\n",
      "Have gone through iteration 100\n",
      "Have gone through iteration 120\n",
      "Have gone through iteration 140\n",
      "Have gone through iteration 160\n",
      "Have gone through iteration 180\n",
      "Have gone through iteration 200\n",
      "Have gone through iteration 220\n",
      "0.00112078553376\n"
     ]
    }
   ],
   "source": [
    "# Get the pricing error\n",
    "import scipy.linalg as la\n",
    "K = 4\n",
    "window= 120\n",
    "gamma = 100\n",
    "T, M = portfolio.shape\n",
    "pricing_error= np.zeros((T-window,M ))\n",
    "ones_T= np.ones((window, 1))\n",
    "for t in range(T-window):\n",
    "# for t in range(0,1):\n",
    "    if t % 20 == 0:\n",
    "        print('Have gone through iteration %d' % (t))\n",
    "    portfolio_t = portfolio[t:(t + window), :]\n",
    "    # covmat_t = portfolio_t.T.dot(portfolio_t) \n",
    "    # portfolio_mean_t = np.sum(portfolio_t, axis=0, keepdims= True)\n",
    "    # # print (portfolio_mean_t.shape)\n",
    "    # covmat_t = covmat_t + portfolio_mean_t.T.dot(portfolio_mean_t) / window * gamma\n",
    "    covmat_t= portfolio_t.dot(portfolio_t.T).dot(gamma/T* ones_T.dot(ones_T.T))\n",
    "    covmat_t= covmat_t+ portfolio_t.dot(portfolio_t.T)\n",
    "    # variance_t, loading_t = np.linalg.eig(covmat_t)\n",
    "    variance_t, Factor_t= la.eigh(covmat_t, eigvals=(window-K, window-1))\n",
    "    loading_t= Factor_t.T.dot(portfolio_t)\n",
    "    # loading_t: K*M.\n",
    "    # Factor_t= portfolio_t.dot(loading_t)\n",
    "    pricing_error[t,:] = (portfolio[t + window, :]- portfolio[t+window, :].dot(loading_t.T).dot(np.linalg.inv(loading_t.dot(loading_t.T))).dot(loading_t))\n",
    "print (np.sqrt(np.sum(pricing_error**2)/M)/(T-window))"
   ]
  },
  {
   "cell_type": "code",
   "execution_count": 13,
   "metadata": {},
   "outputs": [
    {
     "name": "stdout",
     "output_type": "stream",
     "text": [
      "0.00210350596256\n"
     ]
    }
   ],
   "source": [
    "# In sample pricing error\n",
    "import scipy.linalg as la\n",
    "T,M= portfolio.shape\n",
    "K= 5\n",
    "gamma= 100\n",
    "ones_T= np.ones((T,1))\n",
    "# portfolio_demean = portfolio - np.mean(portfolio, axis=0)\n",
    "# Dimension of portfolio: T*M\n",
    "# covmat = portfolio.T.dot(portfolio) \n",
    "# portfolio_mean= np.sum(portfolio, axis= 0, keepdims=True)\n",
    "# covmat= covmat+ portfolio_mean.T.dot(portfolio_mean)/(T-1)*gamma\n",
    "# variance, loading = la.eigh(covmat, (M-K, M-1))\n",
    "covmat= portfolio.dot(portfolio.T).dot(gamma/T* ones_T.dot(ones_T.T))\n",
    "covmat= covmat+ portfolio.dot(portfolio.T)\n",
    "    # variance_t, loading_t = np.linalg.eig(covmat_t)\n",
    "variance, Factor= la.eigh(covmat, eigvals=(T-K, T-1))\n",
    "loading= Factor.T.dot(portfolio)\n",
    "pricing_error= portfolio- Factor.dot(loading)\n",
    "print (np.sqrt(np.sum(pricing_error**2)/M)/(T))"
   ]
  },
  {
   "cell_type": "code",
   "execution_count": null,
   "metadata": {
    "collapsed": true
   },
   "outputs": [],
   "source": []
  }
 ],
 "metadata": {
  "kernelspec": {
   "display_name": "Python 2",
   "language": "python",
   "name": "python2"
  },
  "language_info": {
   "codemirror_mode": {
    "name": "ipython",
    "version": 2
   },
   "file_extension": ".py",
   "mimetype": "text/x-python",
   "name": "python",
   "nbconvert_exporter": "python",
   "pygments_lexer": "ipython2",
   "version": "2.7.13"
  }
 },
 "nbformat": 4,
 "nbformat_minor": 1
}
