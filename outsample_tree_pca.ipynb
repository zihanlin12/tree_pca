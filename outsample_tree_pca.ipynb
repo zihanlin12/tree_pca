{
 "cells": [
  {
   "cell_type": "code",
   "execution_count": 1,
   "metadata": {
    "collapsed": false
   },
   "outputs": [
    {
     "name": "stdout",
     "output_type": "stream",
     "text": [
      "Have gone through 0\n"
     ]
    },
    {
     "name": "stdout",
     "output_type": "stream",
     "text": [
      "Have gone through 20\n"
     ]
    },
    {
     "name": "stdout",
     "output_type": "stream",
     "text": [
      "Have gone through 40\n"
     ]
    },
    {
     "name": "stdout",
     "output_type": "stream",
     "text": [
      "Have gone through 60\n"
     ]
    },
    {
     "name": "stdout",
     "output_type": "stream",
     "text": [
      "Have gone through 80\n"
     ]
    },
    {
     "name": "stdout",
     "output_type": "stream",
     "text": [
      "Have gone through 100\n"
     ]
    },
    {
     "name": "stdout",
     "output_type": "stream",
     "text": [
      "Have gone through 120\n"
     ]
    },
    {
     "name": "stdout",
     "output_type": "stream",
     "text": [
      "Have gone through 140\n"
     ]
    },
    {
     "name": "stdout",
     "output_type": "stream",
     "text": [
      "Have gone through 160\n"
     ]
    },
    {
     "name": "stdout",
     "output_type": "stream",
     "text": [
      "Have gone through 180\n"
     ]
    },
    {
     "name": "stdout",
     "output_type": "stream",
     "text": [
      "Have gone through 200\n"
     ]
    },
    {
     "name": "stdout",
     "output_type": "stream",
     "text": [
      "Have gone through 220\n"
     ]
    },
    {
     "name": "stdout",
     "output_type": "stream",
     "text": [
      "Have gone through 240\n"
     ]
    },
    {
     "name": "stdout",
     "output_type": "stream",
     "text": [
      "Have gone through 260\n"
     ]
    },
    {
     "name": "stdout",
     "output_type": "stream",
     "text": [
      "Have gone through 280\n"
     ]
    },
    {
     "name": "stdout",
     "output_type": "stream",
     "text": [
      "Have gone through 300\n"
     ]
    },
    {
     "name": "stdout",
     "output_type": "stream",
     "text": [
      "Have gone through 320\n"
     ]
    },
    {
     "name": "stdout",
     "output_type": "stream",
     "text": [
      "Have gone through 340\n"
     ]
    }
   ],
   "source": [
    "import numpy as np\n",
    "data = np.load('C:\\\\Users\\\\zihan\\\\Desktop\\\\Files\\\\Research\\\\bryankelly_without_missing.npz')\n",
    "processed_data = data['processed_data']\n",
    "T, N, M = processed_data.shape\n",
    "returns = processed_data[:, :, 1]\n",
    "# The dimension of returns: T*N\n",
    "chara_data = processed_data[:, :, [8, 17, 33, 37]]\n",
    "def get_tree(depth, res, value_array, L, d, chara_data):\n",
    "    if depth == d:\n",
    "        final_array = np.ones([N, 1])\n",
    "        for k in range(L):\n",
    "            temp = value_array[:, k].reshape([N, 1])\n",
    "            final_array = final_array * temp\n",
    "        res.append([final_array])\n",
    "    else:\n",
    "        for i in range(L):\n",
    "            for j in range(2):\n",
    "                index = value_array[:, i] != 0\n",
    "                data_median = np.median(chara_data[i, index])\n",
    "                temp_array = value_array.copy()\n",
    "                if j == 0:\n",
    "                    temp_array[(index) & (chara_data[i, :] <= data_median), i] = 0\n",
    "                    get_tree(depth + 1, res, temp_array, L, d, chara_data)\n",
    "                elif j == 1:\n",
    "                    temp_array[(index) & (chara_data[i, :] >= data_median), i] = 0\n",
    "                    get_tree(depth + 1, res, temp_array, L, d, chara_data)\n",
    "portfolio = np.zeros((T - 1, (2*4)**4))\n",
    "for i in range(T-1):\n",
    "    if i%20==0:\n",
    "            print ('Have gone through %d' %(i))\n",
    "    res = []\n",
    "# The first parameter is number of characteristics, and the second is the depth of the tree.\n",
    "    get_tree(0, res, np.ones([N, 4]), 4, 4, chara_data[i,:].T)\n",
    "    # output = np.array(res[0][0])\n",
    "    # output = np.reshape(output, [N, 1])\n",
    "    # for j in range(1, len(res)):\n",
    "    #     output = np.append(output, np.array(res[j][0]), axis=1)\n",
    "    # portfolio[i, :] = returns[i + 1, :].dot(output)\n",
    "    for j in range(len(res)):\n",
    "        portfolio[i][j]= returns[i+1,:].dot(res[j])\n"
   ]
  },
  {
   "cell_type": "code",
   "execution_count": null,
   "metadata": {
    "collapsed": true
   },
   "outputs": [],
   "source": [
    "import scipy.linalg as la\n",
    "K = 11\n",
    "Factor = np.zeros((int(T / 2), K))\n",
    "start= int(T/2)-1\n",
    "for t in range(int(T / 2)):\n",
    "    if t%20==0:\n",
    "        print ('Have gone through iteration %d'%(t))\n",
    "    portfolio_t = portfolio[:(t+start), :]\n",
    "    portfolio_demean_t = portfolio_t - np.mean(portfolio_t, axis=0)\n",
    "    covmat_t = portfolio_demean_t.T.dot(portfolio_demean_t) / (t+start - 1)\n",
    "    variance_t, loading_t = la.eigh(covmat_t,eigvals= (0,K))\n",
    "    Factor[t, :] = portfolio[t + start, :].dot(loading_t[:, :K])\n",
    "output = []\n",
    "for K in range(1, 11):\n",
    "    mu = np.mean(Factor[:, :K], axis=0)\n",
    "    covmat_factor = np.cov(Factor[:, :K].T)\n",
    "    if K == 1:\n",
    "        output.append(abs(mu) * covmat_factor ** (-1 / 2))\n",
    "    else:\n",
    "        output.append(np.sqrt(np.dot(np.dot(mu, np.linalg.inv(covmat_factor)), mu.T)))\n",
    "twodecimals = [\"&%.2f\" % np.real(v) for v in output]\n",
    "print(''.join(twodecimals))"
   ]
  }
 ],
 "metadata": {
  "kernelspec": {
   "display_name": "Python 2",
   "language": "python",
   "name": "python2"
  },
  "language_info": {
   "codemirror_mode": {
    "name": "ipython",
    "version": 2
   },
   "file_extension": ".py",
   "mimetype": "text/x-python",
   "name": "python",
   "nbconvert_exporter": "python",
   "pygments_lexer": "ipython2",
   "version": "2.7.6"
  }
 },
 "nbformat": 4,
 "nbformat_minor": 0
}
