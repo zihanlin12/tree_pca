{
 "cells": [
  {
   "cell_type": "code",
   "execution_count": 18,
   "metadata": {
    "collapsed": true
   },
   "outputs": [],
   "source": [
    "import pandas as pd\n",
    "import numpy as np\n",
    "decile_data= pd.read_csv('C:\\\\Users\\\\zihan\\\\Desktop\\\\Files\\\\Research\\\\decile.csv',header=None)\n",
    "date= pd.read_csv('C:\\\\Users\\\\zihan\\\\Desktop\\\\Files\\\\Research\\\\Portfolios.csv', usecols=[0])"
   ]
  },
  {
   "cell_type": "code",
   "execution_count": 19,
   "metadata": {},
   "outputs": [
    {
     "name": "stdout",
     "output_type": "stream",
     "text": [
      "Saving data to C:/Users/zihan/Desktop/Files/Research/decile_data.npz\n",
      "Finished! \n"
     ]
    }
   ],
   "source": [
    "path_target = 'C:/Users/zihan/Desktop/Files/Research/decile_data.npz'\n",
    "print('Saving data to ' + path_target)\n",
    "np.savez(path_target, decile_data=decile_data, date= date)\n",
    "print('Finished! ')"
   ]
  },
  {
   "cell_type": "code",
   "execution_count": 22,
   "metadata": {
    "collapsed": true
   },
   "outputs": [],
   "source": [
    "import pandas as pd\n",
    "import numpy as np\n",
    "decile_data= np.load('C:\\\\Users\\\\zihan\\\\Desktop\\\\Files\\\\Research\\\\decile_data.npz')\n",
    "decile= decile_data['decile_data']\n",
    "date= decile_data['date']\n",
    "date= date[1:]\n",
    "portfolio= decile\n",
    "fama_french_data= np.load('C:\\\\Users\\\\zihan\\\\Desktop\\\\Files\\\\Research\\\\riskfreerate.npz')\n",
    "fama_french_data= fama_french_data['fama_french_data']\n",
    "r_f= fama_french_data[:,4]\n",
    "fama_french_date= fama_french_data[:,0]\n",
    "r_f= r_f/100\n",
    "# date_start= np.asscalar(np.argwhere(fama_french_date==196307))\n",
    "# date_end= np.asscalar(np.argwhere(fama_french_date==201608))\n",
    "data_port_start= (np.argwhere(date=='Jun-84'))[0][0]\n",
    "data_port_end= (np.argwhere(date=='May-14'))[0][0]\n",
    "# portfolio= portfolio[0:638,:]- (r_f[date_start:date_end+1:,np.newaxis])\n",
    "date_start= np.asscalar(np.argwhere(fama_french_date==198406))\n",
    "date_end= np.asscalar(np.argwhere(fama_french_date==201405))\n",
    "portfolio= portfolio[data_port_start:data_port_end,:]- r_f[date_start:date_end:,np.newaxis]"
   ]
  },
  {
   "cell_type": "code",
   "execution_count": 34,
   "metadata": {},
   "outputs": [
    {
     "name": "stdout",
     "output_type": "stream",
     "text": [
      "0.354333455436\n",
      "0.126955431924\n"
     ]
    }
   ],
   "source": [
    "import scipy.linalg as la\n",
    "T, M= portfolio.shape\n",
    "K = 7\n",
    "window= 120\n",
    "optimal_return = np.zeros((T-window))\n",
    "gamma = 10\n",
    "for t in range(T-window):\n",
    "    portfolio_t = portfolio[t:(t + window), :]\n",
    "    covmat_t = portfolio_t.T.dot(portfolio_t) \n",
    "    portfolio_mean_t = np.sum(portfolio_t, axis=0, keepdims= True)\n",
    "    covmat_t = covmat_t + portfolio_mean_t.T.dot(portfolio_mean_t)/window * gamma\n",
    "    variance_t1, loading_t= la.eigh(covmat_t, eigvals=(M-K, M-1))\n",
    "    Factor_t= portfolio_t.dot(loading_t)\n",
    "    mu= np.mean(Factor_t, axis= 0)\n",
    "    covmat_factor= np.cov(Factor_t.T)\n",
    "    weight= np.linalg.inv(covmat_factor).dot(mu)\n",
    "    optimal_return[t] = (portfolio[t + window, :].dot(loading_t)).dot(weight)\n",
    "mean_optimal= np.mean(optimal_return)\n",
    "cov_optimal= np.cov(optimal_return)\n",
    "print (abs(mean_optimal)/np.sqrt(cov_optimal))\n",
    "window= 120\n",
    "optimal_return = np.zeros((T-window))\n",
    "gamma = 100\n",
    "T, M = portfolio.shape\n",
    "ones_T= np.ones((window, 1))\n",
    "# Maybe can just change the T-1 to be T.\n",
    "for t in range(T-window):\n",
    "    portfolio_t = portfolio[t:(t + window), :]\n",
    "    covmat_t= portfolio_t.dot(portfolio_t.T).dot(gamma/window* ones_T.dot(ones_T.T))\n",
    "    covmat_t= covmat_t+ portfolio_t.dot(portfolio_t.T)\n",
    "    # variance_t, Factor_t = np.linalg.eig(covmat_t)\n",
    "    variance_t2, Factor_t= la.eigh(covmat_t, eigvals=(window-K, window-1))\n",
    "    # Factor_t= Factor_t[:,:K]\n",
    "    loading_t= Factor_t.T.dot(portfolio_t)\n",
    "    #loading_t: K*N\n",
    "    mu= np.mean(Factor_t, axis= 0)\n",
    "    covmat_factor= np.cov(Factor_t.T)\n",
    "    weight= np.linalg.inv(covmat_factor).dot(mu)\n",
    "    optimal_return[t] = (portfolio[t + window, :].dot(loading_t.T)).dot(np.linalg.inv(loading_t.dot(loading_t.T))).dot(weight)\n",
    "mean_optimal= np.mean(optimal_return)\n",
    "cov_optimal= np.cov(optimal_return)\n",
    "print (abs(mean_optimal)/np.sqrt(cov_optimal))"
   ]
  },
  {
   "cell_type": "code",
   "execution_count": 69,
   "metadata": {
    "collapsed": true
   },
   "outputs": [],
   "source": [
    "# Plot the bar plot\n",
    "def plot_sharpe(K, portfolio):\n",
    "    import scipy.linalg as la\n",
    "    T, M= portfolio.shape\n",
    "    window= 240\n",
    "    optimal_return = np.zeros((T-window))\n",
    "    gamma = 10\n",
    "    for t in range(T-window):\n",
    "# for t in range(0,1):\n",
    "#     if t % 20 == 0:\n",
    "#         print('Have gone through iteration %d' % (t))\n",
    "        portfolio_t = portfolio[t:(t + window), :]\n",
    "        covmat_t = portfolio_t.T.dot(portfolio_t) \n",
    "        portfolio_mean_t = np.sum(portfolio_t, axis=0, keepdims= True)\n",
    "        covmat_t = covmat_t + portfolio_mean_t.T.dot(portfolio_mean_t)/window * gamma\n",
    "        variance_t, loading_t= la.eigh(covmat_t, eigvals=(M-K, M-1))\n",
    "    # variance_t, loading_t= np.linalg.eig(covmat_t)\n",
    "        Factor_t= portfolio_t.dot(loading_t)\n",
    "        mu= np.mean(Factor_t, axis= 0)\n",
    "        covmat_factor= np.cov(Factor_t.T)\n",
    "        if K>=2:\n",
    "            weight= np.linalg.inv(covmat_factor).dot(mu)\n",
    "        else:\n",
    "            weight= 1\n",
    "        optimal_return[t] = (portfolio[t + window, :].dot(loading_t)).dot(weight)\n",
    "    mean_optimal= np.mean(optimal_return)\n",
    "    cov_optimal= np.cov(optimal_return)\n",
    "    return (abs(mean_optimal)/np.sqrt(cov_optimal))"
   ]
  },
  {
   "cell_type": "code",
   "execution_count": 70,
   "metadata": {},
   "outputs": [
    {
     "name": "stdout",
     "output_type": "stream",
     "text": [
      "0\n",
      "1\n",
      "2\n",
      "3\n",
      "4\n",
      "5\n",
      "6\n",
      "0\n",
      "1\n",
      "2\n",
      "3\n",
      "4\n",
      "5\n",
      "6\n"
     ]
    }
   ],
   "source": [
    "sharpe_ratio= np.zeros((2,7))\n",
    "decile= decile_data['decile_data']\n",
    "portfolio= decile\n",
    "data_port_start= (np.argwhere(date=='Jun-84'))[0][0]\n",
    "data_port_end= (np.argwhere(date=='May-14'))[0][0]\n",
    "# portfolio= portfolio[0:638,:]- (r_f[date_start:date_end+1:,np.newaxis])\n",
    "date_start= np.asscalar(np.argwhere(fama_french_date==198406))\n",
    "date_end= np.asscalar(np.argwhere(fama_french_date==201405))\n",
    "portfolio= portfolio[data_port_start:data_port_end,:]- r_f[date_start:date_end:,np.newaxis]\n",
    "for i in range(7):\n",
    "    print (i)\n",
    "    sharpe_ratio[0,i]= plot_sharpe(i+1, portfolio)\n",
    "decile= decile_data['decile_data']\n",
    "portfolio= decile\n",
    "date_start= np.asscalar(np.argwhere(fama_french_date==196307))\n",
    "date_end= np.asscalar(np.argwhere(fama_french_date==201608))\n",
    "portfolio= portfolio[0:638,:]- (r_f[date_start:date_end+1:,np.newaxis])\n",
    "for i in range(7):\n",
    "    print (i)\n",
    "    sharpe_ratio[1,i]= plot_sharpe(i+1, portfolio)"
   ]
  },
  {
   "cell_type": "code",
   "execution_count": 65,
   "metadata": {
    "collapsed": true
   },
   "outputs": [],
   "source": [
    "import pandas as pd\n",
    "import matplotlib.pyplot as plt\n",
    "df2 = pd.DataFrame(sharpe_ratio, columns=['1 Factor','2 Factor','3 Factor','4 Factor','5 Factor','6 Factor','7 Factor'], index= ['P1', 'P2'])\n",
    "df2.plot.bar()\n",
    "plt.savefig('C://Users//zihan//Desktop//Files//Research//sharpe_comparison.png')\n",
    "plt.clf()"
   ]
  },
  {
   "cell_type": "code",
   "execution_count": 2,
   "metadata": {},
   "outputs": [
    {
     "name": "stdout",
     "output_type": "stream",
     "text": [
      "Have gone through iteration 0\n",
      "Have gone through iteration 20\n",
      "Have gone through iteration 40\n",
      "Have gone through iteration 60\n",
      "Have gone through iteration 80\n",
      "Have gone through iteration 100\n",
      "Have gone through iteration 120\n",
      "Have gone through iteration 140\n",
      "Have gone through iteration 160\n",
      "Have gone through iteration 180\n",
      "Have gone through iteration 200\n",
      "Have gone through iteration 220\n",
      "Have gone through iteration 240\n",
      "Have gone through iteration 260\n",
      "Have gone through iteration 280\n",
      "Have gone through iteration 300\n",
      "Have gone through iteration 320\n",
      "Have gone through iteration 340\n",
      "Have gone through iteration 360\n",
      "Have gone through iteration 380\n",
      "Have gone through iteration 400\n",
      "Have gone through iteration 420\n",
      "Have gone through iteration 440\n",
      "Have gone through iteration 460\n",
      "Have gone through iteration 480\n",
      "Have gone through iteration 500\n",
      "0.251463601509\n"
     ]
    }
   ],
   "source": [
    "import scipy.linalg as la\n",
    "K = 1\n",
    "window= 120\n",
    "gamma = 100\n",
    "T, M = portfolio.shape\n",
    "pricing_error= np.zeros((T-window,M))\n",
    "ones_T= np.ones((window, 1))\n",
    "for t in range(T-window):\n",
    "# for t in range(0,1):\n",
    "    if t % 20 == 0:\n",
    "        print('Have gone through iteration %d' % (t))\n",
    "    portfolio_t = portfolio[t:(t + window), :]\n",
    "    covmat_t= portfolio_t.dot(portfolio_t.T).dot(gamma/T* ones_T.dot(ones_T.T))\n",
    "    covmat_t= covmat_t+ portfolio_t.dot(portfolio_t.T)\n",
    "    variance_t, Factor_t = np.linalg.eig(covmat_t)\n",
    "    Factor_t= Factor_t[:,:K]\n",
    "    loading_t= Factor_t.T.dot(portfolio_t)\n",
    "    pricing_error[t,:] = (portfolio[t + window, :]- portfolio[t+window, :].dot(loading_t.T).dot(np.linalg.inv(loading_t.dot(loading_t.T))).dot(loading_t))\n",
    "avg_pricing_error= np.mean(pricing_error*100, axis= 0)\n",
    "print (np.sqrt(np.sum(avg_pricing_error**2)/M))\n",
    "# print (np.std(avg_pricing_error))\n",
    "# print (np.sqrt(np.sum(pricing_error**2)/M))"
   ]
  },
  {
   "cell_type": "code",
   "execution_count": 39,
   "metadata": {},
   "outputs": [
    {
     "name": "stdout",
     "output_type": "stream",
     "text": [
      "[ 0.01842673  0.14318161  0.14017854  0.14474434  0.14514331  0.14449405\n",
      "  0.1447339   0.14515375  0.14498881  0.14506717  0.14499331  0.14530811\n",
      "  0.14515363  0.14501643  0.14487021  0.14507405  0.14477885  0.14486559\n",
      "  0.14489803  0.14489588]\n"
     ]
    }
   ],
   "source": [
    "def compute_sharpe(K):\n",
    "    import scipy.linalg as la\n",
    "    T, M = portfolio.shape\n",
    "    window= 120\n",
    "    optimal_return = np.zeros((T-window))\n",
    "    gamma = 10    \n",
    "    ones_T= np.ones((window, 1))\n",
    "# Maybe can just change the T-1 to be T.\n",
    "    for t in range(T-window):\n",
    "# for t in range(0,1):\n",
    "#         if t % 20 == 0:\n",
    "#             print('Have gone through iteration %d' % (t))\n",
    "        portfolio_t = portfolio[t:(t + window), :]\n",
    "        covmat_t= portfolio_t.dot(portfolio_t.T).dot(gamma/T* ones_T.dot(ones_T.T))\n",
    "        covmat_t= covmat_t+ portfolio_t.dot(portfolio_t.T)\n",
    "    # variance_t, Factor_t = np.linalg.eig(covmat_t)\n",
    "        variance_t, Factor_t= la.eigh(covmat_t, eigvals=(window-K, window-1))\n",
    "        Factor_t= Factor_t[:,:K]\n",
    "        loading_t= Factor_t.T.dot(portfolio_t)\n",
    "        mu= np.mean(Factor_t, axis= 0)\n",
    "        covmat_factor= np.cov(Factor_t.T)\n",
    "        if K>=2:\n",
    "            weight= np.linalg.inv(covmat_factor).dot(mu)\n",
    "        else:\n",
    "            weight= 1\n",
    "        optimal_return[t] = (portfolio[t + window, :].dot(loading_t.T)).dot(weight)\n",
    "        # optimal_return[t]= Factor_t[t,:].dot(weight)\n",
    "    mean_optimal= np.mean(optimal_return)\n",
    "    cov_optimal= np.cov(optimal_return)\n",
    "    return (abs(mean_optimal)/np.sqrt(cov_optimal))\n",
    "K= 20\n",
    "optimal_sharpe= np.zeros((K))\n",
    "for i in range(K):\n",
    "    optimal_sharpe[i]= compute_sharpe(i+1)\n",
    "print (optimal_sharpe)"
   ]
  },
  {
   "cell_type": "code",
   "execution_count": 38,
   "metadata": {},
   "outputs": [
    {
     "name": "stdout",
     "output_type": "stream",
     "text": [
      "(7, 370)\n"
     ]
    }
   ],
   "source": [
    "print(loading_t.shape)"
   ]
  },
  {
   "cell_type": "code",
   "execution_count": null,
   "metadata": {
    "collapsed": true
   },
   "outputs": [],
   "source": []
  }
 ],
 "metadata": {
  "kernelspec": {
   "display_name": "Python 2",
   "language": "python",
   "name": "python2"
  },
  "language_info": {
   "codemirror_mode": {
    "name": "ipython",
    "version": 2
   },
   "file_extension": ".py",
   "mimetype": "text/x-python",
   "name": "python",
   "nbconvert_exporter": "python",
   "pygments_lexer": "ipython2",
   "version": "2.7.13"
  }
 },
 "nbformat": 4,
 "nbformat_minor": 1
}
