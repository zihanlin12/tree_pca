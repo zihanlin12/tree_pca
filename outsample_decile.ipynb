{
 "cells": [
  {
   "cell_type": "code",
   "execution_count": 7,
   "metadata": {},
   "outputs": [],
   "source": [
    "import numpy as np\n",
    "import os\n",
    "current_dir= os.getcwd()\n",
    "data_dir= current_dir+'/npz_data/processed_data.npz'\n",
    "data = np.load(data_dir)\n",
    "processed_data = data['data']\n",
    "T, N, M = processed_data.shape\n",
    "returns = processed_data[:, :, 0]\n",
    "chara_data= processed_data[:,:,1:]\n",
    "rf_dir= current_dir+'/npz_data/riskfreerate.npz'\n",
    "fama_french_data= np.load(rf_dir)\n",
    "fama_french_data= fama_french_data['fama_french_data']\n",
    "r_f= fama_french_data[:,4]\n",
    "r_f= r_f/100\n",
    "date= fama_french_data[:,0]\n",
    "date_start= np.asscalar(np.argwhere(date==198402))\n",
    "date_end= np.asscalar(np.argwhere(date==201401))\n",
    "returns= returns- (r_f[date_start:date_end:,np.newaxis])\n",
    "D= 10\n",
    "# The dimension of returns: T*N\n",
    "# chara_data = processed_data[:, :, [8, 17, 20, 33, 37]]\n",
    "# chara_data = processed_data[:, :, [8, 17, 33, 37]]\n",
    "# chara_data = processed_data[:, :, [8, 17, 20, 33]]\n",
    "# chara_data = processed_data[:, :, 5:]\n",
    "L= chara_data.shape[2]"
   ]
  },
  {
   "cell_type": "code",
   "execution_count": 9,
   "metadata": {
    "collapsed": true
   },
   "outputs": [],
   "source": [
    "portfolio= np.zeros((T-1, L*D))\n",
    "for i in range(T-1):\n",
    "    for j in range(L):\n",
    "        chara_data_t= chara_data[i,:,j]\n",
    "        index= np.argsort(chara_data_t)\n",
    "        # print (index)\n",
    "        length= int(len(index)/D)\n",
    "        # print (length)\n",
    "        for k in range(D):\n",
    "            index_k= index[int(length*k):int(length*(k+1))]\n",
    "            portfolio[i, j*D+k]= np.mean(returns[i,index_k])"
   ]
  },
  {
   "cell_type": "code",
   "execution_count": 20,
   "metadata": {},
   "outputs": [
    {
     "name": "stdout",
     "output_type": "stream",
     "text": [
      "[ 0.15597989  0.15046161  0.27774963  0.37278094  0.36693536]\n"
     ]
    }
   ],
   "source": [
    "from __future__ import print_function\n",
    "def compute_sharpe(K, portfolio, RP= True, Corr= True, Time= True, delta= 600, Shrink= True):\n",
    "    import scipy.linalg as la\n",
    "    T, M = portfolio.shape\n",
    "    window= 120\n",
    "    optimal_return = np.zeros((T-window))\n",
    "    gamma = 10    \n",
    "    ones_T= np.ones((window, 1))\n",
    "    for t in range(T-window):\n",
    "        portfolio_t = portfolio[t:(t + window), :]\n",
    "        if Time: \n",
    "            if RP:\n",
    "                covmat_t= (np.identity(window)+ones_T.dot(ones_T.T)/(window*(2+window))).dot(portfolio_t)\n",
    "                covmat_t= (covmat_t.dot(portfolio_t.T)).dot(np.identity(window)+ones_T.dot(ones_T.T)/(window*(2+window)))       \n",
    "            else: \n",
    "                covmat_t= np.cov(portfolio_t)        \n",
    "        else:\n",
    "            if RP:\n",
    "                covmat_t = portfolio_t.T.dot(portfolio_t) \n",
    "                portfolio_mean_t = np.sum(portfolio_t, axis=0, keepdims= True)\n",
    "                covmat_t = covmat_t + portfolio_mean_t.T.dot(portfolio_mean_t)/window * gamma\n",
    "            else:\n",
    "                covmat_t= np.cov(portfolio_t.T)\n",
    "        if Corr:\n",
    "            covmat_t_diag= np.diag(1./np.sqrt(np.diag(covmat_t)))\n",
    "            covmat_t= covmat_t_diag.dot(covmat_t.dot(covmat_t_diag))\n",
    "        if Time:\n",
    "            variance_t, Factor_t= la.eigh(covmat_t, eigvals=(window-K, window-1))\n",
    "            Factor_t= Factor_t[:,:K]\n",
    "            loading_t= Factor_t.T.dot(portfolio_t)\n",
    "            loading_t= loading_t.T\n",
    "        else:\n",
    "            variance_t, loading_t= la.eigh(covmat_t, eigvals=(M-K, M-1))\n",
    "            Factor_t= portfolio_t.dot(loading_t)\n",
    "        if Shrink:\n",
    "            for i in range(K):\n",
    "                threshold= np.partition(abs(loading_t[:,i]),-delta)[-delta]\n",
    "                loading_t[np.abs(loading_t[:,i])<threshold,i]=0\n",
    "                loading_t[:,i]= loading_t[:,i]/np.linalg.norm(loading_t[:,i])\n",
    "            Factor_t= portfolio_t.dot(loading_t).dot(np.linalg.inv(loading_t.T.dot(loading_t)))\n",
    "                \n",
    "        mu= np.mean(Factor_t, axis= 0)\n",
    "        covmat_factor= np.cov(Factor_t.T)\n",
    "        if K>=2:\n",
    "            weight= np.linalg.inv(covmat_factor).dot(mu)\n",
    "        else:\n",
    "            weight= mu/covmat_factor\n",
    "        if Time:        \n",
    "            optimal_return[t] = (portfolio[t + window, :].dot(loading_t)).dot(np.linalg.inv(loading_t.T.dot(loading_t))).dot(weight)\n",
    "        else:\n",
    "            optimal_return[t] = (portfolio[t + window, :].dot(loading_t)).dot(np.linalg.inv(loading_t.T.dot(loading_t))).dot(weight)\n",
    "    return optimal_return\n",
    "def easy_sharpe(optimal_return):\n",
    "        mean_optimal= np.mean(optimal_return)\n",
    "        cov_optimal= np.cov(optimal_return)\n",
    "        return abs(mean_optimal)/np.sqrt(cov_optimal)\n",
    "K= 5\n",
    "optimal_sharpe= np.zeros((K))\n",
    "for i in range(K):\n",
    "#     print (args.Shrink)\n",
    "    optimal_sharpe[i]= easy_sharpe(compute_sharpe(i+1, portfolio, 1, 1, 1, 0, 0))\n",
    "print (optimal_sharpe)\n",
    "# optimal_sharpe"
   ]
  },
  {
   "cell_type": "code",
   "execution_count": 22,
   "metadata": {},
   "outputs": [
    {
     "name": "stdout",
     "output_type": "stream",
     "text": [
      "&0.35&0.21&0.46&0.47&0.55&0.59&0.59&0.60&0.62&0.62&0.63&0.64&0.64&0.64&0.64&0.64&0.68&0.68&0.68\n"
     ]
    }
   ],
   "source": [
    "gamma= 10\n",
    "# portfolio_demean = portfolio - np.mean(portfolio, axis=0)\n",
    "# Dimension of portfolio: T*M\n",
    "covmat = portfolio.T.dot(portfolio) \n",
    "portfolio_mean= np.sum(portfolio, axis= 0, keepdims=True)\n",
    "covmat= covmat+ portfolio_mean.T.dot(portfolio_mean)/(T-1)*gamma\n",
    "variance, loading = np.linalg.eig(covmat)\n",
    "output= []\n",
    "for K in range(1, 20):\n",
    "    loading_chosen = loading[:, :K]\n",
    "    Factor = portfolio.dot(loading_chosen)\n",
    "    mu = np.mean(Factor, axis=0)\n",
    "    covmat_factor = np.cov(Factor.T)\n",
    "    if K==1:\n",
    "        output.append (abs(mu)*covmat_factor**(-1/2))\n",
    "    else:\n",
    "        output.append(np.sqrt(np.dot(np.dot(mu, np.linalg.inv(covmat_factor)), mu.T)))\n",
    "twodecimals = [\"&%.2f\" % np.real(v) for v in output]\n",
    "print (''.join(twodecimals))"
   ]
  },
  {
   "cell_type": "code",
   "execution_count": null,
   "metadata": {
    "collapsed": true
   },
   "outputs": [],
   "source": []
  }
 ],
 "metadata": {
  "kernelspec": {
   "display_name": "Python 2",
   "language": "python",
   "name": "python2"
  },
  "language_info": {
   "codemirror_mode": {
    "name": "ipython",
    "version": 2
   },
   "file_extension": ".py",
   "mimetype": "text/x-python",
   "name": "python",
   "nbconvert_exporter": "python",
   "pygments_lexer": "ipython2",
   "version": "2.7.13"
  }
 },
 "nbformat": 4,
 "nbformat_minor": 1
}
