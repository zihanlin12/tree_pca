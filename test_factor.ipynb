{
 "cells": [
  {
   "cell_type": "code",
   "execution_count": 1,
   "metadata": {},
   "outputs": [
    {
     "ename": "IOError",
     "evalue": "[Errno 2] No such file or directory: 'C:/Users/zihan/Desktop/Files/Research/npz_data/tree_portfolio.npz'",
     "output_type": "error",
     "traceback": [
      "\u001b[1;31m---------------------------------------------------------------------------\u001b[0m",
      "\u001b[1;31mIOError\u001b[0m                                   Traceback (most recent call last)",
      "\u001b[1;32m<ipython-input-1-5801277e8a51>\u001b[0m in \u001b[0;36m<module>\u001b[1;34m()\u001b[0m\n\u001b[0;32m      1\u001b[0m \u001b[1;32mimport\u001b[0m \u001b[0mnumpy\u001b[0m \u001b[1;32mas\u001b[0m \u001b[0mnp\u001b[0m\u001b[1;33m\u001b[0m\u001b[0m\n\u001b[0;32m      2\u001b[0m \u001b[1;32mimport\u001b[0m \u001b[0mmath\u001b[0m\u001b[1;33m\u001b[0m\u001b[0m\n\u001b[1;32m----> 3\u001b[1;33m \u001b[0mdata\u001b[0m\u001b[1;33m=\u001b[0m \u001b[0mnp\u001b[0m\u001b[1;33m.\u001b[0m\u001b[0mload\u001b[0m\u001b[1;33m(\u001b[0m\u001b[1;34m'C:/Users/zihan/Desktop/Files/Research/npz_data/tree_portfolio.npz'\u001b[0m\u001b[1;33m)\u001b[0m\u001b[1;33m\u001b[0m\u001b[0m\n\u001b[0m\u001b[0;32m      4\u001b[0m \u001b[0mportfolio_tree\u001b[0m\u001b[1;33m=\u001b[0m \u001b[0mdata\u001b[0m\u001b[1;33m[\u001b[0m\u001b[1;34m'portfolio'\u001b[0m\u001b[1;33m]\u001b[0m\u001b[1;33m\u001b[0m\u001b[0m\n\u001b[0;32m      5\u001b[0m \u001b[0mdata\u001b[0m\u001b[1;33m=\u001b[0m \u001b[0mnp\u001b[0m\u001b[1;33m.\u001b[0m\u001b[0mload\u001b[0m\u001b[1;33m(\u001b[0m\u001b[1;34m'C:/Users/zihan/Desktop/Files/Research/npz_data/decile_portfolio.npz'\u001b[0m\u001b[1;33m)\u001b[0m\u001b[1;33m\u001b[0m\u001b[0m\n",
      "\u001b[1;32mC:\\Users\\zihanlin\\Anaconda2\\lib\\site-packages\\numpy\\lib\\npyio.pyc\u001b[0m in \u001b[0;36mload\u001b[1;34m(file, mmap_mode, allow_pickle, fix_imports, encoding)\u001b[0m\n\u001b[0;32m    368\u001b[0m     \u001b[0mown_fid\u001b[0m \u001b[1;33m=\u001b[0m \u001b[0mFalse\u001b[0m\u001b[1;33m\u001b[0m\u001b[0m\n\u001b[0;32m    369\u001b[0m     \u001b[1;32mif\u001b[0m \u001b[0misinstance\u001b[0m\u001b[1;33m(\u001b[0m\u001b[0mfile\u001b[0m\u001b[1;33m,\u001b[0m \u001b[0mbasestring\u001b[0m\u001b[1;33m)\u001b[0m\u001b[1;33m:\u001b[0m\u001b[1;33m\u001b[0m\u001b[0m\n\u001b[1;32m--> 370\u001b[1;33m         \u001b[0mfid\u001b[0m \u001b[1;33m=\u001b[0m \u001b[0mopen\u001b[0m\u001b[1;33m(\u001b[0m\u001b[0mfile\u001b[0m\u001b[1;33m,\u001b[0m \u001b[1;34m\"rb\"\u001b[0m\u001b[1;33m)\u001b[0m\u001b[1;33m\u001b[0m\u001b[0m\n\u001b[0m\u001b[0;32m    371\u001b[0m         \u001b[0mown_fid\u001b[0m \u001b[1;33m=\u001b[0m \u001b[0mTrue\u001b[0m\u001b[1;33m\u001b[0m\u001b[0m\n\u001b[0;32m    372\u001b[0m     \u001b[1;32melif\u001b[0m \u001b[0mis_pathlib_path\u001b[0m\u001b[1;33m(\u001b[0m\u001b[0mfile\u001b[0m\u001b[1;33m)\u001b[0m\u001b[1;33m:\u001b[0m\u001b[1;33m\u001b[0m\u001b[0m\n",
      "\u001b[1;31mIOError\u001b[0m: [Errno 2] No such file or directory: 'C:/Users/zihan/Desktop/Files/Research/npz_data/tree_portfolio.npz'"
     ]
    }
   ],
   "source": [
    "import numpy as np\n",
    "import math\n",
    "data= np.load('C:/Users/zihanlin/Desktop/File/Research/npz_data/tree_portfolio.npz')\n",
    "portfolio_tree= data['portfolio']\n",
    "data= np.load('C:/Users/zihanlin/Desktop/File/Research/npz_data/decile_portfolio.npz')\n",
    "portfolio_decile= data['portfolio']\n",
    "def compute_alpha(K,portfolio,portfolio_test, RP= True, Corr= True, Time= True, delta= 600, Shrink= True):\n",
    "    # portfolio is the portfolio from which we get the factors, and portfolio_test is where we would like to test these factors.\n",
    "    import scipy.linalg as la\n",
    "    T, M = portfolio_test.shape\n",
    "    gamma = 10  \n",
    "    pricing_error= np.zeros((T,M ))\n",
    "    ones_T= np.ones((T, 1))\n",
    "    portfolio_t = portfolio\n",
    "    if Time: \n",
    "        if RP:\n",
    "            covmat_t= (np.identity(T)+ones_T.dot(ones_T.T)/(T*(2+T))).dot(portfolio_t)\n",
    "            covmat_t= (covmat_t.dot(portfolio_t.T)).dot(np.identity(T)+ones_T.dot(ones_T.T)/(T*(2+T)))       \n",
    "        else: \n",
    "            covmat_t= np.cov(portfolio_t)        \n",
    "    else:\n",
    "        if RP:\n",
    "            covmat_t = portfolio_t.T.dot(portfolio_t) \n",
    "            portfolio_mean_t = np.sum(portfolio_t, axis=0, keepdims= True)\n",
    "            covmat_t = covmat_t + portfolio_mean_t.T.dot(portfolio_mean_t)/T * gamma\n",
    "        else:\n",
    "            covmat_t= np.cov(portfolio_t.T)\n",
    "    if Corr:\n",
    "        covmat_t_diag= np.diag(1./np.sqrt(np.diag(covmat_t)))\n",
    "        covmat_t= covmat_t_diag.dot(covmat_t.dot(covmat_t_diag))\n",
    "        # Get the correlation matrix\n",
    "    if Time:\n",
    "        variance_t, Factor_t= la.eigh(covmat_t, eigvals=(T-K, T-1))\n",
    "        Factor_t= Factor_t[:,:K]\n",
    "        loading_t= Factor_t.T.dot(portfolio_t)\n",
    "    else:\n",
    "        variance_t, loading_t= la.eigh(covmat_t, eigvals=(M-K, M-1))\n",
    "        Factor_t= portfolio_t.dot(loading_t)\n",
    "    if Shrink:\n",
    "        for i in range(K):\n",
    "            threshold= np.partition(abs(loading_t[:,i]),-delta)[-delta]\n",
    "            loading_t[np.abs(loading_t[:,i])<threshold,i]=0\n",
    "            loading_t[:,i]= loading_t[:,i]/np.linalg.norm(loading_t[:,i])\n",
    "        Factor_t= portfolio_t.dot(loading_t)\n",
    "    portfolio_e= portfolio_test\n",
    "    loading_test= portfolio_e.T.dot(Factor_t).dot(np.linalg.inv(Factor_t.T.dot(Factor_t)))\n",
    "    pricing_error = (portfolio_test-Factor_t.dot(loading_test.T))\n",
    "#     pricing_error= pricing_error.dot(np.ones(T,1))\n",
    "    M_F= np.identity(T)-Factor_t.dot(np.linalg.inv(Factor_t.T.dot(Factor_t))).dot(Factor_t.T)\n",
    "    avg_pricing_error= np.sum(pricing_error, axis= 0)/(np.ones((1,T)).dot(M_F).dot(np.ones((T,1))))\n",
    "    return avg_pricing_error, pricing_error\n",
    "portfolio_tree= portfolio_tree*100\n",
    "portfolio_decile= portfolio_decile*100\n",
    "pricing_error, U= compute_alpha(4, portfolio_decile, portfolio_tree, True, True, True, 10, False)\n",
    "def get_covariance(U, K):\n",
    "    # Let U be a T*M matrix\n",
    "    T,M= U.shape\n",
    "    Sigma= 1/T*U.T.dot(U)\n",
    "    temp_matrix= np.tile(np.expand_dims(U, axis= 2), [1, 1, M])*np.tile(np.expand_dims(U, axis= 1), [1, M, 1])-np.tile(np.expand_dims(Sigma,0),[T,1,1]) \n",
    "    hat_theta= np.mean(temp_matrix**2, axis= 0)\n",
    "    w_T= 0.10*K*sqrt(math.log1p(M)/T)\n",
    "    Sigma_u= Sigma[Sigma>np.sqrt(hat_theta)*w_T]\n",
    "    return Sigma_u\n",
    "Sigma_u= get_covariance(U, 4)"
   ]
  },
  {
   "cell_type": "code",
   "execution_count": null,
   "metadata": {
    "collapsed": true
   },
   "outputs": [],
   "source": []
  }
 ],
 "metadata": {
  "kernelspec": {
   "display_name": "Python 2",
   "language": "python",
   "name": "python2"
  },
  "language_info": {
   "codemirror_mode": {
    "name": "ipython",
    "version": 2
   },
   "file_extension": ".py",
   "mimetype": "text/x-python",
   "name": "python",
   "nbconvert_exporter": "python",
   "pygments_lexer": "ipython2",
   "version": "2.7.13"
  }
 },
 "nbformat": 4,
 "nbformat_minor": 2
}
