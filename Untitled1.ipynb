{
 "cells": [
  {
   "cell_type": "code",
   "execution_count": 1,
   "metadata": {
    "collapsed": true
   },
   "outputs": [],
   "source": [
    "# Is pruning going to make things better.\n",
    "import time\n",
    "import pandas as pd\n",
    "import numpy as np"
   ]
  },
  {
   "cell_type": "code",
   "execution_count": 4,
   "metadata": {},
   "outputs": [
    {
     "name": "stdout",
     "output_type": "stream",
     "text": [
      "Have gone through iteration 0\n",
      "Have gone through iteration 20\n",
      "Have gone through iteration 40\n",
      "Have gone through iteration 60\n",
      "Have gone through iteration 80\n",
      "Have gone through iteration 100\n",
      "Have gone through iteration 120\n",
      "Have gone through iteration 140\n",
      "Have gone through iteration 160\n",
      "Have gone through iteration 180\n",
      "Have gone through iteration 200\n",
      "Have gone through iteration 220\n",
      "[ 0.18926683  0.19824101  0.29476639  0.37695158  0.39755273]\n"
     ]
    }
   ],
   "source": [
    "data= np.load('C:/Users/zihanlin/Desktop/File/Research/npz_data/tree_portfolio.npz')\n",
    "portfolio= data['portfolio']\n",
    "def compute_sharpe(K, delta, shrink= True):\n",
    "    import scipy.linalg as la\n",
    "    T, M= portfolio.shape\n",
    "    window= 120\n",
    "    optimal_return = np.zeros((T-window, K))\n",
    "    gamma = 10\n",
    "    for t in range(T-window):\n",
    "        if t % 20 == 0:\n",
    "            print('Have gone through iteration %d' % (t))\n",
    "        portfolio_t = portfolio[t:(t + window), :]\n",
    "        covmat_t = portfolio_t.T.dot(portfolio_t) \n",
    "        portfolio_mean_t = np.sum(portfolio_t, axis=0, keepdims= True)\n",
    "        covmat_t = covmat_t + portfolio_mean_t.T.dot(portfolio_mean_t)/window * gamma\n",
    "        covmat_t_diag= np.diag(1./np.sqrt(np.diag(covmat_t)))\n",
    "        covmat_t= covmat_t_diag.dot(covmat_t.dot(covmat_t_diag))\n",
    "        variance_t, loading_t= la.eigh(covmat_t, eigvals=(M-K, M-1))\n",
    "        if shrink:\n",
    "            for i in range(K):\n",
    "                threshold= np.partition(abs(loading_t[:,i]),-delta)[-delta]\n",
    "                loading_t[np.abs(loading_t[:,i])<threshold,i]=0\n",
    "                loading_t[:,i]  = loading_t[:,i]/np.linalg.norm(loading_t[:,i])\n",
    "        for i in range(K-1,-1,-1):   \n",
    "            loading_t_i= loading_t[:,i:K]\n",
    "            Factor_t= portfolio_t.dot(loading_t_i)\n",
    "            mu= np.mean(Factor_t, axis= 0)\n",
    "            covmat_factor= np.cov(Factor_t.T)\n",
    "            if i<K-1:\n",
    "                weight= np.linalg.inv(covmat_factor).dot(mu)\n",
    "            else:\n",
    "                weight= mu/covmat_factor\n",
    "            optimal_return[t,K-i-1] = (portfolio[t + window, :].dot(loading_t_i)).dot(weight)\n",
    "    return optimal_return\n",
    "K= 5\n",
    "optimal_return= compute_sharpe(5,600, True) \n",
    "optimal_sharpe= np.zeros((K))\n",
    "for i in range(K):\n",
    "    mean_optimal= np.mean(optimal_return[:,i])\n",
    "    cov_optimal= np.cov(optimal_return[:,i].T)\n",
    "    optimal_sharpe[i]= abs(mean_optimal)/np.sqrt(cov_optimal)\n",
    "print (optimal_sharpe)"
   ]
  },
  {
   "cell_type": "code",
   "execution_count": 42,
   "metadata": {},
   "outputs": [
    {
     "data": {
      "image/png": "[encoded data removed]",
      "text/plain": [
       "<matplotlib.figure.Figure at 0x11567a20>"
      ]
     },
     "metadata": {},
     "output_type": "display_data"
    }
   ],
   "source": [
    "data= pd.read_csv('C:\\Users\\zihan\\Desktop\\Files\\Research\\data\\Different_delta.csv', header= None)\n",
    "data= pd.DataFrame.as_matrix(data)\n",
    "import matplotlib.pyplot as plt\n",
    "plt.plot(data[0,:], data[1,:])\n",
    "plt.xlabel('Number of nonzero elements in sparse loading')\n",
    "plt.ylabel('Out of sample Sharpe Ratio with 4 factors')\n",
    "plt.savefig('C:\\Users\\zihan\\Desktop\\Files\\Research\\data\\sparse_sharpe.png')"
   ]
  },
  {
   "cell_type": "code",
   "execution_count": 40,
   "metadata": {},
   "outputs": [
    {
     "name": "stdout",
     "output_type": "stream",
     "text": [
      "[[0.43696379 0.46255574 0.45250099 0.44414463 0.44066382 0.43821086\n",
      "  0.43751154]]\n"
     ]
    }
   ],
   "source": [
    "# Code for setting up validation set, test set and "
   ]
  },
  {
   "cell_type": "code",
   "execution_count": null,
   "metadata": {
    "collapsed": true
   },
   "outputs": [],
   "source": []
  }
 ],
 "metadata": {
  "kernelspec": {
   "display_name": "Python 2",
   "language": "python",
   "name": "python2"
  },
  "language_info": {
   "codemirror_mode": {
    "name": "ipython",
    "version": 2
   },
   "file_extension": ".py",
   "mimetype": "text/x-python",
   "name": "python",
   "nbconvert_exporter": "python",
   "pygments_lexer": "ipython2",
   "version": "2.7.13"
  }
 },
 "nbformat": 4,
 "nbformat_minor": 2
}
