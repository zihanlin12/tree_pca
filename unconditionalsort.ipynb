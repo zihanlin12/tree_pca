{
 "cells": [
  {
   "cell_type": "code",
   "execution_count": 2,
   "metadata": {},
   "outputs": [
    {
     "name": "stdout",
     "output_type": "stream",
     "text": [
      "Saving data to C:/Users/zihan/Desktop/Files/Research/riskfreerate.npz\n",
      "Finished! \n"
     ]
    }
   ],
   "source": [
    "import pandas as pd\n",
    "import numpy as np\n",
    "fama_french_data= pd.read_csv('C:\\\\Users\\\\zihan\\\\Desktop\\\\Files\\\\Research\\\\F-F_Research_Data_Factors.csv')\n",
    "path_target = 'C:/Users/zihan/Desktop/Files/Research/riskfreerate.npz'\n",
    "print('Saving data to ' + path_target)\n",
    "np.savez(path_target, fama_french_data=fama_french_data)\n",
    "print('Finished! ')"
   ]
  },
  {
   "cell_type": "code",
   "execution_count": 1,
   "metadata": {
    "collapsed": true
   },
   "outputs": [],
   "source": [
    "# Unconditional sort\n",
    "import numpy as np\n",
    "import matplotlib.pyplot as plt\n",
    "loaddata = np.load('C:\\\\Users\\\\zihan\\\\Desktop\\\\Files\\\\Research\\\\bryankelly_without_missing.npz')\n",
    "data = loaddata['processed_data']\n",
    "date= loaddata['stockdate']\n",
    "fama_french_data= np.load('C:\\\\Users\\\\zihan\\\\Desktop\\\\Files\\\\Research\\\\riskfreerate.npz')\n",
    "fama_french_data= fama_french_data['fama_french_data']"
   ]
  },
  {
   "cell_type": "code",
   "execution_count": 2,
   "metadata": {
    "collapsed": true
   },
   "outputs": [
    {
     "name": "stdout",
     "output_type": "stream",
     "text": [
      "Saving data to C:/Users/zihan/Desktop/Files/Research/size_accrual_fama.npz\n",
      "Finished! \n"
     ]
    }
   ],
   "source": [
    "import pandas as pd\n",
    "size_accrual_fama= pd.read_csv('C:\\\\Users\\\\zihan\\\\Desktop\\\\Files\\\\Research\\\\25_Portfolios_ME_AC_5x5.csv')\n",
    "path_target = 'C:/Users/zihan/Desktop/Files/Research/size_accrual_fama.npz'\n",
    "print('Saving data to ' + path_target)\n",
    "np.savez(path_target, size_accrual_fama=size_accrual_fama)\n",
    "print('Finished! ')"
   ]
  },
  {
   "cell_type": "code",
   "execution_count": 3,
   "metadata": {
    "collapsed": true
   },
   "outputs": [
    {
     "name": "stdout",
     "output_type": "stream",
     "text": [
      "(1098, 5)\n",
      "(360, 25)\n"
     ]
    }
   ],
   "source": [
    "size_accrual_fama= np.load('C:\\\\Users\\\\zihan\\\\Desktop\\\\Files\\\\Research\\\\size_accrual_fama.npz')\n",
    "size_accrual_fama= size_accrual_fama['size_accrual_fama']\n",
    "print (fama_french_data.shape)\n",
    "r_f= fama_french_data[:,4]\n",
    "# normalize the interest rate because Fama French is 100%\n",
    "r_f= r_f/100\n",
    "date= fama_french_data[:,0]\n",
    "date_start= np.asscalar(np.argwhere(date==198406))\n",
    "date_end= np.asscalar(np.argwhere(date==201405))\n",
    "portfolio_date= size_accrual_fama[:,0]\n",
    "portfolio_date_start= np.asscalar(np.argwhere(portfolio_date==198406))\n",
    "portfolio_date_end= np.asscalar(np.argwhere(portfolio_date==201405))\n",
    "fama_portfolio= size_accrual_fama[portfolio_date_start:portfolio_date_end+1,1:26]/100\n",
    "print (fama_portfolio.shape)\n",
    "portfolio= fama_portfolio\n",
    "portfolio= fama_portfolio-(r_f[date_start:date_end+1:,np.newaxis])"
   ]
  },
  {
   "cell_type": "code",
   "execution_count": 53,
   "metadata": {},
   "outputs": [
    {
     "name": "stdout",
     "output_type": "stream",
     "text": [
      "(360, 304)\n"
     ]
    }
   ],
   "source": [
    "M = 5\n",
    "returns= data[:,:,1]\n",
    "returns= returns- (r_f[date_start:date_end+1:,np.newaxis])\n",
    "print (returns.shape)\n",
    "accural= data[:,:,20]\n",
    "size= data[:,:,17]\n",
    "T,N= returns.shape\n",
    "portfolio = np.zeros((T-1,25))\n",
    "for i in range(T-1):\n",
    "    return_t= returns[i+1,:]\n",
    "    basis= np.zeros((N, M*M))\n",
    "    for j in range(M):\n",
    "        for k in range(M):\n",
    "            quantile_accural_lower= np.percentile(accural[i,:], 100.0/M*(j))\n",
    "            quantile_accural_upper= np.percentile(accural[i,:], 100.0/M*(j+1))\n",
    "            quantile_size_lower= np.percentile(size[i,:], 100.0/M*(k))\n",
    "            quantile_size_upper = np.percentile(size[i,:], 100.0/M*(k+1))\n",
    "            basis[:,j*M+k]= (accural[i,:]>= quantile_accural_lower) & (accural[i,:]<= quantile_accural_upper)& (size[i,:]>= quantile_size_lower)& (size[i,:]<= quantile_size_upper)\n",
    "    portfolio[i,:]= return_t.dot(basis)"
   ]
  },
  {
   "cell_type": "code",
   "execution_count": 54,
   "metadata": {},
   "outputs": [
    {
     "name": "stdout",
     "output_type": "stream",
     "text": [
      "Have gone through iteration 0\n",
      "Have gone through iteration 20\n",
      "Have gone through iteration 40\n",
      "Have gone through iteration 60\n",
      "Have gone through iteration 80\n",
      "Have gone through iteration 100\n",
      "Have gone through iteration 120\n",
      "Have gone through iteration 140\n",
      "Have gone through iteration 160\n",
      "&0.06&0.07&0.08&0.08&0.11&0.13&0.17&0.18&0.18&0.18\n"
     ]
    }
   ],
   "source": [
    "# Perform Risk Premium PCA, and calculate out of sample PCA\n",
    "import scipy.linalg as la\n",
    "K = 11\n",
    "Factor = np.zeros((int(T / 2), K))\n",
    "start = int(T / 2) - 1\n",
    "gamma = 20\n",
    "for t in range(int(T / 2)):\n",
    "    if t % 20 == 0:\n",
    "        print('Have gone through iteration %d' % (t))\n",
    "    portfolio_t = portfolio[:(t + start), :]\n",
    "    # print (portfolio_t.shape)\n",
    "    covmat_t = portfolio_t.T.dot(portfolio_t) \n",
    "    # print (covmat_t.shape)\n",
    "    portfolio_mean_t = np.sum(portfolio_t, axis=0, keepdims= True)\n",
    "    # print (portfolio_mean_t.shape)\n",
    "    # print ((portfolio_mean_t.T.dot(portfolio_mean_t)).shape)\n",
    "    covmat_t = covmat_t + portfolio_mean_t.T.dot(portfolio_mean_t) / (t + start - 1) * gamma\n",
    "    # print (covmat_t.shape)\n",
    "    variance_t, loading_t = la.eigh(covmat_t, eigvals=(0, K))\n",
    "    Factor[t, :] = portfolio[t + start, :].dot(loading_t[:, :K])\n",
    "    # print (Factor.shape)\n",
    "output = []\n",
    "for K in range(1, 11):\n",
    "    mu = np.mean(Factor[:, :K], axis=0)\n",
    "    covmat_factor = np.cov(Factor[:, :K].T)\n",
    "    if K == 1:\n",
    "        output.append(abs(mu) * covmat_factor ** (-1 / 2))\n",
    "    else:\n",
    "        output.append(np.sqrt(np.dot(np.dot(mu, np.linalg.inv(covmat_factor)), mu.T)))\n",
    "twodecimals = [\"&%.2f\" % np.real(v) for v in output]\n",
    "print(''.join(twodecimals))"
   ]
  },
  {
   "cell_type": "code",
   "execution_count": 55,
   "metadata": {},
   "outputs": [
    {
     "name": "stdout",
     "output_type": "stream",
     "text": [
      "(1, 25)\n",
      "&0.22&0.24&0.28&0.28&0.29&0.29&0.30&0.30&0.30&0.33\n"
     ]
    }
   ],
   "source": [
    "# portfolio_demean = portfolio - np.mean(portfolio, axis=0)\n",
    "# # Dimension of portfolio: T*M\n",
    "# covmat = portfolio_demean.T.dot(portfolio_demean) / (T - 2)\n",
    "# variance, loading = np.linalg.eig(covmat)\n",
    "covmat = portfolio.T.dot(portfolio) \n",
    "portfolio_mean= np.sum(portfolio, axis= 0, keepdims=True)\n",
    "print (portfolio_mean.shape)\n",
    "covmat= covmat+ portfolio_mean.T.dot(portfolio_mean)/(T-1)*gamma\n",
    "loading= loading*np.sqrt(N)\n",
    "output= []\n",
    "loading_chosen = loading[:, :11]\n",
    "Factor = portfolio.dot(loading_chosen)/N\n",
    "for i in range(1, 11):\n",
    "    mu = np.mean(Factor[:,:i], axis=0)\n",
    "    covmat_factor = np.cov(Factor[:,:i].T)\n",
    "    if i==1: \n",
    "        output.append (abs(mu)*covmat_factor**(-1/2))\n",
    "    else:\n",
    "        output.append(np.sqrt(np.dot(np.dot(mu, np.linalg.inv(covmat_factor)), mu.T)))\n",
    "twodecimals = [\"&%.2f\" % np.real(v) for v in output]\n",
    "print (''.join(twodecimals))"
   ]
  },
  {
   "cell_type": "code",
   "execution_count": 56,
   "metadata": {},
   "outputs": [
    {
     "name": "stdout",
     "output_type": "stream",
     "text": [
      "Have gone through iteration 0\n",
      "Have gone through iteration 20\n",
      "Have gone through iteration 40\n",
      "Have gone through iteration 60\n",
      "Have gone through iteration 80\n",
      "Have gone through iteration 100\n",
      "Have gone through iteration 120\n",
      "Have gone through iteration 140\n",
      "Have gone through iteration 160\n",
      "Have gone through iteration 180\n",
      "Have gone through iteration 200\n",
      "Have gone through iteration 220\n",
      "&0.08&0.11&0.11&0.11&0.11&0.14&0.18&0.19&0.21&0.22\n"
     ]
    }
   ],
   "source": [
    "# Rolling window approach\n",
    "import scipy.linalg as la\n",
    "K = 11\n",
    "window= 120\n",
    "Factor = np.zeros((T-1-window, K))\n",
    "gamma = 10\n",
    "for t in range(T-1-window):\n",
    "    if t % 20 == 0:\n",
    "        print('Have gone through iteration %d' % (t))\n",
    "    portfolio_t = portfolio[t:(t + window), :]\n",
    "    # print (portfolio_t.shape)\n",
    "    covmat_t = portfolio_t.T.dot(portfolio_t) \n",
    "    # print (covmat_t.shape)\n",
    "    portfolio_mean_t = np.sum(portfolio_t, axis=0, keepdims= True)\n",
    "    # print (portfolio_mean_t.shape)\n",
    "    # print ((portfolio_mean_t.T.dot(portfolio_mean_t)).shape)\n",
    "    covmat_t = covmat_t + portfolio_mean_t.T.dot(portfolio_mean_t) / window * gamma\n",
    "    # print (covmat_t.shape)\n",
    "    variance_t, loading_t = la.eigh(covmat_t, eigvals=(0, K))\n",
    "    Factor[t, :] = portfolio[t + window, :].dot(loading_t[:, :K])\n",
    "    # print (Factor.shape)\n",
    "output = []\n",
    "for K in range(1, 11):\n",
    "    mu = np.mean(Factor[:, :K], axis=0)\n",
    "    # print (mu.shape)\n",
    "    covmat_factor = np.cov(Factor[:, :K].T)\n",
    "    # print (covmat_factor.shape)\n",
    "    if K == 1:\n",
    "        output.append(abs(mu) * covmat_factor ** (-1 / 2))\n",
    "    else:\n",
    "        output.append(np.sqrt(np.dot(np.dot(mu.T, np.linalg.inv(covmat_factor)), mu)))\n",
    "twodecimals = [\"&%.2f\" % np.real(v) for v in output]\n",
    "print(''.join(twodecimals))\n"
   ]
  },
  {
   "cell_type": "code",
   "execution_count": 52,
   "metadata": {},
   "outputs": [
    {
     "name": "stdout",
     "output_type": "stream",
     "text": [
      "Have gone through iteration 0\n",
      "Have gone through iteration 20\n",
      "Have gone through iteration 40\n",
      "Have gone through iteration 60\n",
      "Have gone through iteration 80\n",
      "Have gone through iteration 100\n",
      "Have gone through iteration 120\n",
      "Have gone through iteration 140\n",
      "Have gone through iteration 160\n",
      "Have gone through iteration 180\n",
      "Have gone through iteration 200\n",
      "Have gone through iteration 220\n",
      "&0.08&0.11&0.11&0.11&0.11&0.14&0.18&0.19&0.21&0.22\n"
     ]
    }
   ],
   "source": [
    "# Rolling window approach\n",
    "import scipy.linalg as la\n",
    "K = 11\n",
    "window= 120\n",
    "Factor = np.zeros((T-1-window, K))\n",
    "gamma = 100\n",
    "for t in range(T-1-window):\n",
    "    if t % 20 == 0:\n",
    "        print('Have gone through iteration %d' % (t))\n",
    "    portfolio_t = portfolio[t:(t + window), :]\n",
    "    # portfolio_mean= np.sum(portfolio, axis= 0, keepdims=True)\n",
    "    portfolio_demean_t = portfolio_t - np.mean(portfolio_t, axis=0, keepdims= True)\n",
    "    # print (portfolio_t.shape)\n",
    "    # covmat_t = portfolio_t.T.dot(portfolio_t) \n",
    "    # print (covmat_t.shape)\n",
    "    # portfolio_mean_t = np.sum(portfolio_t, axis=0, keepdims= True)\n",
    "    # print (portfolio_mean_t.shape)\n",
    "    # print ((portfolio_mean_t.T.dot(portfolio_mean_t)).shape)\n",
    "    # covmat_t = covmat_t + portfolio_mean_t.T.dot(portfolio_mean_t) / window * gamma\n",
    "    # print (covmat_t.shape)\n",
    "    covmat_t= portfolio_demean_t.T.dot(portfolio_demean_t)\n",
    "    variance_t, loading_t = la.eigh(covmat_t, eigvals=(0, K))\n",
    "    Factor[t, :] = portfolio[t + window, :].dot(loading_t[:, :K])\n",
    "    # print (Factor.shape)\n",
    "output = []\n",
    "for K in range(1, 11):\n",
    "    mu = np.mean(Factor[:, :K], axis=0)\n",
    "    # print (mu.shape)\n",
    "    covmat_factor = np.cov(Factor[:, :K].T)\n",
    "    # print (covmat_factor.shape)\n",
    "    if K == 1:\n",
    "        output.append(abs(mu) * covmat_factor ** (-1 / 2))\n",
    "    else:\n",
    "        output.append(np.sqrt(np.dot(np.dot(mu.T, np.linalg.inv(covmat_factor)), mu)))\n",
    "twodecimals = [\"&%.2f\" % np.real(v) for v in output]\n",
    "print(''.join(twodecimals))\n"
   ]
  },
  {
   "cell_type": "code",
   "execution_count": null,
   "metadata": {
    "collapsed": true
   },
   "outputs": [],
   "source": []
  }
 ],
 "metadata": {
  "kernelspec": {
   "display_name": "Python 2",
   "language": "python",
   "name": "python2"
  },
  "language_info": {
   "codemirror_mode": {
    "name": "ipython",
    "version": 2
   },
   "file_extension": ".py",
   "mimetype": "text/x-python",
   "name": "python",
   "nbconvert_exporter": "python",
   "pygments_lexer": "ipython2",
   "version": "2.7.13"
  }
 },
 "nbformat": 4,
 "nbformat_minor": 1
}
